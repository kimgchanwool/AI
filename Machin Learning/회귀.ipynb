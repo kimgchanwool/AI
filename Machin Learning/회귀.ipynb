{
 "cells": [
  {
   "cell_type": "code",
   "execution_count": 1,
   "id": "fa35b4b3",
   "metadata": {},
   "outputs": [],
   "source": [
    "from sklearn.linear_model import LinearRegression\n",
    "import numpy as np"
   ]
  },
  {
   "cell_type": "code",
   "execution_count": 41,
   "id": "7d092071",
   "metadata": {},
   "outputs": [],
   "source": [
    "np.random.seed(42)"
   ]
  },
  {
   "cell_type": "code",
   "execution_count": 28,
   "id": "8bc46153",
   "metadata": {},
   "outputs": [],
   "source": [
    "X = 2 * np.random.rand(100, 1)\n",
    "y = 4 + 3  * X + np.random.randn(100, 1) # y = 4 + 3x + 가우시안 노이즈(np.random.randn(100, 1))"
   ]
  },
  {
   "cell_type": "code",
   "execution_count": 29,
   "id": "e14ea0c1",
   "metadata": {},
   "outputs": [
    {
     "data": {
      "text/plain": [
       "(100, 1)"
      ]
     },
     "execution_count": 29,
     "metadata": {},
     "output_type": "execute_result"
    }
   ],
   "source": [
    "X.shape"
   ]
  },
  {
   "cell_type": "code",
   "execution_count": 30,
   "id": "17d5d9d7",
   "metadata": {
    "scrolled": true
   },
   "outputs": [
    {
     "data": {
      "text/plain": [
       "array([[0.02270729],\n",
       "       [0.93732128],\n",
       "       [0.11260655],\n",
       "       [0.23763583],\n",
       "       [0.23505249],\n",
       "       [1.2984206 ],\n",
       "       [1.49208976],\n",
       "       [1.16673753],\n",
       "       [1.9243451 ],\n",
       "       [0.74974116],\n",
       "       [0.57142417],\n",
       "       [1.73719826],\n",
       "       [0.44719168],\n",
       "       [1.92644508],\n",
       "       [0.02430895],\n",
       "       [1.93975765],\n",
       "       [0.08631982],\n",
       "       [1.78228623],\n",
       "       [1.05540222],\n",
       "       [1.98592959],\n",
       "       [0.14759313],\n",
       "       [1.10770857],\n",
       "       [1.93860507],\n",
       "       [1.04619569],\n",
       "       [1.25879728],\n",
       "       [1.39149738],\n",
       "       [0.90908213],\n",
       "       [1.25511616],\n",
       "       [1.16862862],\n",
       "       [1.80231602],\n",
       "       [0.09089276],\n",
       "       [0.56192638],\n",
       "       [1.90082297],\n",
       "       [1.78052757],\n",
       "       [0.91131351],\n",
       "       [1.2402652 ],\n",
       "       [0.55476237],\n",
       "       [0.37624232],\n",
       "       [0.92739681],\n",
       "       [0.70670446],\n",
       "       [1.16731222],\n",
       "       [0.15546927],\n",
       "       [1.94878962],\n",
       "       [1.97242149],\n",
       "       [1.39632343],\n",
       "       [1.07219273],\n",
       "       [0.61905523],\n",
       "       [1.62759004],\n",
       "       [1.36946235],\n",
       "       [0.32523388],\n",
       "       [1.82185437],\n",
       "       [1.64507449],\n",
       "       [1.89959983],\n",
       "       [1.45143902],\n",
       "       [1.22683039],\n",
       "       [0.83648607],\n",
       "       [1.86545697],\n",
       "       [1.73212778],\n",
       "       [0.09043734],\n",
       "       [0.05273395],\n",
       "       [0.75292673],\n",
       "       [1.62110666],\n",
       "       [1.97455226],\n",
       "       [0.30083378],\n",
       "       [1.18826143],\n",
       "       [0.76178171],\n",
       "       [1.9398288 ],\n",
       "       [1.68423785],\n",
       "       [1.67665741],\n",
       "       [0.93738632],\n",
       "       [0.829639  ],\n",
       "       [0.54681414],\n",
       "       [0.11275099],\n",
       "       [1.72944475],\n",
       "       [1.62580202],\n",
       "       [1.99943535],\n",
       "       [1.99327367],\n",
       "       [1.11086341],\n",
       "       [1.53797483],\n",
       "       [1.88953146],\n",
       "       [1.69929478],\n",
       "       [0.4946962 ],\n",
       "       [0.90108827],\n",
       "       [0.25831883],\n",
       "       [1.90810205],\n",
       "       [1.21234927],\n",
       "       [0.45728561],\n",
       "       [1.34340137],\n",
       "       [1.23625648],\n",
       "       [0.71632544],\n",
       "       [0.22711518],\n",
       "       [1.34314639],\n",
       "       [1.0406154 ],\n",
       "       [1.54463678],\n",
       "       [1.040327  ],\n",
       "       [1.704363  ],\n",
       "       [1.10381368],\n",
       "       [1.12187594],\n",
       "       [1.75330721],\n",
       "       [0.80696573]])"
      ]
     },
     "execution_count": 30,
     "metadata": {},
     "output_type": "execute_result"
    }
   ],
   "source": [
    "X"
   ]
  },
  {
   "cell_type": "code",
   "execution_count": 31,
   "id": "a12480a7",
   "metadata": {},
   "outputs": [
    {
     "data": {
      "text/plain": [
       "(100, 1)"
      ]
     },
     "execution_count": 31,
     "metadata": {},
     "output_type": "execute_result"
    }
   ],
   "source": [
    "y.shape"
   ]
  },
  {
   "cell_type": "code",
   "execution_count": 32,
   "id": "1b4fd1bf",
   "metadata": {},
   "outputs": [
    {
     "data": {
      "text/plain": [
       "array([[ 4.71349782],\n",
       "       [ 8.18059541],\n",
       "       [ 3.37289619],\n",
       "       [ 5.39895896],\n",
       "       [ 5.76358197],\n",
       "       [ 6.13652233],\n",
       "       [ 7.29301076],\n",
       "       [ 5.46098041],\n",
       "       [ 9.50362846],\n",
       "       [ 6.96676573],\n",
       "       [ 7.21662957],\n",
       "       [ 9.28568955],\n",
       "       [ 6.97019058],\n",
       "       [ 8.39923378],\n",
       "       [ 2.36954441],\n",
       "       [ 9.76372526],\n",
       "       [ 4.64302492],\n",
       "       [ 9.31416393],\n",
       "       [ 5.09876455],\n",
       "       [ 9.86866874],\n",
       "       [ 3.13830989],\n",
       "       [ 7.99279826],\n",
       "       [10.18241346],\n",
       "       [ 6.19870728],\n",
       "       [ 7.26252491],\n",
       "       [ 7.11527861],\n",
       "       [ 6.66456729],\n",
       "       [ 8.7204908 ],\n",
       "       [ 6.52015983],\n",
       "       [ 9.91099458],\n",
       "       [ 3.74242066],\n",
       "       [ 4.89290631],\n",
       "       [ 9.59543854],\n",
       "       [ 8.30634038],\n",
       "       [ 6.18029121],\n",
       "       [ 6.52291769],\n",
       "       [ 7.62901223],\n",
       "       [ 5.16399051],\n",
       "       [ 6.08246492],\n",
       "       [ 6.33409328],\n",
       "       [ 7.38960862],\n",
       "       [ 4.24543822],\n",
       "       [10.46053555],\n",
       "       [10.67477218],\n",
       "       [ 7.65846914],\n",
       "       [ 6.64075996],\n",
       "       [ 5.582114  ],\n",
       "       [ 6.58084895],\n",
       "       [ 6.59319597],\n",
       "       [ 6.3425759 ],\n",
       "       [11.11053082],\n",
       "       [ 8.68618742],\n",
       "       [10.27535644],\n",
       "       [ 8.6655672 ],\n",
       "       [10.75937198],\n",
       "       [ 7.62903313],\n",
       "       [ 9.46845331],\n",
       "       [ 8.2408429 ],\n",
       "       [ 2.6648657 ],\n",
       "       [ 4.36166548],\n",
       "       [ 5.50242946],\n",
       "       [ 7.44106628],\n",
       "       [ 9.27708389],\n",
       "       [ 3.82095334],\n",
       "       [ 9.25192593],\n",
       "       [ 7.1669849 ],\n",
       "       [ 9.81151375],\n",
       "       [10.53265768],\n",
       "       [ 9.10734054],\n",
       "       [ 5.95087476],\n",
       "       [ 8.01204109],\n",
       "       [ 6.17935248],\n",
       "       [ 3.30100683],\n",
       "       [ 8.99799558],\n",
       "       [ 8.0017878 ],\n",
       "       [ 8.61550631],\n",
       "       [10.90599857],\n",
       "       [ 9.24200687],\n",
       "       [ 7.21535692],\n",
       "       [10.23156362],\n",
       "       [ 8.44724177],\n",
       "       [ 4.99696323],\n",
       "       [ 6.11087089],\n",
       "       [ 3.91096572],\n",
       "       [ 9.77282779],\n",
       "       [ 6.80609769],\n",
       "       [ 5.64231366],\n",
       "       [ 7.979966  ],\n",
       "       [ 7.4698214 ],\n",
       "       [ 5.24141265],\n",
       "       [ 4.10457422],\n",
       "       [ 8.7848304 ],\n",
       "       [ 7.62276339],\n",
       "       [ 7.65635511],\n",
       "       [ 7.22031331],\n",
       "       [ 9.86447613],\n",
       "       [ 5.64203575],\n",
       "       [ 7.90898802],\n",
       "       [ 8.59729786],\n",
       "       [ 6.99149587]])"
      ]
     },
     "execution_count": 32,
     "metadata": {},
     "output_type": "execute_result"
    }
   ],
   "source": [
    "y"
   ]
  },
  {
   "cell_type": "code",
   "execution_count": 33,
   "id": "655373ca",
   "metadata": {},
   "outputs": [],
   "source": [
    "import matplotlib.pyplot as plt"
   ]
  },
  {
   "cell_type": "code",
   "execution_count": 34,
   "id": "024e3f85",
   "metadata": {},
   "outputs": [
    {
     "data": {
      "text/plain": [
       "(0.0, 2.0, 0.0, 15.0)"
      ]
     },
     "execution_count": 34,
     "metadata": {},
     "output_type": "execute_result"
    },
    {
     "data": {
      "image/png": "[encoded data removed]",
      "text/plain": [
       "<Figure size 432x288 with 1 Axes>"
      ]
     },
     "metadata": {
      "needs_background": "light"
     },
     "output_type": "display_data"
    }
   ],
   "source": [
    "plt.plot(X, y, 'b.')\n",
    "plt.axis([0, 2, 0, 15]) # x축 0부터 2까지 y축 0부터 15까지"
   ]
  },
  {
   "cell_type": "markdown",
   "id": "e1a2d286",
   "metadata": {},
   "source": [
    "* 정규방정식 (사이킷런 이용)"
   ]
  },
  {
   "cell_type": "code",
   "execution_count": 36,
   "id": "5982268c",
   "metadata": {},
   "outputs": [
    {
     "data": {
      "text/plain": [
       "LinearRegression()"
      ]
     },
     "execution_count": 36,
     "metadata": {},
     "output_type": "execute_result"
    }
   ],
   "source": [
    "from sklearn.linear_model import LinearRegression\n",
    "lin_reg = LinearRegression()\n",
    "lin_reg.fit(X, y)"
   ]
  },
  {
   "cell_type": "code",
   "execution_count": 37,
   "id": "9c0eb944",
   "metadata": {},
   "outputs": [
    {
     "data": {
      "text/plain": [
       "array([3.9202609])"
      ]
     },
     "execution_count": 37,
     "metadata": {},
     "output_type": "execute_result"
    }
   ],
   "source": [
    "lin_reg.intercept_ #절편이댜 4에 가까워야함"
   ]
  },
  {
   "cell_type": "code",
   "execution_count": 38,
   "id": "4da411f3",
   "metadata": {},
   "outputs": [
    {
     "data": {
      "text/plain": [
       "array([[2.9609808]])"
      ]
     },
     "execution_count": 38,
     "metadata": {},
     "output_type": "execute_result"
    }
   ],
   "source": [
    "lin_reg.coef_ #기울기 3에 가까워야함 이로써 3x + 4인 것을 알 수 있음."
   ]
  },
  {
   "cell_type": "code",
   "execution_count": 40,
   "id": "0a1cd905",
   "metadata": {},
   "outputs": [
    {
     "data": {
      "text/plain": [
       "0.7578867823765956"
      ]
     },
     "execution_count": 40,
     "metadata": {},
     "output_type": "execute_result"
    }
   ],
   "source": [
    "lin_reg.score(X, y) #예측부터 성능까지 나옴"
   ]
  },
  {
   "cell_type": "markdown",
   "id": "a74ba085",
   "metadata": {},
   "source": [
    "  ## 경사하강법"
   ]
  },
  {
   "cell_type": "code",
   "execution_count": 42,
   "id": "3ef78275",
   "metadata": {},
   "outputs": [],
   "source": [
    "X = 2 * np.random.rand(100, 1)\n",
    "y = 4 + 3  * X + np.random.randn(100, 1)"
   ]
  },
  {
   "cell_type": "code",
   "execution_count": 43,
   "id": "4d182781",
   "metadata": {},
   "outputs": [],
   "source": [
    "X_b = np.c_[np.ones((100, 1)), X]"
   ]
  },
  {
   "cell_type": "code",
   "execution_count": 44,
   "id": "ae764514",
   "metadata": {},
   "outputs": [
    {
     "data": {
      "text/plain": [
       "array([[0.74908024],\n",
       "       [1.90142861],\n",
       "       [1.46398788]])"
      ]
     },
     "execution_count": 44,
     "metadata": {},
     "output_type": "execute_result"
    }
   ],
   "source": [
    "X[:3]"
   ]
  },
  {
   "cell_type": "code",
   "execution_count": 46,
   "id": "88dd32f4",
   "metadata": {},
   "outputs": [
    {
     "data": {
      "text/plain": [
       "array([[1.        , 0.74908024],\n",
       "       [1.        , 1.90142861],\n",
       "       [1.        , 1.46398788]])"
      ]
     },
     "execution_count": 46,
     "metadata": {},
     "output_type": "execute_result"
    }
   ],
   "source": [
    "X_b[:3]# 1과 X로 이루어져 있다. 1로 이루어진 특성 추가 곱셈을 위해서임 = 절편이다."
   ]
  },
  {
   "cell_type": "code",
   "execution_count": null,
   "id": "9319d9db",
   "metadata": {},
   "outputs": [],
   "source": [
    "X_new_b = np.c_[np.ones((2, 1)), X_new]"
   ]
  },
  {
   "cell_type": "code",
   "execution_count": 86,
   "id": "516123c3",
   "metadata": {},
   "outputs": [],
   "source": [
    "eta = 0.1 #학습률\n",
    "n_iterations = 1000 #반복하기 위함의 용도 0.1씩 증가할때 100개를 다 돌려면 1000번의 반복이 필요\n",
    "m = 100 # 샘플의 개수가 100개\n",
    "theta = np.random.randn(2, 1) #2개 가져온다."
   ]
  },
  {
   "cell_type": "code",
   "execution_count": 87,
   "id": "848f9b55",
   "metadata": {
    "scrolled": true
   },
   "outputs": [
    {
     "data": {
      "text/plain": [
       "array([[-1.51936997],\n",
       "       [-0.48423407]])"
      ]
     },
     "execution_count": 87,
     "metadata": {},
     "output_type": "execute_result"
    }
   ],
   "source": [
    "theta "
   ]
  },
  {
   "cell_type": "markdown",
   "id": "720219d5",
   "metadata": {},
   "source": [
    "* 배치 경사하강법"
   ]
  },
  {
   "cell_type": "code",
   "execution_count": 88,
   "id": "47fa9655",
   "metadata": {},
   "outputs": [],
   "source": [
    "for iteration in range(n_iterations):\n",
    "    gradients = 2/m * X_b.T.dot(X_b.dot(theta) - y) # X_b.dot(theta)가 예측,    y는 실제값\n",
    "    #새로운 세타 = 기존 세타 - 학습률 * 기울기\n",
    "    theta = theta  - eta * gradients"
   ]
  },
  {
   "cell_type": "code",
   "execution_count": 89,
   "id": "bbddbc79",
   "metadata": {},
   "outputs": [
    {
     "data": {
      "text/plain": [
       "array([[4.21509616],\n",
       "       [2.77011339]])"
      ]
     },
     "execution_count": 89,
     "metadata": {},
     "output_type": "execute_result"
    }
   ],
   "source": [
    "theta #경사하강법으로 각각 4.21 과 2.77으로  절편 4와  기울기 3에 가까운 것을 알 수 있다."
   ]
  },
  {
   "cell_type": "code",
   "execution_count": 91,
   "id": "59c46452",
   "metadata": {},
   "outputs": [],
   "source": [
    "a = np.array([1, 2, 3, 4, 5])\n",
    "b = np.array([1, 1, 1, 1, 1])"
   ]
  },
  {
   "cell_type": "code",
   "execution_count": 95,
   "id": "542a645e",
   "metadata": {},
   "outputs": [
    {
     "data": {
      "text/plain": [
       "array([1, 2, 3, 4, 5])"
      ]
     },
     "execution_count": 95,
     "metadata": {},
     "output_type": "execute_result"
    }
   ],
   "source": [
    "a.T"
   ]
  },
  {
   "cell_type": "markdown",
   "id": "b91b9992",
   "metadata": {},
   "source": [
    "* 확률적 경사하강법"
   ]
  },
  {
   "cell_type": "code",
   "execution_count": 107,
   "id": "3783ee2d",
   "metadata": {},
   "outputs": [],
   "source": [
    "n_epochs = 50\n",
    "t0, t1 = 5, 50"
   ]
  },
  {
   "cell_type": "code",
   "execution_count": 108,
   "id": "8611d889",
   "metadata": {},
   "outputs": [],
   "source": [
    "def learning_schedule(t):\n",
    "    return t0 / (t + t1)"
   ]
  },
  {
   "cell_type": "code",
   "execution_count": 109,
   "id": "0fbbc331",
   "metadata": {},
   "outputs": [],
   "source": [
    "theta = np.random.randn(2, 1)"
   ]
  },
  {
   "cell_type": "code",
   "execution_count": 125,
   "id": "9fcceab3",
   "metadata": {},
   "outputs": [],
   "source": [
    "for epoch in range(n_epochs):\n",
    "    for i in range(m):\n",
    "        random_index = np.random.randint(m)\n",
    "        xi = X_b[random_index:random_index+1]\n",
    "        yi = y[random_index:random_index+1]\n",
    "        gradients = 2 * xi.T.dot(xi.dot(theta) - yi)\n",
    "        eta = learning_schedule(epoch * m + i)\n",
    "        theta = theta - eta * gradients"
   ]
  },
  {
   "cell_type": "code",
   "execution_count": 127,
   "id": "3b202867",
   "metadata": {},
   "outputs": [
    {
     "data": {
      "text/plain": [
       "array([[4.19310242],\n",
       "       [2.7329462 ]])"
      ]
     },
     "execution_count": 127,
     "metadata": {},
     "output_type": "execute_result"
    }
   ],
   "source": [
    "theta #각각 4와 3에 가까움"
   ]
  },
  {
   "cell_type": "code",
   "execution_count": 111,
   "id": "a6e0dc8f",
   "metadata": {},
   "outputs": [],
   "source": [
    "from sklearn.linear_model import SGDRegressor"
   ]
  },
  {
   "cell_type": "code",
   "execution_count": 124,
   "id": "1825d5e4",
   "metadata": {},
   "outputs": [
    {
     "data": {
      "text/plain": [
       "array([ 6.33428778,  9.40527849,  8.48372443,  5.60438199,  4.71643995,\n",
       "        5.29307969,  5.82639572,  8.67878666,  6.79819647,  7.74667842,\n",
       "        5.03890908, 10.14821022,  8.46489564,  5.7873021 ,  5.18802735,\n",
       "        6.06907205,  5.12340036,  6.82087644,  6.19956196,  4.28385989,\n",
       "        7.96723765,  5.09801844,  5.75798135,  5.96358393,  5.32104916,\n",
       "        8.29041045,  4.85532818,  6.28312936,  7.3932017 ,  4.68275333,\n",
       "        9.53145501,  5.19772255,  4.64785995,  9.61886731,  7.87502098,\n",
       "        8.82387021,  5.88791282,  7.0492748 ,  7.91303719,  6.9424623 ,\n",
       "        4.69751764,  5.80238342,  5.34915394, 10.20785545,  6.34371184,\n",
       "        7.06574625,  7.27306077,  5.71855706,  7.86711877,  7.29958236,\n",
       "        8.82697144,  8.08449921,  9.73664501,  8.86548845,  6.03673644,\n",
       "        9.59980838,  3.4686513 ,  5.64948961,  3.3519395 ,  7.50191639,\n",
       "        5.54881045,  5.30603267,  9.78594227,  4.90965564,  5.91306699,\n",
       "        8.56331925,  3.23806212,  8.99781574,  4.70718666, 10.70314449,\n",
       "        7.3965179 ,  3.87183748,  4.55507427,  9.18975324,  8.49163691,\n",
       "        8.72049122,  7.94759736,  4.67652161,  6.44386684,  3.98086294,\n",
       "       11.04439507,  8.21362168,  4.79408465,  5.03790371,  4.89121226,\n",
       "        6.73818454,  9.53623265,  7.00466251, 10.28665258,  7.24607048,\n",
       "        5.53962564, 10.17626171,  8.31932218,  6.61392702,  7.73628865,\n",
       "        6.14696329,  7.05929527,  6.90639808,  4.42920556,  5.47453181])"
      ]
     },
     "execution_count": 124,
     "metadata": {},
     "output_type": "execute_result"
    }
   ],
   "source": [
    "y.ravel() #다차원 배열 y를 1차원 배열로 만들어줌"
   ]
  },
  {
   "cell_type": "code",
   "execution_count": 121,
   "id": "2f7885a4",
   "metadata": {},
   "outputs": [
    {
     "data": {
      "text/plain": [
       "SGDRegressor(eta0=0.1, max_iter=50, penalty=None, random_state=42)"
      ]
     },
     "execution_count": 121,
     "metadata": {},
     "output_type": "execute_result"
    }
   ],
   "source": [
    "sgd_reg = SGDRegressor(max_iter = 50, eta0=0.1, penalty=None, random_state=42) #패널티는 규제이다. 파라미터가 과하게 커지는 것을 방지.\n",
    "sgd_reg.fit(X, y.ravel())"
   ]
  },
  {
   "cell_type": "code",
   "execution_count": 122,
   "id": "dc6d31a4",
   "metadata": {},
   "outputs": [
    {
     "data": {
      "text/plain": [
       "array([4.24365286])"
      ]
     },
     "execution_count": 122,
     "metadata": {},
     "output_type": "execute_result"
    }
   ],
   "source": [
    "sgd_reg.intercept_ #4에 가깝고"
   ]
  },
  {
   "cell_type": "code",
   "execution_count": 123,
   "id": "4f5f70c6",
   "metadata": {},
   "outputs": [
    {
     "data": {
      "text/plain": [
       "array([2.8250878])"
      ]
     },
     "execution_count": 123,
     "metadata": {},
     "output_type": "execute_result"
    }
   ],
   "source": [
    "sgd_reg.coef_ #3에 가까움"
   ]
  },
  {
   "cell_type": "code",
   "execution_count": 128,
   "id": "2849e4f4",
   "metadata": {},
   "outputs": [],
   "source": [
    "a = np.array([1, 2, 3, 4, 5])"
   ]
  },
  {
   "cell_type": "code",
   "execution_count": 129,
   "id": "6c942ec8",
   "metadata": {},
   "outputs": [
    {
     "data": {
      "text/plain": [
       "array([ 1,  4,  9, 16, 25], dtype=int32)"
      ]
     },
     "execution_count": 129,
     "metadata": {},
     "output_type": "execute_result"
    }
   ],
   "source": [
    "a**2"
   ]
  },
  {
   "cell_type": "code",
   "execution_count": 130,
   "id": "39daf829",
   "metadata": {},
   "outputs": [
    {
     "data": {
      "text/plain": [
       "(array([1, 2, 3, 4, 5]), array([ 1,  4,  9, 16, 25], dtype=int32))"
      ]
     },
     "execution_count": 130,
     "metadata": {},
     "output_type": "execute_result"
    }
   ],
   "source": [
    "a, a**2"
   ]
  },
  {
   "cell_type": "code",
   "execution_count": 142,
   "id": "14e0ae67",
   "metadata": {},
   "outputs": [
    {
     "data": {
      "text/plain": [
       "[array([1, 2, 3, 4, 5]), array([ 1,  4,  9, 16, 25], dtype=int32)]"
      ]
     },
     "execution_count": 142,
     "metadata": {},
     "output_type": "execute_result"
    }
   ],
   "source": [
    "c = [a, a**2]\n",
    "c"
   ]
  },
  {
   "cell_type": "markdown",
   "id": "6b87045d",
   "metadata": {},
   "source": [
    "# 다항회귀"
   ]
  },
  {
   "cell_type": "code",
   "execution_count": 143,
   "id": "1efcfea7",
   "metadata": {},
   "outputs": [],
   "source": [
    "import numpy as np"
   ]
  },
  {
   "cell_type": "code",
   "execution_count": 145,
   "id": "1e277248",
   "metadata": {},
   "outputs": [],
   "source": [
    "m = 100\n",
    "X = 6 * np.random.rand(m, 1) - 3\n",
    "y = 0.5 * X ** 2 + X + 2 + np.random.randn(m, 1) #2차원에 대한 선형 회귀"
   ]
  },
  {
   "cell_type": "code",
   "execution_count": 149,
   "id": "ed70b7b4",
   "metadata": {},
   "outputs": [
    {
     "data": {
      "image/png": "[encoded data removed]",
      "text/plain": [
       "<Figure size 432x288 with 1 Axes>"
      ]
     },
     "metadata": {
      "needs_background": "light"
     },
     "output_type": "display_data"
    }
   ],
   "source": [
    "plt.plot(X, y, 'b.')\n",
    "plt.axis([-3, 3, 0, 10])\n",
    "plt.show()"
   ]
  },
  {
   "cell_type": "code",
   "execution_count": 156,
   "id": "b5486553",
   "metadata": {
    "scrolled": true
   },
   "outputs": [
    {
     "data": {
      "text/plain": [
       "(array([[-1.20685719],\n",
       "        [-2.35765693],\n",
       "        [-0.35965172],\n",
       "        [ 1.37827144],\n",
       "        [ 2.64132483],\n",
       "        [ 0.62278195],\n",
       "        [ 2.17881323],\n",
       "        [ 1.9349679 ],\n",
       "        [-1.95994168],\n",
       "        [-0.08509543],\n",
       "        [-2.29845879],\n",
       "        [ 1.09291897],\n",
       "        [ 2.69939801],\n",
       "        [-2.17746325],\n",
       "        [ 1.40329878],\n",
       "        [ 0.79342891],\n",
       "        [ 0.50163022],\n",
       "        [-0.65927859],\n",
       "        [-0.86921011],\n",
       "        [-2.72850487],\n",
       "        [-1.69254775],\n",
       "        [-2.90893871],\n",
       "        [ 0.48850263],\n",
       "        [-2.36488058],\n",
       "        [ 2.23811636],\n",
       "        [ 0.13885812],\n",
       "        [ 1.19813945],\n",
       "        [-0.53485745],\n",
       "        [ 0.36347885],\n",
       "        [ 2.65595506],\n",
       "        [-2.50359576],\n",
       "        [-1.47637337],\n",
       "        [ 1.67992996],\n",
       "        [-2.40757676],\n",
       "        [-2.54603338],\n",
       "        [-0.83075161],\n",
       "        [-2.44699225],\n",
       "        [ 0.51047065],\n",
       "        [-1.6423485 ],\n",
       "        [ 2.37418778],\n",
       "        [ 1.70100049],\n",
       "        [ 1.19823124],\n",
       "        [ 0.70166416],\n",
       "        [ 2.18079438],\n",
       "        [-1.66162763],\n",
       "        [ 2.23865306],\n",
       "        [ 1.73695379],\n",
       "        [ 1.48896496],\n",
       "        [ 0.36753407],\n",
       "        [-1.52253503],\n",
       "        [-0.4587125 ],\n",
       "        [ 1.76142393],\n",
       "        [-2.80932909],\n",
       "        [ 1.69230462],\n",
       "        [-1.55957556],\n",
       "        [-2.1341448 ],\n",
       "        [-2.30579209],\n",
       "        [-2.83649993],\n",
       "        [ 0.14151891],\n",
       "        [-1.69044076],\n",
       "        [ 2.93659059],\n",
       "        [ 0.44662054],\n",
       "        [-2.17268838],\n",
       "        [ 1.13257524],\n",
       "        [ 2.3864614 ],\n",
       "        [ 1.47107697],\n",
       "        [-2.54136083],\n",
       "        [ 2.37530509],\n",
       "        [ 1.76357632],\n",
       "        [-2.0501766 ],\n",
       "        [-2.68928467],\n",
       "        [ 0.34386345],\n",
       "        [-2.06378513],\n",
       "        [ 2.00754572],\n",
       "        [-0.84999206],\n",
       "        [ 2.47735467],\n",
       "        [ 0.39412903],\n",
       "        [-1.90396569],\n",
       "        [-2.1624068 ],\n",
       "        [ 0.45883463],\n",
       "        [ 1.57130167],\n",
       "        [ 1.68903389],\n",
       "        [-1.34545557],\n",
       "        [-1.77451945],\n",
       "        [-2.89946217],\n",
       "        [ 1.07519491],\n",
       "        [-2.54059045],\n",
       "        [-0.47543279],\n",
       "        [ 0.61009298],\n",
       "        [ 2.62265367],\n",
       "        [-1.12918718],\n",
       "        [-1.50136703],\n",
       "        [ 0.92496093],\n",
       "        [ 0.71543419],\n",
       "        [-1.0073413 ],\n",
       "        [ 2.56861101],\n",
       "        [ 2.06917396],\n",
       "        [-1.65610472],\n",
       "        [-1.56514473],\n",
       "        [ 0.07380208]]),\n",
       " array([[1.45650427e+00],\n",
       "        [5.55854619e+00],\n",
       "        [1.29349360e-01],\n",
       "        [1.89963216e+00],\n",
       "        [6.97659688e+00],\n",
       "        [3.87857359e-01],\n",
       "        [4.74722708e+00],\n",
       "        [3.74410076e+00],\n",
       "        [3.84137140e+00],\n",
       "        [7.24123162e-03],\n",
       "        [5.28291279e+00],\n",
       "        [1.19447187e+00],\n",
       "        [7.28674961e+00],\n",
       "        [4.74134621e+00],\n",
       "        [1.96924748e+00],\n",
       "        [6.29529428e-01],\n",
       "        [2.51632880e-01],\n",
       "        [4.34648262e-01],\n",
       "        [7.55526221e-01],\n",
       "        [7.44473880e+00],\n",
       "        [2.86471789e+00],\n",
       "        [8.46192440e+00],\n",
       "        [2.38634823e-01],\n",
       "        [5.59266018e+00],\n",
       "        [5.00916486e+00],\n",
       "        [1.92815787e-02],\n",
       "        [1.43553815e+00],\n",
       "        [2.86072491e-01],\n",
       "        [1.32116877e-01],\n",
       "        [7.05409729e+00],\n",
       "        [6.26799174e+00],\n",
       "        [2.17967832e+00],\n",
       "        [2.82216468e+00],\n",
       "        [5.79642585e+00],\n",
       "        [6.48228595e+00],\n",
       "        [6.90148233e-01],\n",
       "        [5.98777107e+00],\n",
       "        [2.60580288e-01],\n",
       "        [2.69730858e+00],\n",
       "        [5.63676761e+00],\n",
       "        [2.89340265e+00],\n",
       "        [1.43575810e+00],\n",
       "        [4.92332599e-01],\n",
       "        [4.75586414e+00],\n",
       "        [2.76100638e+00],\n",
       "        [5.01156751e+00],\n",
       "        [3.01700847e+00],\n",
       "        [2.21701665e+00],\n",
       "        [1.35081291e-01],\n",
       "        [2.31811293e+00],\n",
       "        [2.10417161e-01],\n",
       "        [3.10261425e+00],\n",
       "        [7.89232996e+00],\n",
       "        [2.86389491e+00],\n",
       "        [2.43227592e+00],\n",
       "        [4.55457401e+00],\n",
       "        [5.31667717e+00],\n",
       "        [8.04573184e+00],\n",
       "        [2.00276023e-02],\n",
       "        [2.85758998e+00],\n",
       "        [8.62356432e+00],\n",
       "        [1.99469902e-01],\n",
       "        [4.72057481e+00],\n",
       "        [1.28272669e+00],\n",
       "        [5.69519801e+00],\n",
       "        [2.16406746e+00],\n",
       "        [6.45851489e+00],\n",
       "        [5.64207426e+00],\n",
       "        [3.11020142e+00],\n",
       "        [4.20322409e+00],\n",
       "        [7.23225202e+00],\n",
       "        [1.18242074e-01],\n",
       "        [4.25920907e+00],\n",
       "        [4.03023980e+00],\n",
       "        [7.22486502e-01],\n",
       "        [6.13728615e+00],\n",
       "        [1.55337695e-01],\n",
       "        [3.62508537e+00],\n",
       "        [4.67600315e+00],\n",
       "        [2.10529213e-01],\n",
       "        [2.46898894e+00],\n",
       "        [2.85283547e+00],\n",
       "        [1.81025070e+00],\n",
       "        [3.14891927e+00],\n",
       "        [8.40688089e+00],\n",
       "        [1.15604409e+00],\n",
       "        [6.45459983e+00],\n",
       "        [2.26036337e-01],\n",
       "        [3.72213449e-01],\n",
       "        [6.87831227e+00],\n",
       "        [1.27506368e+00],\n",
       "        [2.25410294e+00],\n",
       "        [8.55552714e-01],\n",
       "        [5.11846084e-01],\n",
       "        [1.01473649e+00],\n",
       "        [6.59776254e+00],\n",
       "        [4.28148090e+00],\n",
       "        [2.74268286e+00],\n",
       "        [2.44967802e+00],\n",
       "        [5.44674721e-03]]))"
      ]
     },
     "execution_count": 156,
     "metadata": {},
     "output_type": "execute_result"
    }
   ],
   "source": [
    "from sklearn.preprocessing import PolynomialFeatures\n",
    "poly_features = PolynomialFeatures(degree=2, include_bias=False) #bias True면 항이 하나 더 생긴다.\n",
    "X_poly = poly_features.fit_transform(X)\n"
   ]
  },
  {
   "cell_type": "code",
   "execution_count": 160,
   "id": "c96c326e",
   "metadata": {
    "scrolled": true
   },
   "outputs": [],
   "source": [
    "from sklearn.preprocessing import PolynomialFeatures\n",
    "from sklearn.linear_model import LinearRegression\n",
    "poly_features = PolynomialFeatures(degree=2, include_bias=False) #bias True면 항이 하나 더 생긴다.\n",
    "X_poly = poly_features.fit_transform(X)"
   ]
  },
  {
   "cell_type": "code",
   "execution_count": 163,
   "id": "c0d7b91a",
   "metadata": {},
   "outputs": [],
   "source": [
    "np.random.seed(42)"
   ]
  },
  {
   "cell_type": "code",
   "execution_count": 164,
   "id": "668460d4",
   "metadata": {},
   "outputs": [
    {
     "data": {
      "text/plain": [
       "(array([[-1.20685719],\n",
       "        [-2.35765693],\n",
       "        [-0.35965172],\n",
       "        [ 1.37827144],\n",
       "        [ 2.64132483],\n",
       "        [ 0.62278195],\n",
       "        [ 2.17881323],\n",
       "        [ 1.9349679 ],\n",
       "        [-1.95994168],\n",
       "        [-0.08509543],\n",
       "        [-2.29845879],\n",
       "        [ 1.09291897],\n",
       "        [ 2.69939801],\n",
       "        [-2.17746325],\n",
       "        [ 1.40329878],\n",
       "        [ 0.79342891],\n",
       "        [ 0.50163022],\n",
       "        [-0.65927859],\n",
       "        [-0.86921011],\n",
       "        [-2.72850487],\n",
       "        [-1.69254775],\n",
       "        [-2.90893871],\n",
       "        [ 0.48850263],\n",
       "        [-2.36488058],\n",
       "        [ 2.23811636],\n",
       "        [ 0.13885812],\n",
       "        [ 1.19813945],\n",
       "        [-0.53485745],\n",
       "        [ 0.36347885],\n",
       "        [ 2.65595506],\n",
       "        [-2.50359576],\n",
       "        [-1.47637337],\n",
       "        [ 1.67992996],\n",
       "        [-2.40757676],\n",
       "        [-2.54603338],\n",
       "        [-0.83075161],\n",
       "        [-2.44699225],\n",
       "        [ 0.51047065],\n",
       "        [-1.6423485 ],\n",
       "        [ 2.37418778],\n",
       "        [ 1.70100049],\n",
       "        [ 1.19823124],\n",
       "        [ 0.70166416],\n",
       "        [ 2.18079438],\n",
       "        [-1.66162763],\n",
       "        [ 2.23865306],\n",
       "        [ 1.73695379],\n",
       "        [ 1.48896496],\n",
       "        [ 0.36753407],\n",
       "        [-1.52253503],\n",
       "        [-0.4587125 ],\n",
       "        [ 1.76142393],\n",
       "        [-2.80932909],\n",
       "        [ 1.69230462],\n",
       "        [-1.55957556],\n",
       "        [-2.1341448 ],\n",
       "        [-2.30579209],\n",
       "        [-2.83649993],\n",
       "        [ 0.14151891],\n",
       "        [-1.69044076],\n",
       "        [ 2.93659059],\n",
       "        [ 0.44662054],\n",
       "        [-2.17268838],\n",
       "        [ 1.13257524],\n",
       "        [ 2.3864614 ],\n",
       "        [ 1.47107697],\n",
       "        [-2.54136083],\n",
       "        [ 2.37530509],\n",
       "        [ 1.76357632],\n",
       "        [-2.0501766 ],\n",
       "        [-2.68928467],\n",
       "        [ 0.34386345],\n",
       "        [-2.06378513],\n",
       "        [ 2.00754572],\n",
       "        [-0.84999206],\n",
       "        [ 2.47735467],\n",
       "        [ 0.39412903],\n",
       "        [-1.90396569],\n",
       "        [-2.1624068 ],\n",
       "        [ 0.45883463],\n",
       "        [ 1.57130167],\n",
       "        [ 1.68903389],\n",
       "        [-1.34545557],\n",
       "        [-1.77451945],\n",
       "        [-2.89946217],\n",
       "        [ 1.07519491],\n",
       "        [-2.54059045],\n",
       "        [-0.47543279],\n",
       "        [ 0.61009298],\n",
       "        [ 2.62265367],\n",
       "        [-1.12918718],\n",
       "        [-1.50136703],\n",
       "        [ 0.92496093],\n",
       "        [ 0.71543419],\n",
       "        [-1.0073413 ],\n",
       "        [ 2.56861101],\n",
       "        [ 2.06917396],\n",
       "        [-1.65610472],\n",
       "        [-1.56514473],\n",
       "        [ 0.07380208]]),\n",
       " array([[1.45650427e+00],\n",
       "        [5.55854619e+00],\n",
       "        [1.29349360e-01],\n",
       "        [1.89963216e+00],\n",
       "        [6.97659688e+00],\n",
       "        [3.87857359e-01],\n",
       "        [4.74722708e+00],\n",
       "        [3.74410076e+00],\n",
       "        [3.84137140e+00],\n",
       "        [7.24123162e-03],\n",
       "        [5.28291279e+00],\n",
       "        [1.19447187e+00],\n",
       "        [7.28674961e+00],\n",
       "        [4.74134621e+00],\n",
       "        [1.96924748e+00],\n",
       "        [6.29529428e-01],\n",
       "        [2.51632880e-01],\n",
       "        [4.34648262e-01],\n",
       "        [7.55526221e-01],\n",
       "        [7.44473880e+00],\n",
       "        [2.86471789e+00],\n",
       "        [8.46192440e+00],\n",
       "        [2.38634823e-01],\n",
       "        [5.59266018e+00],\n",
       "        [5.00916486e+00],\n",
       "        [1.92815787e-02],\n",
       "        [1.43553815e+00],\n",
       "        [2.86072491e-01],\n",
       "        [1.32116877e-01],\n",
       "        [7.05409729e+00],\n",
       "        [6.26799174e+00],\n",
       "        [2.17967832e+00],\n",
       "        [2.82216468e+00],\n",
       "        [5.79642585e+00],\n",
       "        [6.48228595e+00],\n",
       "        [6.90148233e-01],\n",
       "        [5.98777107e+00],\n",
       "        [2.60580288e-01],\n",
       "        [2.69730858e+00],\n",
       "        [5.63676761e+00],\n",
       "        [2.89340265e+00],\n",
       "        [1.43575810e+00],\n",
       "        [4.92332599e-01],\n",
       "        [4.75586414e+00],\n",
       "        [2.76100638e+00],\n",
       "        [5.01156751e+00],\n",
       "        [3.01700847e+00],\n",
       "        [2.21701665e+00],\n",
       "        [1.35081291e-01],\n",
       "        [2.31811293e+00],\n",
       "        [2.10417161e-01],\n",
       "        [3.10261425e+00],\n",
       "        [7.89232996e+00],\n",
       "        [2.86389491e+00],\n",
       "        [2.43227592e+00],\n",
       "        [4.55457401e+00],\n",
       "        [5.31667717e+00],\n",
       "        [8.04573184e+00],\n",
       "        [2.00276023e-02],\n",
       "        [2.85758998e+00],\n",
       "        [8.62356432e+00],\n",
       "        [1.99469902e-01],\n",
       "        [4.72057481e+00],\n",
       "        [1.28272669e+00],\n",
       "        [5.69519801e+00],\n",
       "        [2.16406746e+00],\n",
       "        [6.45851489e+00],\n",
       "        [5.64207426e+00],\n",
       "        [3.11020142e+00],\n",
       "        [4.20322409e+00],\n",
       "        [7.23225202e+00],\n",
       "        [1.18242074e-01],\n",
       "        [4.25920907e+00],\n",
       "        [4.03023980e+00],\n",
       "        [7.22486502e-01],\n",
       "        [6.13728615e+00],\n",
       "        [1.55337695e-01],\n",
       "        [3.62508537e+00],\n",
       "        [4.67600315e+00],\n",
       "        [2.10529213e-01],\n",
       "        [2.46898894e+00],\n",
       "        [2.85283547e+00],\n",
       "        [1.81025070e+00],\n",
       "        [3.14891927e+00],\n",
       "        [8.40688089e+00],\n",
       "        [1.15604409e+00],\n",
       "        [6.45459983e+00],\n",
       "        [2.26036337e-01],\n",
       "        [3.72213449e-01],\n",
       "        [6.87831227e+00],\n",
       "        [1.27506368e+00],\n",
       "        [2.25410294e+00],\n",
       "        [8.55552714e-01],\n",
       "        [5.11846084e-01],\n",
       "        [1.01473649e+00],\n",
       "        [6.59776254e+00],\n",
       "        [4.28148090e+00],\n",
       "        [2.74268286e+00],\n",
       "        [2.44967802e+00],\n",
       "        [5.44674721e-03]]))"
      ]
     },
     "execution_count": 164,
     "metadata": {},
     "output_type": "execute_result"
    }
   ],
   "source": [
    "c_2 = X, X**2\n",
    "c_2"
   ]
  },
  {
   "cell_type": "code",
   "execution_count": 165,
   "id": "f308a065",
   "metadata": {},
   "outputs": [
    {
     "data": {
      "text/plain": [
       "['x0', 'x0^2']"
      ]
     },
     "execution_count": 165,
     "metadata": {},
     "output_type": "execute_result"
    }
   ],
   "source": [
    "poly_features.get_feature_names()"
   ]
  },
  {
   "cell_type": "code",
   "execution_count": 166,
   "id": "37f589cf",
   "metadata": {},
   "outputs": [
    {
     "data": {
      "text/plain": [
       "array([-1.20685719])"
      ]
     },
     "execution_count": 166,
     "metadata": {},
     "output_type": "execute_result"
    }
   ],
   "source": [
    "X[0]"
   ]
  },
  {
   "cell_type": "code",
   "execution_count": 167,
   "id": "c63670a3",
   "metadata": {
    "scrolled": true
   },
   "outputs": [
    {
     "data": {
      "text/plain": [
       "array([-1.20685719,  1.45650427])"
      ]
     },
     "execution_count": 167,
     "metadata": {},
     "output_type": "execute_result"
    }
   ],
   "source": [
    "X_poly[0]"
   ]
  },
  {
   "cell_type": "code",
   "execution_count": 168,
   "id": "b7db62e3",
   "metadata": {},
   "outputs": [
    {
     "data": {
      "text/plain": [
       "LinearRegression()"
      ]
     },
     "execution_count": 168,
     "metadata": {},
     "output_type": "execute_result"
    }
   ],
   "source": [
    "lin_reg = LinearRegression()\n",
    "lin_reg.fit(X_poly, y)"
   ]
  },
  {
   "cell_type": "code",
   "execution_count": 170,
   "id": "5342eb0d",
   "metadata": {
    "scrolled": true
   },
   "outputs": [
    {
     "data": {
      "text/plain": [
       "array([[-1.20685719e+00,  1.45650427e+00],\n",
       "       [-2.35765693e+00,  5.55854619e+00],\n",
       "       [-3.59651721e-01,  1.29349360e-01],\n",
       "       [ 1.37827144e+00,  1.89963216e+00],\n",
       "       [ 2.64132483e+00,  6.97659688e+00],\n",
       "       [ 6.22781952e-01,  3.87857359e-01],\n",
       "       [ 2.17881323e+00,  4.74722708e+00],\n",
       "       [ 1.93496790e+00,  3.74410076e+00],\n",
       "       [-1.95994168e+00,  3.84137140e+00],\n",
       "       [-8.50954265e-02,  7.24123162e-03],\n",
       "       [-2.29845879e+00,  5.28291279e+00],\n",
       "       [ 1.09291897e+00,  1.19447187e+00],\n",
       "       [ 2.69939801e+00,  7.28674961e+00],\n",
       "       [-2.17746325e+00,  4.74134621e+00],\n",
       "       [ 1.40329878e+00,  1.96924748e+00],\n",
       "       [ 7.93428905e-01,  6.29529428e-01],\n",
       "       [ 5.01630222e-01,  2.51632880e-01],\n",
       "       [-6.59278592e-01,  4.34648262e-01],\n",
       "       [-8.69210113e-01,  7.55526221e-01],\n",
       "       [-2.72850487e+00,  7.44473880e+00],\n",
       "       [-1.69254775e+00,  2.86471789e+00],\n",
       "       [-2.90893871e+00,  8.46192440e+00],\n",
       "       [ 4.88502633e-01,  2.38634823e-01],\n",
       "       [-2.36488058e+00,  5.59266018e+00],\n",
       "       [ 2.23811636e+00,  5.00916486e+00],\n",
       "       [ 1.38858124e-01,  1.92815787e-02],\n",
       "       [ 1.19813945e+00,  1.43553815e+00],\n",
       "       [-5.34857449e-01,  2.86072491e-01],\n",
       "       [ 3.63478854e-01,  1.32116877e-01],\n",
       "       [ 2.65595506e+00,  7.05409729e+00],\n",
       "       [-2.50359576e+00,  6.26799174e+00],\n",
       "       [-1.47637337e+00,  2.17967832e+00],\n",
       "       [ 1.67992996e+00,  2.82216468e+00],\n",
       "       [-2.40757676e+00,  5.79642585e+00],\n",
       "       [-2.54603338e+00,  6.48228595e+00],\n",
       "       [-8.30751607e-01,  6.90148233e-01],\n",
       "       [-2.44699225e+00,  5.98777107e+00],\n",
       "       [ 5.10470653e-01,  2.60580288e-01],\n",
       "       [-1.64234850e+00,  2.69730858e+00],\n",
       "       [ 2.37418778e+00,  5.63676761e+00],\n",
       "       [ 1.70100049e+00,  2.89340265e+00],\n",
       "       [ 1.19823124e+00,  1.43575810e+00],\n",
       "       [ 7.01664164e-01,  4.92332599e-01],\n",
       "       [ 2.18079438e+00,  4.75586414e+00],\n",
       "       [-1.66162763e+00,  2.76100638e+00],\n",
       "       [ 2.23865306e+00,  5.01156751e+00],\n",
       "       [ 1.73695379e+00,  3.01700847e+00],\n",
       "       [ 1.48896496e+00,  2.21701665e+00],\n",
       "       [ 3.67534068e-01,  1.35081291e-01],\n",
       "       [-1.52253503e+00,  2.31811293e+00],\n",
       "       [-4.58712504e-01,  2.10417161e-01],\n",
       "       [ 1.76142393e+00,  3.10261425e+00],\n",
       "       [-2.80932909e+00,  7.89232996e+00],\n",
       "       [ 1.69230462e+00,  2.86389491e+00],\n",
       "       [-1.55957556e+00,  2.43227592e+00],\n",
       "       [-2.13414480e+00,  4.55457401e+00],\n",
       "       [-2.30579209e+00,  5.31667717e+00],\n",
       "       [-2.83649993e+00,  8.04573184e+00],\n",
       "       [ 1.41518911e-01,  2.00276023e-02],\n",
       "       [-1.69044076e+00,  2.85758998e+00],\n",
       "       [ 2.93659059e+00,  8.62356432e+00],\n",
       "       [ 4.46620535e-01,  1.99469902e-01],\n",
       "       [-2.17268838e+00,  4.72057481e+00],\n",
       "       [ 1.13257524e+00,  1.28272669e+00],\n",
       "       [ 2.38646140e+00,  5.69519801e+00],\n",
       "       [ 1.47107697e+00,  2.16406746e+00],\n",
       "       [-2.54136083e+00,  6.45851489e+00],\n",
       "       [ 2.37530509e+00,  5.64207426e+00],\n",
       "       [ 1.76357632e+00,  3.11020142e+00],\n",
       "       [-2.05017660e+00,  4.20322409e+00],\n",
       "       [-2.68928467e+00,  7.23225202e+00],\n",
       "       [ 3.43863452e-01,  1.18242074e-01],\n",
       "       [-2.06378513e+00,  4.25920907e+00],\n",
       "       [ 2.00754572e+00,  4.03023980e+00],\n",
       "       [-8.49992060e-01,  7.22486502e-01],\n",
       "       [ 2.47735467e+00,  6.13728615e+00],\n",
       "       [ 3.94129033e-01,  1.55337695e-01],\n",
       "       [-1.90396569e+00,  3.62508537e+00],\n",
       "       [-2.16240680e+00,  4.67600315e+00],\n",
       "       [ 4.58834625e-01,  2.10529213e-01],\n",
       "       [ 1.57130167e+00,  2.46898894e+00],\n",
       "       [ 1.68903389e+00,  2.85283547e+00],\n",
       "       [-1.34545557e+00,  1.81025070e+00],\n",
       "       [-1.77451945e+00,  3.14891927e+00],\n",
       "       [-2.89946217e+00,  8.40688089e+00],\n",
       "       [ 1.07519491e+00,  1.15604409e+00],\n",
       "       [-2.54059045e+00,  6.45459983e+00],\n",
       "       [-4.75432789e-01,  2.26036337e-01],\n",
       "       [ 6.10092984e-01,  3.72213449e-01],\n",
       "       [ 2.62265367e+00,  6.87831227e+00],\n",
       "       [-1.12918718e+00,  1.27506368e+00],\n",
       "       [-1.50136703e+00,  2.25410294e+00],\n",
       "       [ 9.24960926e-01,  8.55552714e-01],\n",
       "       [ 7.15434192e-01,  5.11846084e-01],\n",
       "       [-1.00734130e+00,  1.01473649e+00],\n",
       "       [ 2.56861101e+00,  6.59776254e+00],\n",
       "       [ 2.06917396e+00,  4.28148090e+00],\n",
       "       [-1.65610472e+00,  2.74268286e+00],\n",
       "       [-1.56514473e+00,  2.44967802e+00],\n",
       "       [ 7.38020813e-02,  5.44674721e-03]])"
      ]
     },
     "execution_count": 170,
     "metadata": {},
     "output_type": "execute_result"
    }
   ],
   "source": [
    "X_poly"
   ]
  },
  {
   "cell_type": "code",
   "execution_count": 169,
   "id": "07b1941d",
   "metadata": {},
   "outputs": [
    {
     "data": {
      "text/plain": [
       "(array([2.06321706]), array([[0.96819852, 0.4498335 ]]))"
      ]
     },
     "execution_count": 169,
     "metadata": {},
     "output_type": "execute_result"
    }
   ],
   "source": [
    "lin_reg.intercept_, lin_reg.coef_ # y = 0.5 * X ** 2 + X + 2 + np.random.randn(m, 1) 의 식 절편 2 1차항 1 2차항 0.5가 나온다."
   ]
  },
  {
   "cell_type": "code",
   "execution_count": null,
   "id": "3e6ed11b",
   "metadata": {},
   "outputs": [],
   "source": [
    "lin_reg.fit(, y)"
   ]
  },
  {
   "cell_type": "code",
   "execution_count": null,
   "id": "6ee93317",
   "metadata": {},
   "outputs": [],
   "source": [
    "lin_reg.intercept_, lin_reg.coef_"
   ]
  },
  {
   "cell_type": "markdown",
   "id": "3618f2c4",
   "metadata": {},
   "source": [
    "* 규제가 있는 모델"
   ]
  },
  {
   "cell_type": "code",
   "execution_count": 171,
   "id": "0a258d73",
   "metadata": {},
   "outputs": [],
   "source": [
    "## 라쏘"
   ]
  },
  {
   "cell_type": "code",
   "execution_count": null,
   "id": "31fba7ab",
   "metadata": {},
   "outputs": [],
   "source": []
  },
  {
   "cell_type": "code",
   "execution_count": 172,
   "id": "2279058d",
   "metadata": {},
   "outputs": [],
   "source": [
    "## 릿지"
   ]
  },
  {
   "cell_type": "code",
   "execution_count": null,
   "id": "873e12b4",
   "metadata": {},
   "outputs": [],
   "source": []
  },
  {
   "cell_type": "code",
   "execution_count": 173,
   "id": "9f22f845",
   "metadata": {},
   "outputs": [],
   "source": [
    "## 엘라스틱"
   ]
  },
  {
   "cell_type": "code",
   "execution_count": null,
   "id": "0a01a23b",
   "metadata": {},
   "outputs": [],
   "source": []
  }
 ],
 "metadata": {
  "kernelspec": {
   "display_name": "Python 3",
   "language": "python",
   "name": "python3"
  },
  "language_info": {
   "codemirror_mode": {
    "name": "ipython",
    "version": 3
   },
   "file_extension": ".py",
   "mimetype": "text/x-python",
   "name": "python",
   "nbconvert_exporter": "python",
   "pygments_lexer": "ipython3",
   "version": "3.8.8"
  }
 },
 "nbformat": 4,
 "nbformat_minor": 5
}
