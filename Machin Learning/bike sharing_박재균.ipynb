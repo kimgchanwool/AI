{
 "cells": [
  {
   "cell_type": "code",
   "execution_count": 246,
   "id": "c3f18269",
   "metadata": {},
   "outputs": [],
   "source": [
    "import pandas as pd\n",
    "import numpy as np\n",
    "import matplotlib.pyplot as plt\n",
    "import seaborn as sns\n",
    "%matplotlib inline"
   ]
  },
  {
   "cell_type": "code",
   "execution_count": 305,
   "id": "6f42904a",
   "metadata": {},
   "outputs": [],
   "source": [
    "x_train = pd.read_csv('datasets/bike_train.csv')\n",
    "x_test = pd.read_csv('datasets/bike_test.csv')"
   ]
  },
  {
   "cell_type": "code",
   "execution_count": 306,
   "id": "9a687081",
   "metadata": {},
   "outputs": [
    {
     "data": {
      "text/html": [
       "<div>\n",
       "<style scoped>\n",
       "    .dataframe tbody tr th:only-of-type {\n",
       "        vertical-align: middle;\n",
       "    }\n",
       "\n",
       "    .dataframe tbody tr th {\n",
       "        vertical-align: top;\n",
       "    }\n",
       "\n",
       "    .dataframe thead th {\n",
       "        text-align: right;\n",
       "    }\n",
       "</style>\n",
       "<table border=\"1\" class=\"dataframe\">\n",
       "  <thead>\n",
       "    <tr style=\"text-align: right;\">\n",
       "      <th></th>\n",
       "      <th>datetime</th>\n",
       "      <th>season</th>\n",
       "      <th>holiday</th>\n",
       "      <th>workingday</th>\n",
       "      <th>weather</th>\n",
       "      <th>temp</th>\n",
       "      <th>atemp</th>\n",
       "      <th>humidity</th>\n",
       "      <th>windspeed</th>\n",
       "      <th>casual</th>\n",
       "      <th>registered</th>\n",
       "      <th>count</th>\n",
       "    </tr>\n",
       "  </thead>\n",
       "  <tbody>\n",
       "    <tr>\n",
       "      <th>430</th>\n",
       "      <td>2011-01-19 23:00:00</td>\n",
       "      <td>1</td>\n",
       "      <td>0</td>\n",
       "      <td>1</td>\n",
       "      <td>1</td>\n",
       "      <td>12.30</td>\n",
       "      <td>13.635</td>\n",
       "      <td>52</td>\n",
       "      <td>31.0009</td>\n",
       "      <td>1</td>\n",
       "      <td>27</td>\n",
       "      <td>28</td>\n",
       "    </tr>\n",
       "    <tr>\n",
       "      <th>431</th>\n",
       "      <td>2011-02-01 00:00:00</td>\n",
       "      <td>1</td>\n",
       "      <td>0</td>\n",
       "      <td>1</td>\n",
       "      <td>2</td>\n",
       "      <td>6.56</td>\n",
       "      <td>9.090</td>\n",
       "      <td>64</td>\n",
       "      <td>7.0015</td>\n",
       "      <td>2</td>\n",
       "      <td>6</td>\n",
       "      <td>8</td>\n",
       "    </tr>\n",
       "    <tr>\n",
       "      <th>432</th>\n",
       "      <td>2011-02-01 01:00:00</td>\n",
       "      <td>1</td>\n",
       "      <td>0</td>\n",
       "      <td>1</td>\n",
       "      <td>2</td>\n",
       "      <td>6.56</td>\n",
       "      <td>9.090</td>\n",
       "      <td>69</td>\n",
       "      <td>7.0015</td>\n",
       "      <td>0</td>\n",
       "      <td>3</td>\n",
       "      <td>3</td>\n",
       "    </tr>\n",
       "    <tr>\n",
       "      <th>433</th>\n",
       "      <td>2011-02-01 02:00:00</td>\n",
       "      <td>1</td>\n",
       "      <td>0</td>\n",
       "      <td>1</td>\n",
       "      <td>2</td>\n",
       "      <td>6.56</td>\n",
       "      <td>11.365</td>\n",
       "      <td>69</td>\n",
       "      <td>0.0000</td>\n",
       "      <td>0</td>\n",
       "      <td>2</td>\n",
       "      <td>2</td>\n",
       "    </tr>\n",
       "    <tr>\n",
       "      <th>434</th>\n",
       "      <td>2011-02-01 03:00:00</td>\n",
       "      <td>1</td>\n",
       "      <td>0</td>\n",
       "      <td>1</td>\n",
       "      <td>2</td>\n",
       "      <td>6.56</td>\n",
       "      <td>11.365</td>\n",
       "      <td>69</td>\n",
       "      <td>0.0000</td>\n",
       "      <td>0</td>\n",
       "      <td>2</td>\n",
       "      <td>2</td>\n",
       "    </tr>\n",
       "    <tr>\n",
       "      <th>...</th>\n",
       "      <td>...</td>\n",
       "      <td>...</td>\n",
       "      <td>...</td>\n",
       "      <td>...</td>\n",
       "      <td>...</td>\n",
       "      <td>...</td>\n",
       "      <td>...</td>\n",
       "      <td>...</td>\n",
       "      <td>...</td>\n",
       "      <td>...</td>\n",
       "      <td>...</td>\n",
       "      <td>...</td>\n",
       "    </tr>\n",
       "    <tr>\n",
       "      <th>10881</th>\n",
       "      <td>2012-12-19 19:00:00</td>\n",
       "      <td>4</td>\n",
       "      <td>0</td>\n",
       "      <td>1</td>\n",
       "      <td>1</td>\n",
       "      <td>15.58</td>\n",
       "      <td>19.695</td>\n",
       "      <td>50</td>\n",
       "      <td>26.0027</td>\n",
       "      <td>7</td>\n",
       "      <td>329</td>\n",
       "      <td>336</td>\n",
       "    </tr>\n",
       "    <tr>\n",
       "      <th>10882</th>\n",
       "      <td>2012-12-19 20:00:00</td>\n",
       "      <td>4</td>\n",
       "      <td>0</td>\n",
       "      <td>1</td>\n",
       "      <td>1</td>\n",
       "      <td>14.76</td>\n",
       "      <td>17.425</td>\n",
       "      <td>57</td>\n",
       "      <td>15.0013</td>\n",
       "      <td>10</td>\n",
       "      <td>231</td>\n",
       "      <td>241</td>\n",
       "    </tr>\n",
       "    <tr>\n",
       "      <th>10883</th>\n",
       "      <td>2012-12-19 21:00:00</td>\n",
       "      <td>4</td>\n",
       "      <td>0</td>\n",
       "      <td>1</td>\n",
       "      <td>1</td>\n",
       "      <td>13.94</td>\n",
       "      <td>15.910</td>\n",
       "      <td>61</td>\n",
       "      <td>15.0013</td>\n",
       "      <td>4</td>\n",
       "      <td>164</td>\n",
       "      <td>168</td>\n",
       "    </tr>\n",
       "    <tr>\n",
       "      <th>10884</th>\n",
       "      <td>2012-12-19 22:00:00</td>\n",
       "      <td>4</td>\n",
       "      <td>0</td>\n",
       "      <td>1</td>\n",
       "      <td>1</td>\n",
       "      <td>13.94</td>\n",
       "      <td>17.425</td>\n",
       "      <td>61</td>\n",
       "      <td>6.0032</td>\n",
       "      <td>12</td>\n",
       "      <td>117</td>\n",
       "      <td>129</td>\n",
       "    </tr>\n",
       "    <tr>\n",
       "      <th>10885</th>\n",
       "      <td>2012-12-19 23:00:00</td>\n",
       "      <td>4</td>\n",
       "      <td>0</td>\n",
       "      <td>1</td>\n",
       "      <td>1</td>\n",
       "      <td>13.12</td>\n",
       "      <td>16.665</td>\n",
       "      <td>66</td>\n",
       "      <td>8.9981</td>\n",
       "      <td>4</td>\n",
       "      <td>84</td>\n",
       "      <td>88</td>\n",
       "    </tr>\n",
       "  </tbody>\n",
       "</table>\n",
       "<p>10456 rows × 12 columns</p>\n",
       "</div>"
      ],
      "text/plain": [
       "                  datetime  season  holiday  workingday  weather   temp  \\\n",
       "430    2011-01-19 23:00:00       1        0           1        1  12.30   \n",
       "431    2011-02-01 00:00:00       1        0           1        2   6.56   \n",
       "432    2011-02-01 01:00:00       1        0           1        2   6.56   \n",
       "433    2011-02-01 02:00:00       1        0           1        2   6.56   \n",
       "434    2011-02-01 03:00:00       1        0           1        2   6.56   \n",
       "...                    ...     ...      ...         ...      ...    ...   \n",
       "10881  2012-12-19 19:00:00       4        0           1        1  15.58   \n",
       "10882  2012-12-19 20:00:00       4        0           1        1  14.76   \n",
       "10883  2012-12-19 21:00:00       4        0           1        1  13.94   \n",
       "10884  2012-12-19 22:00:00       4        0           1        1  13.94   \n",
       "10885  2012-12-19 23:00:00       4        0           1        1  13.12   \n",
       "\n",
       "        atemp  humidity  windspeed  casual  registered  count  \n",
       "430    13.635        52    31.0009       1          27     28  \n",
       "431     9.090        64     7.0015       2           6      8  \n",
       "432     9.090        69     7.0015       0           3      3  \n",
       "433    11.365        69     0.0000       0           2      2  \n",
       "434    11.365        69     0.0000       0           2      2  \n",
       "...       ...       ...        ...     ...         ...    ...  \n",
       "10881  19.695        50    26.0027       7         329    336  \n",
       "10882  17.425        57    15.0013      10         231    241  \n",
       "10883  15.910        61    15.0013       4         164    168  \n",
       "10884  17.425        61     6.0032      12         117    129  \n",
       "10885  16.665        66     8.9981       4          84     88  \n",
       "\n",
       "[10456 rows x 12 columns]"
      ]
     },
     "execution_count": 306,
     "metadata": {},
     "output_type": "execute_result"
    }
   ],
   "source": [
    "x_train[430:]"
   ]
  },
  {
   "cell_type": "code",
   "execution_count": 307,
   "id": "85d40c5a",
   "metadata": {},
   "outputs": [
    {
     "data": {
      "text/plain": [
       "0.0000     867\n",
       "11.0014    638\n",
       "8.9981     618\n",
       "12.9980    615\n",
       "7.0015     583\n",
       "6.0032     553\n",
       "15.0013    552\n",
       "16.9979    471\n",
       "19.0012    372\n",
       "19.9995    316\n",
       "22.0028    230\n",
       "23.9994    186\n",
       "26.0027    146\n",
       "27.9993    109\n",
       "30.0026     65\n",
       "31.0009     57\n",
       "32.9975     32\n",
       "35.0008     26\n",
       "36.9974     17\n",
       "39.0007     17\n",
       "40.9973     12\n",
       "43.9989      3\n",
       "54.0020      2\n",
       "46.0022      2\n",
       "43.0006      2\n",
       "55.9986      1\n",
       "50.0021      1\n",
       "Name: windspeed, dtype: int64"
      ]
     },
     "execution_count": 307,
     "metadata": {},
     "output_type": "execute_result"
    }
   ],
   "source": [
    "x_test.windspeed.value_counts()"
   ]
  },
  {
   "cell_type": "code",
   "execution_count": 308,
   "id": "19c52e89",
   "metadata": {},
   "outputs": [],
   "source": [
    "sub = pd.read_csv('datasets/sampleSubmission.csv')"
   ]
  },
  {
   "cell_type": "code",
   "execution_count": 309,
   "id": "8dd30188",
   "metadata": {},
   "outputs": [
    {
     "data": {
      "text/html": [
       "<div>\n",
       "<style scoped>\n",
       "    .dataframe tbody tr th:only-of-type {\n",
       "        vertical-align: middle;\n",
       "    }\n",
       "\n",
       "    .dataframe tbody tr th {\n",
       "        vertical-align: top;\n",
       "    }\n",
       "\n",
       "    .dataframe thead th {\n",
       "        text-align: right;\n",
       "    }\n",
       "</style>\n",
       "<table border=\"1\" class=\"dataframe\">\n",
       "  <thead>\n",
       "    <tr style=\"text-align: right;\">\n",
       "      <th></th>\n",
       "      <th>datetime</th>\n",
       "      <th>count</th>\n",
       "    </tr>\n",
       "  </thead>\n",
       "  <tbody>\n",
       "    <tr>\n",
       "      <th>0</th>\n",
       "      <td>2011-01-20 00:00:00</td>\n",
       "      <td>0</td>\n",
       "    </tr>\n",
       "    <tr>\n",
       "      <th>1</th>\n",
       "      <td>2011-01-20 01:00:00</td>\n",
       "      <td>0</td>\n",
       "    </tr>\n",
       "    <tr>\n",
       "      <th>2</th>\n",
       "      <td>2011-01-20 02:00:00</td>\n",
       "      <td>0</td>\n",
       "    </tr>\n",
       "    <tr>\n",
       "      <th>3</th>\n",
       "      <td>2011-01-20 03:00:00</td>\n",
       "      <td>0</td>\n",
       "    </tr>\n",
       "    <tr>\n",
       "      <th>4</th>\n",
       "      <td>2011-01-20 04:00:00</td>\n",
       "      <td>0</td>\n",
       "    </tr>\n",
       "    <tr>\n",
       "      <th>...</th>\n",
       "      <td>...</td>\n",
       "      <td>...</td>\n",
       "    </tr>\n",
       "    <tr>\n",
       "      <th>6488</th>\n",
       "      <td>2012-12-31 19:00:00</td>\n",
       "      <td>0</td>\n",
       "    </tr>\n",
       "    <tr>\n",
       "      <th>6489</th>\n",
       "      <td>2012-12-31 20:00:00</td>\n",
       "      <td>0</td>\n",
       "    </tr>\n",
       "    <tr>\n",
       "      <th>6490</th>\n",
       "      <td>2012-12-31 21:00:00</td>\n",
       "      <td>0</td>\n",
       "    </tr>\n",
       "    <tr>\n",
       "      <th>6491</th>\n",
       "      <td>2012-12-31 22:00:00</td>\n",
       "      <td>0</td>\n",
       "    </tr>\n",
       "    <tr>\n",
       "      <th>6492</th>\n",
       "      <td>2012-12-31 23:00:00</td>\n",
       "      <td>0</td>\n",
       "    </tr>\n",
       "  </tbody>\n",
       "</table>\n",
       "<p>6493 rows × 2 columns</p>\n",
       "</div>"
      ],
      "text/plain": [
       "                 datetime  count\n",
       "0     2011-01-20 00:00:00      0\n",
       "1     2011-01-20 01:00:00      0\n",
       "2     2011-01-20 02:00:00      0\n",
       "3     2011-01-20 03:00:00      0\n",
       "4     2011-01-20 04:00:00      0\n",
       "...                   ...    ...\n",
       "6488  2012-12-31 19:00:00      0\n",
       "6489  2012-12-31 20:00:00      0\n",
       "6490  2012-12-31 21:00:00      0\n",
       "6491  2012-12-31 22:00:00      0\n",
       "6492  2012-12-31 23:00:00      0\n",
       "\n",
       "[6493 rows x 2 columns]"
      ]
     },
     "execution_count": 309,
     "metadata": {},
     "output_type": "execute_result"
    }
   ],
   "source": [
    "sub"
   ]
  },
  {
   "cell_type": "code",
   "execution_count": 310,
   "id": "a4867e62",
   "metadata": {},
   "outputs": [
    {
     "data": {
      "text/html": [
       "<div>\n",
       "<style scoped>\n",
       "    .dataframe tbody tr th:only-of-type {\n",
       "        vertical-align: middle;\n",
       "    }\n",
       "\n",
       "    .dataframe tbody tr th {\n",
       "        vertical-align: top;\n",
       "    }\n",
       "\n",
       "    .dataframe thead th {\n",
       "        text-align: right;\n",
       "    }\n",
       "</style>\n",
       "<table border=\"1\" class=\"dataframe\">\n",
       "  <thead>\n",
       "    <tr style=\"text-align: right;\">\n",
       "      <th></th>\n",
       "      <th>datetime</th>\n",
       "      <th>season</th>\n",
       "      <th>holiday</th>\n",
       "      <th>workingday</th>\n",
       "      <th>weather</th>\n",
       "      <th>temp</th>\n",
       "      <th>atemp</th>\n",
       "      <th>humidity</th>\n",
       "      <th>windspeed</th>\n",
       "      <th>casual</th>\n",
       "      <th>registered</th>\n",
       "      <th>count</th>\n",
       "    </tr>\n",
       "  </thead>\n",
       "  <tbody>\n",
       "    <tr>\n",
       "      <th>0</th>\n",
       "      <td>2011-01-01 00:00:00</td>\n",
       "      <td>1</td>\n",
       "      <td>0</td>\n",
       "      <td>0</td>\n",
       "      <td>1</td>\n",
       "      <td>9.84</td>\n",
       "      <td>14.395</td>\n",
       "      <td>81</td>\n",
       "      <td>0.0</td>\n",
       "      <td>3</td>\n",
       "      <td>13</td>\n",
       "      <td>16</td>\n",
       "    </tr>\n",
       "  </tbody>\n",
       "</table>\n",
       "</div>"
      ],
      "text/plain": [
       "              datetime  season  holiday  workingday  weather  temp   atemp  \\\n",
       "0  2011-01-01 00:00:00       1        0           0        1  9.84  14.395   \n",
       "\n",
       "   humidity  windspeed  casual  registered  count  \n",
       "0        81        0.0       3          13     16  "
      ]
     },
     "execution_count": 310,
     "metadata": {},
     "output_type": "execute_result"
    }
   ],
   "source": [
    "x_train.head(1)"
   ]
  },
  {
   "cell_type": "markdown",
   "id": "1808ade1",
   "metadata": {},
   "source": [
    "- 타겟 데이터 분리"
   ]
  },
  {
   "cell_type": "markdown",
   "id": "52d1a165",
   "metadata": {},
   "source": [
    "### 전처리\n",
    "- datetime 타입변환 및 파생변수 생성 / 컬럼 삭제\n",
    "- casual + registered = count 이므로 casual, registered 칼럼 삭제\n",
    "- 타겟 데이터 분리"
   ]
  },
  {
   "cell_type": "code",
   "execution_count": 311,
   "id": "96caeffb",
   "metadata": {},
   "outputs": [],
   "source": [
    "y_train = x_train['count']\n",
    "x_train = x_train.drop(columns=['count', 'registered', 'casual'])"
   ]
  },
  {
   "cell_type": "code",
   "execution_count": 312,
   "id": "8506a4df",
   "metadata": {},
   "outputs": [],
   "source": [
    "# datetime 처리\n",
    "x_train['datetime'] = pd.to_datetime(x_train['datetime'])\n",
    "x_test['datetime'] = pd.to_datetime(x_test['datetime'])"
   ]
  },
  {
   "cell_type": "code",
   "execution_count": 313,
   "id": "6924d9a2",
   "metadata": {},
   "outputs": [],
   "source": [
    "x_train['year'] = x_train['datetime'].apply(lambda x : x.year)\n",
    "x_train['month'] = x_train['datetime'].apply(lambda x : x.month)\n",
    "x_train['hour'] = x_train['datetime'].apply(lambda x : x.hour)\n",
    "\n",
    "x_test['year'] = x_test['datetime'].apply(lambda x : x.year)\n",
    "x_test['month'] = x_test['datetime'].apply(lambda x : x.month)\n",
    "x_test['hour'] = x_test['datetime'].apply(lambda x : x.hour)"
   ]
  },
  {
   "cell_type": "code",
   "execution_count": 314,
   "id": "dce2013b",
   "metadata": {},
   "outputs": [
    {
     "data": {
      "text/html": [
       "<div>\n",
       "<style scoped>\n",
       "    .dataframe tbody tr th:only-of-type {\n",
       "        vertical-align: middle;\n",
       "    }\n",
       "\n",
       "    .dataframe tbody tr th {\n",
       "        vertical-align: top;\n",
       "    }\n",
       "\n",
       "    .dataframe thead th {\n",
       "        text-align: right;\n",
       "    }\n",
       "</style>\n",
       "<table border=\"1\" class=\"dataframe\">\n",
       "  <thead>\n",
       "    <tr style=\"text-align: right;\">\n",
       "      <th></th>\n",
       "      <th>season</th>\n",
       "      <th>holiday</th>\n",
       "      <th>workingday</th>\n",
       "      <th>weather</th>\n",
       "      <th>temp</th>\n",
       "      <th>atemp</th>\n",
       "      <th>humidity</th>\n",
       "      <th>windspeed</th>\n",
       "      <th>year</th>\n",
       "      <th>month</th>\n",
       "      <th>hour</th>\n",
       "    </tr>\n",
       "  </thead>\n",
       "  <tbody>\n",
       "    <tr>\n",
       "      <th>0</th>\n",
       "      <td>1</td>\n",
       "      <td>0</td>\n",
       "      <td>1</td>\n",
       "      <td>1</td>\n",
       "      <td>10.66</td>\n",
       "      <td>11.365</td>\n",
       "      <td>56</td>\n",
       "      <td>26.0027</td>\n",
       "      <td>2011</td>\n",
       "      <td>1</td>\n",
       "      <td>0</td>\n",
       "    </tr>\n",
       "  </tbody>\n",
       "</table>\n",
       "</div>"
      ],
      "text/plain": [
       "   season  holiday  workingday  weather   temp   atemp  humidity  windspeed  \\\n",
       "0       1        0           1        1  10.66  11.365        56    26.0027   \n",
       "\n",
       "   year  month  hour  \n",
       "0  2011      1     0  "
      ]
     },
     "execution_count": 314,
     "metadata": {},
     "output_type": "execute_result"
    }
   ],
   "source": [
    "x_train = x_train.drop(columns='datetime')\n",
    "x_test = x_test.drop(columns='datetime')\n",
    "x_test.head(1)"
   ]
  },
  {
   "cell_type": "code",
   "execution_count": 315,
   "id": "8c0e7c9b",
   "metadata": {},
   "outputs": [
    {
     "ename": "AttributeError",
     "evalue": "'DataFrame' object has no attribute 'day'",
     "output_type": "error",
     "traceback": [
      "\u001b[1;31m---------------------------------------------------------------------------\u001b[0m",
      "\u001b[1;31mAttributeError\u001b[0m                            Traceback (most recent call last)",
      "\u001b[1;32m<ipython-input-315-433f8c229211>\u001b[0m in \u001b[0;36m<module>\u001b[1;34m\u001b[0m\n\u001b[1;32m----> 1\u001b[1;33m \u001b[0mx_train\u001b[0m\u001b[1;33m.\u001b[0m\u001b[0mday\u001b[0m \u001b[1;33m=\u001b[0m \u001b[0mx_train\u001b[0m\u001b[1;33m.\u001b[0m\u001b[0mday\u001b[0m \u001b[1;33m%\u001b[0m \u001b[1;36m10\u001b[0m\u001b[1;33m\u001b[0m\u001b[1;33m\u001b[0m\u001b[0m\n\u001b[0m\u001b[0;32m      2\u001b[0m \u001b[0mx_test\u001b[0m\u001b[1;33m.\u001b[0m\u001b[0mday\u001b[0m \u001b[1;33m=\u001b[0m \u001b[0mx_test\u001b[0m\u001b[1;33m.\u001b[0m\u001b[0mday\u001b[0m \u001b[1;33m%\u001b[0m \u001b[1;36m10\u001b[0m\u001b[1;33m\u001b[0m\u001b[1;33m\u001b[0m\u001b[0m\n",
      "\u001b[1;32mC:\\ProgramData\\Anaconda3\\lib\\site-packages\\pandas\\core\\generic.py\u001b[0m in \u001b[0;36m__getattr__\u001b[1;34m(self, name)\u001b[0m\n\u001b[0;32m   5463\u001b[0m             \u001b[1;32mif\u001b[0m \u001b[0mself\u001b[0m\u001b[1;33m.\u001b[0m\u001b[0m_info_axis\u001b[0m\u001b[1;33m.\u001b[0m\u001b[0m_can_hold_identifiers_and_holds_name\u001b[0m\u001b[1;33m(\u001b[0m\u001b[0mname\u001b[0m\u001b[1;33m)\u001b[0m\u001b[1;33m:\u001b[0m\u001b[1;33m\u001b[0m\u001b[1;33m\u001b[0m\u001b[0m\n\u001b[0;32m   5464\u001b[0m                 \u001b[1;32mreturn\u001b[0m \u001b[0mself\u001b[0m\u001b[1;33m[\u001b[0m\u001b[0mname\u001b[0m\u001b[1;33m]\u001b[0m\u001b[1;33m\u001b[0m\u001b[1;33m\u001b[0m\u001b[0m\n\u001b[1;32m-> 5465\u001b[1;33m             \u001b[1;32mreturn\u001b[0m \u001b[0mobject\u001b[0m\u001b[1;33m.\u001b[0m\u001b[0m__getattribute__\u001b[0m\u001b[1;33m(\u001b[0m\u001b[0mself\u001b[0m\u001b[1;33m,\u001b[0m \u001b[0mname\u001b[0m\u001b[1;33m)\u001b[0m\u001b[1;33m\u001b[0m\u001b[1;33m\u001b[0m\u001b[0m\n\u001b[0m\u001b[0;32m   5466\u001b[0m \u001b[1;33m\u001b[0m\u001b[0m\n\u001b[0;32m   5467\u001b[0m     \u001b[1;32mdef\u001b[0m \u001b[0m__setattr__\u001b[0m\u001b[1;33m(\u001b[0m\u001b[0mself\u001b[0m\u001b[1;33m,\u001b[0m \u001b[0mname\u001b[0m\u001b[1;33m:\u001b[0m \u001b[0mstr\u001b[0m\u001b[1;33m,\u001b[0m \u001b[0mvalue\u001b[0m\u001b[1;33m)\u001b[0m \u001b[1;33m->\u001b[0m \u001b[1;32mNone\u001b[0m\u001b[1;33m:\u001b[0m\u001b[1;33m\u001b[0m\u001b[1;33m\u001b[0m\u001b[0m\n",
      "\u001b[1;31mAttributeError\u001b[0m: 'DataFrame' object has no attribute 'day'"
     ]
    }
   ],
   "source": [
    "x_train.day = x_train.day % 10\n",
    "x_test.day = x_test.day % 10"
   ]
  },
  {
   "cell_type": "markdown",
   "id": "56853ddc",
   "metadata": {},
   "source": [
    "- 이상치 탐색"
   ]
  },
  {
   "cell_type": "code",
   "execution_count": 317,
   "id": "4e26bfd0",
   "metadata": {
    "scrolled": true
   },
   "outputs": [
    {
     "data": {
      "text/plain": [
       "<AxesSubplot:>"
      ]
     },
     "execution_count": 317,
     "metadata": {},
     "output_type": "execute_result"
    },
    {
     "data": {
      "image/png": "[encoded data removed]",
      "text/plain": [
       "<Figure size 720x504 with 1 Axes>"
      ]
     },
     "metadata": {
      "needs_background": "light"
     },
     "output_type": "display_data"
    }
   ],
   "source": [
    "plt.figure(figsize=(10,7))\n",
    "sns.boxplot(data = x_train.iloc[:,1:7]) # humidity와 windspeed 이상치 처리"
   ]
  },
  {
   "cell_type": "code",
   "execution_count": 318,
   "id": "3c98e7bb",
   "metadata": {},
   "outputs": [
    {
     "data": {
      "text/plain": [
       "0        1\n",
       "1        1\n",
       "2        1\n",
       "3        1\n",
       "4        1\n",
       "        ..\n",
       "10881    0\n",
       "10882    0\n",
       "10883    0\n",
       "10884    0\n",
       "10885    0\n",
       "Name: workingday, Length: 10886, dtype: int8"
      ]
     },
     "execution_count": 318,
     "metadata": {},
     "output_type": "execute_result"
    }
   ],
   "source": [
    "x_train.workingday = np.int8(x_train.workingday == 0)\n",
    "x_train['holiday'] = x_train.workingday + x_train.holiday\n",
    "x_train[x_train.holiday == 2] = 1\n",
    "x_train.pop('workingday')"
   ]
  },
  {
   "cell_type": "code",
   "execution_count": 319,
   "id": "541b0d63",
   "metadata": {},
   "outputs": [
    {
     "data": {
      "text/plain": [
       "0       0\n",
       "1       0\n",
       "2       0\n",
       "3       0\n",
       "4       0\n",
       "       ..\n",
       "6488    0\n",
       "6489    0\n",
       "6490    0\n",
       "6491    0\n",
       "6492    0\n",
       "Name: workingday, Length: 6493, dtype: int8"
      ]
     },
     "execution_count": 319,
     "metadata": {},
     "output_type": "execute_result"
    }
   ],
   "source": [
    "x_test.workingday = np.int8(x_test.workingday == 0)\n",
    "x_test['holiday'] = x_test.workingday + x_test.holiday\n",
    "x_test[x_test.holiday == 2] = 1\n",
    "x_test.pop('workingday')"
   ]
  },
  {
   "cell_type": "code",
   "execution_count": 320,
   "id": "66c05d1a",
   "metadata": {
    "scrolled": false
   },
   "outputs": [
    {
     "data": {
      "text/plain": [
       "0    7412\n",
       "1    3474\n",
       "Name: holiday, dtype: int64"
      ]
     },
     "execution_count": 320,
     "metadata": {},
     "output_type": "execute_result"
    }
   ],
   "source": [
    "x_train.holiday.value_counts()"
   ]
  },
  {
   "cell_type": "code",
   "execution_count": 321,
   "id": "cf256407",
   "metadata": {
    "scrolled": true
   },
   "outputs": [
    {
     "data": {
      "text/plain": [
       "0    4453\n",
       "1    2040\n",
       "Name: holiday, dtype: int64"
      ]
     },
     "execution_count": 321,
     "metadata": {},
     "output_type": "execute_result"
    }
   ],
   "source": [
    "x_test.holiday.value_counts()"
   ]
  },
  {
   "cell_type": "code",
   "execution_count": 322,
   "id": "88009415",
   "metadata": {},
   "outputs": [],
   "source": [
    "#x_train['humidity'] = x_train[x_train.humidity < 26]"
   ]
  },
  {
   "cell_type": "code",
   "execution_count": 323,
   "id": "cd0eb1c0",
   "metadata": {},
   "outputs": [],
   "source": [
    "#x_train['windspeed'] = x_train[x_train.windspeed != 0]"
   ]
  },
  {
   "cell_type": "code",
   "execution_count": 324,
   "id": "d99611b9",
   "metadata": {},
   "outputs": [
    {
     "data": {
      "text/html": [
       "<div>\n",
       "<style scoped>\n",
       "    .dataframe tbody tr th:only-of-type {\n",
       "        vertical-align: middle;\n",
       "    }\n",
       "\n",
       "    .dataframe tbody tr th {\n",
       "        vertical-align: top;\n",
       "    }\n",
       "\n",
       "    .dataframe thead th {\n",
       "        text-align: right;\n",
       "    }\n",
       "</style>\n",
       "<table border=\"1\" class=\"dataframe\">\n",
       "  <thead>\n",
       "    <tr style=\"text-align: right;\">\n",
       "      <th></th>\n",
       "      <th>season</th>\n",
       "      <th>holiday</th>\n",
       "      <th>weather</th>\n",
       "      <th>temp</th>\n",
       "      <th>atemp</th>\n",
       "      <th>humidity</th>\n",
       "      <th>windspeed</th>\n",
       "      <th>year</th>\n",
       "      <th>month</th>\n",
       "      <th>hour</th>\n",
       "    </tr>\n",
       "  </thead>\n",
       "  <tbody>\n",
       "    <tr>\n",
       "      <th>0</th>\n",
       "      <td>1</td>\n",
       "      <td>1</td>\n",
       "      <td>1</td>\n",
       "      <td>9.84</td>\n",
       "      <td>14.395</td>\n",
       "      <td>81</td>\n",
       "      <td>0.0000</td>\n",
       "      <td>2011</td>\n",
       "      <td>1</td>\n",
       "      <td>0</td>\n",
       "    </tr>\n",
       "    <tr>\n",
       "      <th>1</th>\n",
       "      <td>1</td>\n",
       "      <td>1</td>\n",
       "      <td>1</td>\n",
       "      <td>9.02</td>\n",
       "      <td>13.635</td>\n",
       "      <td>80</td>\n",
       "      <td>0.0000</td>\n",
       "      <td>2011</td>\n",
       "      <td>1</td>\n",
       "      <td>1</td>\n",
       "    </tr>\n",
       "    <tr>\n",
       "      <th>2</th>\n",
       "      <td>1</td>\n",
       "      <td>1</td>\n",
       "      <td>1</td>\n",
       "      <td>9.02</td>\n",
       "      <td>13.635</td>\n",
       "      <td>80</td>\n",
       "      <td>0.0000</td>\n",
       "      <td>2011</td>\n",
       "      <td>1</td>\n",
       "      <td>2</td>\n",
       "    </tr>\n",
       "    <tr>\n",
       "      <th>3</th>\n",
       "      <td>1</td>\n",
       "      <td>1</td>\n",
       "      <td>1</td>\n",
       "      <td>9.84</td>\n",
       "      <td>14.395</td>\n",
       "      <td>75</td>\n",
       "      <td>0.0000</td>\n",
       "      <td>2011</td>\n",
       "      <td>1</td>\n",
       "      <td>3</td>\n",
       "    </tr>\n",
       "    <tr>\n",
       "      <th>4</th>\n",
       "      <td>1</td>\n",
       "      <td>1</td>\n",
       "      <td>1</td>\n",
       "      <td>9.84</td>\n",
       "      <td>14.395</td>\n",
       "      <td>75</td>\n",
       "      <td>0.0000</td>\n",
       "      <td>2011</td>\n",
       "      <td>1</td>\n",
       "      <td>4</td>\n",
       "    </tr>\n",
       "    <tr>\n",
       "      <th>...</th>\n",
       "      <td>...</td>\n",
       "      <td>...</td>\n",
       "      <td>...</td>\n",
       "      <td>...</td>\n",
       "      <td>...</td>\n",
       "      <td>...</td>\n",
       "      <td>...</td>\n",
       "      <td>...</td>\n",
       "      <td>...</td>\n",
       "      <td>...</td>\n",
       "    </tr>\n",
       "    <tr>\n",
       "      <th>10881</th>\n",
       "      <td>4</td>\n",
       "      <td>0</td>\n",
       "      <td>1</td>\n",
       "      <td>15.58</td>\n",
       "      <td>19.695</td>\n",
       "      <td>50</td>\n",
       "      <td>26.0027</td>\n",
       "      <td>2012</td>\n",
       "      <td>12</td>\n",
       "      <td>19</td>\n",
       "    </tr>\n",
       "    <tr>\n",
       "      <th>10882</th>\n",
       "      <td>4</td>\n",
       "      <td>0</td>\n",
       "      <td>1</td>\n",
       "      <td>14.76</td>\n",
       "      <td>17.425</td>\n",
       "      <td>57</td>\n",
       "      <td>15.0013</td>\n",
       "      <td>2012</td>\n",
       "      <td>12</td>\n",
       "      <td>20</td>\n",
       "    </tr>\n",
       "    <tr>\n",
       "      <th>10883</th>\n",
       "      <td>4</td>\n",
       "      <td>0</td>\n",
       "      <td>1</td>\n",
       "      <td>13.94</td>\n",
       "      <td>15.910</td>\n",
       "      <td>61</td>\n",
       "      <td>15.0013</td>\n",
       "      <td>2012</td>\n",
       "      <td>12</td>\n",
       "      <td>21</td>\n",
       "    </tr>\n",
       "    <tr>\n",
       "      <th>10884</th>\n",
       "      <td>4</td>\n",
       "      <td>0</td>\n",
       "      <td>1</td>\n",
       "      <td>13.94</td>\n",
       "      <td>17.425</td>\n",
       "      <td>61</td>\n",
       "      <td>6.0032</td>\n",
       "      <td>2012</td>\n",
       "      <td>12</td>\n",
       "      <td>22</td>\n",
       "    </tr>\n",
       "    <tr>\n",
       "      <th>10885</th>\n",
       "      <td>4</td>\n",
       "      <td>0</td>\n",
       "      <td>1</td>\n",
       "      <td>13.12</td>\n",
       "      <td>16.665</td>\n",
       "      <td>66</td>\n",
       "      <td>8.9981</td>\n",
       "      <td>2012</td>\n",
       "      <td>12</td>\n",
       "      <td>23</td>\n",
       "    </tr>\n",
       "  </tbody>\n",
       "</table>\n",
       "<p>10886 rows × 10 columns</p>\n",
       "</div>"
      ],
      "text/plain": [
       "       season  holiday  weather   temp   atemp  humidity  windspeed  year  \\\n",
       "0           1        1        1   9.84  14.395        81     0.0000  2011   \n",
       "1           1        1        1   9.02  13.635        80     0.0000  2011   \n",
       "2           1        1        1   9.02  13.635        80     0.0000  2011   \n",
       "3           1        1        1   9.84  14.395        75     0.0000  2011   \n",
       "4           1        1        1   9.84  14.395        75     0.0000  2011   \n",
       "...       ...      ...      ...    ...     ...       ...        ...   ...   \n",
       "10881       4        0        1  15.58  19.695        50    26.0027  2012   \n",
       "10882       4        0        1  14.76  17.425        57    15.0013  2012   \n",
       "10883       4        0        1  13.94  15.910        61    15.0013  2012   \n",
       "10884       4        0        1  13.94  17.425        61     6.0032  2012   \n",
       "10885       4        0        1  13.12  16.665        66     8.9981  2012   \n",
       "\n",
       "       month  hour  \n",
       "0          1     0  \n",
       "1          1     1  \n",
       "2          1     2  \n",
       "3          1     3  \n",
       "4          1     4  \n",
       "...      ...   ...  \n",
       "10881     12    19  \n",
       "10882     12    20  \n",
       "10883     12    21  \n",
       "10884     12    22  \n",
       "10885     12    23  \n",
       "\n",
       "[10886 rows x 10 columns]"
      ]
     },
     "execution_count": 324,
     "metadata": {},
     "output_type": "execute_result"
    }
   ],
   "source": [
    "x= x_train['humidity']\n",
    "q1 = x.quantile(.25)\n",
    "q3 = x.quantile(.75)\n",
    "iqr = q3-q1\n",
    "x_train['humidity'] = x[(x >= q1-1.5*iqr)&(x<= q3+1.5*iqr)]\n",
    "x_train['humidity'] = x_train['humidity'].fillna(x_train['humidity'].min()) # 이상치가 q1아래 존재하므로 min으로 채움\n",
    "\n",
    "x= x_train['windspeed']\n",
    "q1 = x.quantile(.25)\n",
    "q3 = x.quantile(.75)\n",
    "iqr = q3-q1\n",
    "x_train['windspeed'] = x[(x >= q1-1.5*iqr)&(x<= q3+1.5*iqr)]\n",
    "x_train['windspeed'] = x_train['windspeed'].fillna(x_train['windspeed'].max()) # 이상치가 q3 위에 존재하므로 max로 채움\n",
    "\n",
    "x_train"
   ]
  },
  {
   "cell_type": "code",
   "execution_count": 325,
   "id": "4fb0e7c4",
   "metadata": {},
   "outputs": [
    {
     "data": {
      "text/html": [
       "<div>\n",
       "<style scoped>\n",
       "    .dataframe tbody tr th:only-of-type {\n",
       "        vertical-align: middle;\n",
       "    }\n",
       "\n",
       "    .dataframe tbody tr th {\n",
       "        vertical-align: top;\n",
       "    }\n",
       "\n",
       "    .dataframe thead th {\n",
       "        text-align: right;\n",
       "    }\n",
       "</style>\n",
       "<table border=\"1\" class=\"dataframe\">\n",
       "  <thead>\n",
       "    <tr style=\"text-align: right;\">\n",
       "      <th></th>\n",
       "      <th>season</th>\n",
       "      <th>holiday</th>\n",
       "      <th>weather</th>\n",
       "      <th>temp</th>\n",
       "      <th>atemp</th>\n",
       "      <th>humidity</th>\n",
       "      <th>windspeed</th>\n",
       "      <th>year</th>\n",
       "      <th>month</th>\n",
       "      <th>hour</th>\n",
       "    </tr>\n",
       "  </thead>\n",
       "  <tbody>\n",
       "    <tr>\n",
       "      <th>season</th>\n",
       "      <td>1.000000</td>\n",
       "      <td>-0.054808</td>\n",
       "      <td>0.034689</td>\n",
       "      <td>0.313458</td>\n",
       "      <td>0.321433</td>\n",
       "      <td>0.264010</td>\n",
       "      <td>-0.077000</td>\n",
       "      <td>0.221841</td>\n",
       "      <td>0.972437</td>\n",
       "      <td>0.049161</td>\n",
       "    </tr>\n",
       "    <tr>\n",
       "      <th>holiday</th>\n",
       "      <td>-0.054808</td>\n",
       "      <td>1.000000</td>\n",
       "      <td>-0.059952</td>\n",
       "      <td>-0.124981</td>\n",
       "      <td>-0.125196</td>\n",
       "      <td>-0.108604</td>\n",
       "      <td>-0.078654</td>\n",
       "      <td>-0.250492</td>\n",
       "      <td>-0.062748</td>\n",
       "      <td>-0.065145</td>\n",
       "    </tr>\n",
       "    <tr>\n",
       "      <th>weather</th>\n",
       "      <td>0.034689</td>\n",
       "      <td>-0.059952</td>\n",
       "      <td>1.000000</td>\n",
       "      <td>-0.007637</td>\n",
       "      <td>-0.004380</td>\n",
       "      <td>0.412651</td>\n",
       "      <td>0.030459</td>\n",
       "      <td>0.110824</td>\n",
       "      <td>0.041338</td>\n",
       "      <td>-0.002335</td>\n",
       "    </tr>\n",
       "    <tr>\n",
       "      <th>temp</th>\n",
       "      <td>0.313458</td>\n",
       "      <td>-0.124981</td>\n",
       "      <td>-0.007637</td>\n",
       "      <td>1.000000</td>\n",
       "      <td>0.986632</td>\n",
       "      <td>0.122787</td>\n",
       "      <td>0.087136</td>\n",
       "      <td>0.386368</td>\n",
       "      <td>0.324486</td>\n",
       "      <td>0.226706</td>\n",
       "    </tr>\n",
       "    <tr>\n",
       "      <th>atemp</th>\n",
       "      <td>0.321433</td>\n",
       "      <td>-0.125196</td>\n",
       "      <td>-0.004380</td>\n",
       "      <td>0.986632</td>\n",
       "      <td>1.000000</td>\n",
       "      <td>0.153145</td>\n",
       "      <td>0.058666</td>\n",
       "      <td>0.413388</td>\n",
       "      <td>0.333907</td>\n",
       "      <td>0.227633</td>\n",
       "    </tr>\n",
       "    <tr>\n",
       "      <th>humidity</th>\n",
       "      <td>0.264010</td>\n",
       "      <td>-0.108604</td>\n",
       "      <td>0.412651</td>\n",
       "      <td>0.122787</td>\n",
       "      <td>0.153145</td>\n",
       "      <td>1.000000</td>\n",
       "      <td>-0.156647</td>\n",
       "      <td>0.470524</td>\n",
       "      <td>0.292247</td>\n",
       "      <td>-0.122136</td>\n",
       "    </tr>\n",
       "    <tr>\n",
       "      <th>windspeed</th>\n",
       "      <td>-0.077000</td>\n",
       "      <td>-0.078654</td>\n",
       "      <td>0.030459</td>\n",
       "      <td>0.087136</td>\n",
       "      <td>0.058666</td>\n",
       "      <td>-0.156647</td>\n",
       "      <td>1.000000</td>\n",
       "      <td>0.244541</td>\n",
       "      <td>-0.069227</td>\n",
       "      <td>0.196153</td>\n",
       "    </tr>\n",
       "    <tr>\n",
       "      <th>year</th>\n",
       "      <td>0.221841</td>\n",
       "      <td>-0.250492</td>\n",
       "      <td>0.110824</td>\n",
       "      <td>0.386368</td>\n",
       "      <td>0.413388</td>\n",
       "      <td>0.470524</td>\n",
       "      <td>0.244541</td>\n",
       "      <td>1.000000</td>\n",
       "      <td>0.262100</td>\n",
       "      <td>0.249504</td>\n",
       "    </tr>\n",
       "    <tr>\n",
       "      <th>month</th>\n",
       "      <td>0.972437</td>\n",
       "      <td>-0.062748</td>\n",
       "      <td>0.041338</td>\n",
       "      <td>0.324486</td>\n",
       "      <td>0.333907</td>\n",
       "      <td>0.292247</td>\n",
       "      <td>-0.069227</td>\n",
       "      <td>0.262100</td>\n",
       "      <td>1.000000</td>\n",
       "      <td>0.058998</td>\n",
       "    </tr>\n",
       "    <tr>\n",
       "      <th>hour</th>\n",
       "      <td>0.049161</td>\n",
       "      <td>-0.065145</td>\n",
       "      <td>-0.002335</td>\n",
       "      <td>0.226706</td>\n",
       "      <td>0.227633</td>\n",
       "      <td>-0.122136</td>\n",
       "      <td>0.196153</td>\n",
       "      <td>0.249504</td>\n",
       "      <td>0.058998</td>\n",
       "      <td>1.000000</td>\n",
       "    </tr>\n",
       "  </tbody>\n",
       "</table>\n",
       "</div>"
      ],
      "text/plain": [
       "             season   holiday   weather      temp     atemp  humidity  \\\n",
       "season     1.000000 -0.054808  0.034689  0.313458  0.321433  0.264010   \n",
       "holiday   -0.054808  1.000000 -0.059952 -0.124981 -0.125196 -0.108604   \n",
       "weather    0.034689 -0.059952  1.000000 -0.007637 -0.004380  0.412651   \n",
       "temp       0.313458 -0.124981 -0.007637  1.000000  0.986632  0.122787   \n",
       "atemp      0.321433 -0.125196 -0.004380  0.986632  1.000000  0.153145   \n",
       "humidity   0.264010 -0.108604  0.412651  0.122787  0.153145  1.000000   \n",
       "windspeed -0.077000 -0.078654  0.030459  0.087136  0.058666 -0.156647   \n",
       "year       0.221841 -0.250492  0.110824  0.386368  0.413388  0.470524   \n",
       "month      0.972437 -0.062748  0.041338  0.324486  0.333907  0.292247   \n",
       "hour       0.049161 -0.065145 -0.002335  0.226706  0.227633 -0.122136   \n",
       "\n",
       "           windspeed      year     month      hour  \n",
       "season     -0.077000  0.221841  0.972437  0.049161  \n",
       "holiday    -0.078654 -0.250492 -0.062748 -0.065145  \n",
       "weather     0.030459  0.110824  0.041338 -0.002335  \n",
       "temp        0.087136  0.386368  0.324486  0.226706  \n",
       "atemp       0.058666  0.413388  0.333907  0.227633  \n",
       "humidity   -0.156647  0.470524  0.292247 -0.122136  \n",
       "windspeed   1.000000  0.244541 -0.069227  0.196153  \n",
       "year        0.244541  1.000000  0.262100  0.249504  \n",
       "month      -0.069227  0.262100  1.000000  0.058998  \n",
       "hour        0.196153  0.249504  0.058998  1.000000  "
      ]
     },
     "execution_count": 325,
     "metadata": {},
     "output_type": "execute_result"
    }
   ],
   "source": [
    "x_train.corr()"
   ]
  },
  {
   "cell_type": "code",
   "execution_count": 326,
   "id": "0d1a2ae3",
   "metadata": {},
   "outputs": [
    {
     "data": {
      "text/plain": [
       "<AxesSubplot:>"
      ]
     },
     "execution_count": 326,
     "metadata": {},
     "output_type": "execute_result"
    },
    {
     "data": {
      "image/png": "[encoded data removed]",
      "text/plain": [
       "<Figure size 720x504 with 1 Axes>"
      ]
     },
     "metadata": {
      "needs_background": "light"
     },
     "output_type": "display_data"
    }
   ],
   "source": [
    "plt.figure(figsize=(10,7))\n",
    "sns.boxplot(data = x_train[['temp', 'atemp','humidity','windspeed']])"
   ]
  },
  {
   "cell_type": "code",
   "execution_count": 327,
   "id": "9d80eeef",
   "metadata": {
    "scrolled": true
   },
   "outputs": [
    {
     "data": {
      "text/plain": [
       "array([[<AxesSubplot:title={'center':'temp'}>,\n",
       "        <AxesSubplot:title={'center':'atemp'}>],\n",
       "       [<AxesSubplot:title={'center':'humidity'}>,\n",
       "        <AxesSubplot:title={'center':'windspeed'}>]], dtype=object)"
      ]
     },
     "execution_count": 327,
     "metadata": {},
     "output_type": "execute_result"
    },
    {
     "data": {
      "image/png": "[encoded data removed]",
      "text/plain": [
       "<Figure size 432x288 with 4 Axes>"
      ]
     },
     "metadata": {
      "needs_background": "light"
     },
     "output_type": "display_data"
    }
   ],
   "source": [
    "x_train[['temp', 'atemp','humidity','windspeed']].hist()"
   ]
  },
  {
   "cell_type": "markdown",
   "id": "50338e16",
   "metadata": {},
   "source": [
    "- 스케일링"
   ]
  },
  {
   "cell_type": "code",
   "execution_count": 328,
   "id": "8f730eb7",
   "metadata": {},
   "outputs": [],
   "source": [
    "from sklearn.preprocessing import RobustScaler\n",
    "rbst = RobustScaler()\n",
    "x_train[['temp', 'atemp','humidity','windspeed']] = rbst.fit_transform(x_train[['temp', 'atemp','humidity','windspeed']])"
   ]
  },
  {
   "cell_type": "code",
   "execution_count": 329,
   "id": "32670ece",
   "metadata": {},
   "outputs": [],
   "source": [
    "from sklearn.preprocessing import MinMaxScaler\n",
    "mms = MinMaxScaler()\n",
    "x_train[['temp', 'atemp','humidity','windspeed']] = mms.fit_transform(x_train[['temp', 'atemp','humidity','windspeed']])"
   ]
  },
  {
   "cell_type": "code",
   "execution_count": 330,
   "id": "b7c16394",
   "metadata": {},
   "outputs": [],
   "source": [
    "from sklearn.preprocessing import StandardScaler\n",
    "ss = StandardScaler()\n",
    "x_train[['temp', 'atemp','humidity','windspeed']] = ss.fit_transform(x_train[['temp', 'atemp','humidity','windspeed']])"
   ]
  },
  {
   "cell_type": "code",
   "execution_count": 331,
   "id": "b9c166a9",
   "metadata": {},
   "outputs": [
    {
     "data": {
      "text/html": [
       "<div>\n",
       "<style scoped>\n",
       "    .dataframe tbody tr th:only-of-type {\n",
       "        vertical-align: middle;\n",
       "    }\n",
       "\n",
       "    .dataframe tbody tr th {\n",
       "        vertical-align: top;\n",
       "    }\n",
       "\n",
       "    .dataframe thead th {\n",
       "        text-align: right;\n",
       "    }\n",
       "</style>\n",
       "<table border=\"1\" class=\"dataframe\">\n",
       "  <thead>\n",
       "    <tr style=\"text-align: right;\">\n",
       "      <th></th>\n",
       "      <th>season</th>\n",
       "      <th>holiday</th>\n",
       "      <th>weather</th>\n",
       "      <th>temp</th>\n",
       "      <th>atemp</th>\n",
       "      <th>humidity</th>\n",
       "      <th>windspeed</th>\n",
       "      <th>year</th>\n",
       "      <th>month</th>\n",
       "      <th>hour</th>\n",
       "    </tr>\n",
       "  </thead>\n",
       "  <tbody>\n",
       "    <tr>\n",
       "      <th>0</th>\n",
       "      <td>1</td>\n",
       "      <td>1</td>\n",
       "      <td>1</td>\n",
       "      <td>-1.186610</td>\n",
       "      <td>-0.943691</td>\n",
       "      <td>0.967935</td>\n",
       "      <td>-1.551937</td>\n",
       "      <td>2011</td>\n",
       "      <td>1</td>\n",
       "      <td>0</td>\n",
       "    </tr>\n",
       "    <tr>\n",
       "      <th>1</th>\n",
       "      <td>1</td>\n",
       "      <td>1</td>\n",
       "      <td>1</td>\n",
       "      <td>-1.285483</td>\n",
       "      <td>-1.026891</td>\n",
       "      <td>0.921532</td>\n",
       "      <td>-1.551937</td>\n",
       "      <td>2011</td>\n",
       "      <td>1</td>\n",
       "      <td>1</td>\n",
       "    </tr>\n",
       "    <tr>\n",
       "      <th>2</th>\n",
       "      <td>1</td>\n",
       "      <td>1</td>\n",
       "      <td>1</td>\n",
       "      <td>-1.285483</td>\n",
       "      <td>-1.026891</td>\n",
       "      <td>0.921532</td>\n",
       "      <td>-1.551937</td>\n",
       "      <td>2011</td>\n",
       "      <td>1</td>\n",
       "      <td>2</td>\n",
       "    </tr>\n",
       "  </tbody>\n",
       "</table>\n",
       "</div>"
      ],
      "text/plain": [
       "   season  holiday  weather      temp     atemp  humidity  windspeed  year  \\\n",
       "0       1        1        1 -1.186610 -0.943691  0.967935  -1.551937  2011   \n",
       "1       1        1        1 -1.285483 -1.026891  0.921532  -1.551937  2011   \n",
       "2       1        1        1 -1.285483 -1.026891  0.921532  -1.551937  2011   \n",
       "\n",
       "   month  hour  \n",
       "0      1     0  \n",
       "1      1     1  \n",
       "2      1     2  "
      ]
     },
     "execution_count": 331,
     "metadata": {},
     "output_type": "execute_result"
    }
   ],
   "source": [
    "x_train.head(3)"
   ]
  },
  {
   "cell_type": "code",
   "execution_count": 332,
   "id": "234dabe6",
   "metadata": {},
   "outputs": [],
   "source": [
    "#로버스트\n",
    "x_test[['temp', 'atemp','humidity','windspeed']] = rbst.transform(x_test[['temp', 'atemp','humidity','windspeed']])"
   ]
  },
  {
   "cell_type": "code",
   "execution_count": 333,
   "id": "58bf2de4",
   "metadata": {},
   "outputs": [],
   "source": [
    "#민맥스\n",
    "x_test[['temp', 'atemp','humidity','windspeed']] = mms.transform(x_test[['temp', 'atemp','humidity','windspeed']])"
   ]
  },
  {
   "cell_type": "code",
   "execution_count": 334,
   "id": "91650e57",
   "metadata": {},
   "outputs": [],
   "source": [
    "#스탠다드\n",
    "x_test[['temp', 'atemp','humidity','windspeed']] = ss.transform(x_test[['temp', 'atemp','humidity','windspeed']])"
   ]
  },
  {
   "cell_type": "markdown",
   "id": "990816fe",
   "metadata": {},
   "source": [
    "- 유의 피처 추출"
   ]
  },
  {
   "cell_type": "markdown",
   "id": "e415c68c",
   "metadata": {},
   "source": [
    "- RMSLE 평가지표 함수 생성"
   ]
  },
  {
   "cell_type": "code",
   "execution_count": 335,
   "id": "857ca309",
   "metadata": {},
   "outputs": [],
   "source": [
    "def rmsle(y, pred):\n",
    "    logY = np.log1p(y)\n",
    "    logPred = np.log1p(pred)\n",
    "    sq_error = (logY - logPred)**2\n",
    "    rmsle = np.sqrt(np.mean(sq_error))\n",
    "    return rmsle"
   ]
  },
  {
   "cell_type": "markdown",
   "id": "51aae3d9",
   "metadata": {},
   "source": [
    "- 훈련 테스트 분할"
   ]
  },
  {
   "cell_type": "code",
   "execution_count": 336,
   "id": "a0601bbf",
   "metadata": {},
   "outputs": [],
   "source": [
    "from sklearn.model_selection import train_test_split\n",
    "Xtrain, Xtest, Ytrain, Ytest = train_test_split(x_train, y_train, test_size=0.2, random_state=999)"
   ]
  },
  {
   "cell_type": "code",
   "execution_count": 337,
   "id": "62c14a7e",
   "metadata": {},
   "outputs": [
    {
     "data": {
      "text/plain": [
       "GridSearchCV(cv=KFold(n_splits=5, random_state=999, shuffle=True),\n",
       "             estimator=RandomForestRegressor(random_state=42), n_jobs=-1,\n",
       "             param_grid=[{'max_depth': [4, 5, 6, 10],\n",
       "                          'n_estimators': [50, 100, 200, 500]}])"
      ]
     },
     "execution_count": 337,
     "metadata": {},
     "output_type": "execute_result"
    }
   ],
   "source": [
    "#검증\n",
    "rf_grid.fit(Xtrain, Ytrain)"
   ]
  },
  {
   "cell_type": "code",
   "execution_count": 338,
   "id": "76eb2b39",
   "metadata": {},
   "outputs": [
    {
     "name": "stdout",
     "output_type": "stream",
     "text": [
      "RMSE : 53.80845607775781\n",
      "RMSLE : 0.43837759268765064\n"
     ]
    }
   ],
   "source": [
    "pred = rf_grid.best_estimator_.predict(Xtest)\n",
    "print('RMSE :', np.sqrt(mean_squared_error(Ytest, pred)))\n",
    "print('RMSLE :', rmsle(Ytest, pred))"
   ]
  },
  {
   "cell_type": "code",
   "execution_count": 339,
   "id": "a2ad68be",
   "metadata": {},
   "outputs": [
    {
     "ename": "SyntaxError",
     "evalue": "invalid syntax (<ipython-input-339-6d28dc2dba19>, line 1)",
     "output_type": "error",
     "traceback": [
      "\u001b[1;36m  File \u001b[1;32m\"<ipython-input-339-6d28dc2dba19>\"\u001b[1;36m, line \u001b[1;32m1\u001b[0m\n\u001b[1;33m    1트\u001b[0m\n\u001b[1;37m     ^\u001b[0m\n\u001b[1;31mSyntaxError\u001b[0m\u001b[1;31m:\u001b[0m invalid syntax\n"
     ]
    }
   ],
   "source": [
    "1트\n",
    "RMSE : 47.89517126589583\n",
    "RMSLE : 0.3586766758201079"
   ]
  },
  {
   "cell_type": "code",
   "execution_count": null,
   "id": "a631a423",
   "metadata": {},
   "outputs": [],
   "source": [
    "2트\n",
    "RMSE : 54.155366632510976\n",
    "RMSLE : 0.43774798234538476"
   ]
  },
  {
   "cell_type": "code",
   "execution_count": null,
   "id": "182ea3d2",
   "metadata": {},
   "outputs": [],
   "source": [
    "RMSE : 53.653861633683825\n",
    "RMSLE : 0.43740048554114425"
   ]
  },
  {
   "cell_type": "code",
   "execution_count": null,
   "id": "9e57b43a",
   "metadata": {},
   "outputs": [],
   "source": [
    "RMSE : 53.73690326137429\n",
    "RMSLE : 0.4384885891833433"
   ]
  },
  {
   "cell_type": "code",
   "execution_count": null,
   "id": "a7f63ca1",
   "metadata": {},
   "outputs": [],
   "source": []
  },
  {
   "cell_type": "code",
   "execution_count": null,
   "id": "a7857f8a",
   "metadata": {},
   "outputs": [],
   "source": [
    "from sklearn.ensemble import RandomForestRegressor, GradientBoostingRegressor\n",
    "from xgboost import XGBRegressor\n",
    "from lightgbm import LGBMRegressor\n",
    "from sklearn.model_selection import GridSearchCV, KFold\n",
    "from sklearn.metrics import mean_squared_error"
   ]
  },
  {
   "cell_type": "code",
   "execution_count": null,
   "id": "66312000",
   "metadata": {},
   "outputs": [],
   "source": [
    "kfold = KFold(n_splits = 5, shuffle=True, random_state=999)"
   ]
  },
  {
   "cell_type": "code",
   "execution_count": null,
   "id": "4c00ae72",
   "metadata": {},
   "outputs": [],
   "source": [
    "rf = RandomForestRegressor(random_state=42) #렌포\n",
    "rf_parameters = [{'n_estimators':[50,100,200,500], 'max_depth' : [4,5,6,10]}]\n",
    "rf_grid = GridSearchCV(rf, param_grid = rf_parameters, cv=kfold, n_jobs = -1)"
   ]
  },
  {
   "cell_type": "code",
   "execution_count": 119,
   "id": "0658903d",
   "metadata": {},
   "outputs": [],
   "source": [
    "xgb = XGBRegressor(random_state=999) #xgb\n",
    "xgb_parameters = {'n_estimators':[50,100,200], 'max_depth' : [5,6,10], 'learning_rate' : [0.01, 0.1, 0.2]}\n",
    "xgb_grid = GridSearchCV(xgb, param_grid = xgb_parameters, cv=3, n_jobs = -1)"
   ]
  },
  {
   "cell_type": "code",
   "execution_count": 120,
   "id": "0401edd3",
   "metadata": {},
   "outputs": [],
   "source": [
    "lgb = LGBMRegressor(random_state=999) #lgbm\n",
    "lgb_parameters = {'n_estimators':[50,100,200], 'max_depth' : [5,6,10], 'learning_rate' : [0.01, 0.1, 0.2]}\n",
    "lgb_grid = GridSearchCV(lgb, param_grid = lgb_parameters, cv=3, n_jobs = -1)"
   ]
  },
  {
   "cell_type": "code",
   "execution_count": 188,
   "id": "e0d5f055",
   "metadata": {},
   "outputs": [],
   "source": [
    "gbr = GradientBoostingRegressor(random_state=999)\n",
    "gbr_parameters = {'n_estimators':[50,100,200,500], 'max_depth' : [5,6,10], 'learning_rate' : [0.01, 0.1, 0.2]}\n",
    "gbr_grid = GridSearchCV(gbr, param_grid = gbr_parameters, cv=3, n_jobs = -1)"
   ]
  },
  {
   "cell_type": "markdown",
   "id": "65db08ce",
   "metadata": {},
   "source": [
    "for model in [rf_grid, xgb_grid, lgb_grid, gbr_grid]:\n",
    "    model.fit(Xtrain, Ytrain)\n",
    "    pred = model.best_estimator_.predict(Xtest)\n",
    "    print('RMSE :', np.sqrt(mean_squared_error(Ytest, pred)))\n",
    "    print('RMSLE :', rmsle(Ytest, pred))"
   ]
  },
  {
   "cell_type": "code",
   "execution_count": 194,
   "id": "a125a2ec",
   "metadata": {},
   "outputs": [
    {
     "name": "stdout",
     "output_type": "stream",
     "text": [
      "<class 'pandas.core.frame.DataFrame'>\n",
      "Int64Index: 8708 entries, 2021 to 481\n",
      "Data columns (total 12 columns):\n",
      " #   Column     Non-Null Count  Dtype  \n",
      "---  ------     --------------  -----  \n",
      " 0   datetime   8708 non-null   object \n",
      " 1   season     8708 non-null   int64  \n",
      " 2   holiday    8708 non-null   int64  \n",
      " 3   weather    8708 non-null   int64  \n",
      " 4   temp       8708 non-null   float64\n",
      " 5   atemp      8708 non-null   float64\n",
      " 6   humidity   8708 non-null   float64\n",
      " 7   windspeed  8708 non-null   float64\n",
      " 8   year       8708 non-null   int64  \n",
      " 9   month      8708 non-null   int64  \n",
      " 10  day        8708 non-null   int64  \n",
      " 11  hour       8708 non-null   int64  \n",
      "dtypes: float64(4), int64(7), object(1)\n",
      "memory usage: 884.4+ KB\n"
     ]
    }
   ],
   "source": [
    "Xtrain.info()"
   ]
  },
  {
   "cell_type": "code",
   "execution_count": null,
   "id": "1d1573ed",
   "metadata": {},
   "outputs": [],
   "source": [
    "#검증\n",
    "rf_grid.fit(Xtrain, Ytrain)\n",
    "pred = model.best_estimator_.predict(Xtest)\n",
    "print('RMSE :', np.sqrt(mean_squared_error(Ytest, pred)))\n",
    "print('RMSLE :', rmsle(Ytest, pred))"
   ]
  },
  {
   "cell_type": "code",
   "execution_count": 340,
   "id": "5d62e87e",
   "metadata": {
    "scrolled": false
   },
   "outputs": [
    {
     "data": {
      "text/html": [
       "<div>\n",
       "<style scoped>\n",
       "    .dataframe tbody tr th:only-of-type {\n",
       "        vertical-align: middle;\n",
       "    }\n",
       "\n",
       "    .dataframe tbody tr th {\n",
       "        vertical-align: top;\n",
       "    }\n",
       "\n",
       "    .dataframe thead th {\n",
       "        text-align: right;\n",
       "    }\n",
       "</style>\n",
       "<table border=\"1\" class=\"dataframe\">\n",
       "  <thead>\n",
       "    <tr style=\"text-align: right;\">\n",
       "      <th></th>\n",
       "      <th>season</th>\n",
       "      <th>holiday</th>\n",
       "      <th>weather</th>\n",
       "      <th>temp</th>\n",
       "      <th>atemp</th>\n",
       "      <th>humidity</th>\n",
       "      <th>windspeed</th>\n",
       "      <th>year</th>\n",
       "      <th>month</th>\n",
       "      <th>hour</th>\n",
       "    </tr>\n",
       "  </thead>\n",
       "  <tbody>\n",
       "    <tr>\n",
       "      <th>10155</th>\n",
       "      <td>4</td>\n",
       "      <td>0</td>\n",
       "      <td>1</td>\n",
       "      <td>-0.197876</td>\n",
       "      <td>-0.114424</td>\n",
       "      <td>-1.955474</td>\n",
       "      <td>1.970325</td>\n",
       "      <td>2012</td>\n",
       "      <td>11</td>\n",
       "      <td>13</td>\n",
       "    </tr>\n",
       "    <tr>\n",
       "      <th>8796</th>\n",
       "      <td>3</td>\n",
       "      <td>0</td>\n",
       "      <td>1</td>\n",
       "      <td>1.285224</td>\n",
       "      <td>1.295603</td>\n",
       "      <td>0.271885</td>\n",
       "      <td>-0.671161</td>\n",
       "      <td>2012</td>\n",
       "      <td>8</td>\n",
       "      <td>21</td>\n",
       "    </tr>\n",
       "    <tr>\n",
       "      <th>1018</th>\n",
       "      <td>1</td>\n",
       "      <td>1</td>\n",
       "      <td>2</td>\n",
       "      <td>-1.285483</td>\n",
       "      <td>-1.441251</td>\n",
       "      <td>1.849599</td>\n",
       "      <td>1.719156</td>\n",
       "      <td>2011</td>\n",
       "      <td>3</td>\n",
       "      <td>22</td>\n",
       "    </tr>\n",
       "    <tr>\n",
       "      <th>10860</th>\n",
       "      <td>4</td>\n",
       "      <td>0</td>\n",
       "      <td>1</td>\n",
       "      <td>-0.692243</td>\n",
       "      <td>-0.695185</td>\n",
       "      <td>-0.516971</td>\n",
       "      <td>-1.551937</td>\n",
       "      <td>2012</td>\n",
       "      <td>12</td>\n",
       "      <td>22</td>\n",
       "    </tr>\n",
       "    <tr>\n",
       "      <th>7500</th>\n",
       "      <td>2</td>\n",
       "      <td>0</td>\n",
       "      <td>1</td>\n",
       "      <td>0.593110</td>\n",
       "      <td>0.798043</td>\n",
       "      <td>-1.491441</td>\n",
       "      <td>-0.671161</td>\n",
       "      <td>2012</td>\n",
       "      <td>5</td>\n",
       "      <td>21</td>\n",
       "    </tr>\n",
       "    <tr>\n",
       "      <th>...</th>\n",
       "      <td>...</td>\n",
       "      <td>...</td>\n",
       "      <td>...</td>\n",
       "      <td>...</td>\n",
       "      <td>...</td>\n",
       "      <td>...</td>\n",
       "      <td>...</td>\n",
       "      <td>...</td>\n",
       "      <td>...</td>\n",
       "      <td>...</td>\n",
       "    </tr>\n",
       "    <tr>\n",
       "      <th>3617</th>\n",
       "      <td>3</td>\n",
       "      <td>0</td>\n",
       "      <td>1</td>\n",
       "      <td>1.186350</td>\n",
       "      <td>1.129749</td>\n",
       "      <td>-0.424165</td>\n",
       "      <td>-0.419992</td>\n",
       "      <td>2011</td>\n",
       "      <td>9</td>\n",
       "      <td>15</td>\n",
       "    </tr>\n",
       "    <tr>\n",
       "      <th>664</th>\n",
       "      <td>1</td>\n",
       "      <td>0</td>\n",
       "      <td>1</td>\n",
       "      <td>-1.779850</td>\n",
       "      <td>-1.441251</td>\n",
       "      <td>-0.981005</td>\n",
       "      <td>-1.551937</td>\n",
       "      <td>2011</td>\n",
       "      <td>2</td>\n",
       "      <td>22</td>\n",
       "    </tr>\n",
       "    <tr>\n",
       "      <th>4737</th>\n",
       "      <td>4</td>\n",
       "      <td>0</td>\n",
       "      <td>2</td>\n",
       "      <td>-0.099003</td>\n",
       "      <td>-0.031771</td>\n",
       "      <td>0.318289</td>\n",
       "      <td>1.719156</td>\n",
       "      <td>2011</td>\n",
       "      <td>11</td>\n",
       "      <td>11</td>\n",
       "    </tr>\n",
       "    <tr>\n",
       "      <th>1883</th>\n",
       "      <td>2</td>\n",
       "      <td>0</td>\n",
       "      <td>1</td>\n",
       "      <td>-0.099003</td>\n",
       "      <td>-0.031771</td>\n",
       "      <td>-0.748988</td>\n",
       "      <td>0.838380</td>\n",
       "      <td>2011</td>\n",
       "      <td>5</td>\n",
       "      <td>9</td>\n",
       "    </tr>\n",
       "    <tr>\n",
       "      <th>2488</th>\n",
       "      <td>2</td>\n",
       "      <td>1</td>\n",
       "      <td>1</td>\n",
       "      <td>1.680717</td>\n",
       "      <td>1.709962</td>\n",
       "      <td>-0.516971</td>\n",
       "      <td>-0.671161</td>\n",
       "      <td>2011</td>\n",
       "      <td>6</td>\n",
       "      <td>14</td>\n",
       "    </tr>\n",
       "  </tbody>\n",
       "</table>\n",
       "<p>2178 rows × 10 columns</p>\n",
       "</div>"
      ],
      "text/plain": [
       "       season  holiday  weather      temp     atemp  humidity  windspeed  \\\n",
       "10155       4        0        1 -0.197876 -0.114424 -1.955474   1.970325   \n",
       "8796        3        0        1  1.285224  1.295603  0.271885  -0.671161   \n",
       "1018        1        1        2 -1.285483 -1.441251  1.849599   1.719156   \n",
       "10860       4        0        1 -0.692243 -0.695185 -0.516971  -1.551937   \n",
       "7500        2        0        1  0.593110  0.798043 -1.491441  -0.671161   \n",
       "...       ...      ...      ...       ...       ...       ...        ...   \n",
       "3617        3        0        1  1.186350  1.129749 -0.424165  -0.419992   \n",
       "664         1        0        1 -1.779850 -1.441251 -0.981005  -1.551937   \n",
       "4737        4        0        2 -0.099003 -0.031771  0.318289   1.719156   \n",
       "1883        2        0        1 -0.099003 -0.031771 -0.748988   0.838380   \n",
       "2488        2        1        1  1.680717  1.709962 -0.516971  -0.671161   \n",
       "\n",
       "       year  month  hour  \n",
       "10155  2012     11    13  \n",
       "8796   2012      8    21  \n",
       "1018   2011      3    22  \n",
       "10860  2012     12    22  \n",
       "7500   2012      5    21  \n",
       "...     ...    ...   ...  \n",
       "3617   2011      9    15  \n",
       "664    2011      2    22  \n",
       "4737   2011     11    11  \n",
       "1883   2011      5     9  \n",
       "2488   2011      6    14  \n",
       "\n",
       "[2178 rows x 10 columns]"
      ]
     },
     "execution_count": 340,
     "metadata": {},
     "output_type": "execute_result"
    }
   ],
   "source": [
    "Xtest"
   ]
  },
  {
   "cell_type": "code",
   "execution_count": 341,
   "id": "9a35aaf2",
   "metadata": {},
   "outputs": [
    {
     "data": {
      "text/html": [
       "<div>\n",
       "<style scoped>\n",
       "    .dataframe tbody tr th:only-of-type {\n",
       "        vertical-align: middle;\n",
       "    }\n",
       "\n",
       "    .dataframe tbody tr th {\n",
       "        vertical-align: top;\n",
       "    }\n",
       "\n",
       "    .dataframe thead th {\n",
       "        text-align: right;\n",
       "    }\n",
       "</style>\n",
       "<table border=\"1\" class=\"dataframe\">\n",
       "  <thead>\n",
       "    <tr style=\"text-align: right;\">\n",
       "      <th></th>\n",
       "      <th>season</th>\n",
       "      <th>holiday</th>\n",
       "      <th>weather</th>\n",
       "      <th>temp</th>\n",
       "      <th>atemp</th>\n",
       "      <th>humidity</th>\n",
       "      <th>windspeed</th>\n",
       "      <th>year</th>\n",
       "      <th>month</th>\n",
       "      <th>hour</th>\n",
       "    </tr>\n",
       "  </thead>\n",
       "  <tbody>\n",
       "    <tr>\n",
       "      <th>0</th>\n",
       "      <td>1</td>\n",
       "      <td>0</td>\n",
       "      <td>1</td>\n",
       "      <td>-1.087736</td>\n",
       "      <td>-1.275397</td>\n",
       "      <td>-0.192148</td>\n",
       "      <td>1.719156</td>\n",
       "      <td>2011</td>\n",
       "      <td>1</td>\n",
       "      <td>0</td>\n",
       "    </tr>\n",
       "    <tr>\n",
       "      <th>1</th>\n",
       "      <td>1</td>\n",
       "      <td>0</td>\n",
       "      <td>1</td>\n",
       "      <td>-1.087736</td>\n",
       "      <td>-1.026891</td>\n",
       "      <td>-0.192148</td>\n",
       "      <td>-1.551937</td>\n",
       "      <td>2011</td>\n",
       "      <td>1</td>\n",
       "      <td>1</td>\n",
       "    </tr>\n",
       "    <tr>\n",
       "      <th>2</th>\n",
       "      <td>1</td>\n",
       "      <td>0</td>\n",
       "      <td>1</td>\n",
       "      <td>-1.087736</td>\n",
       "      <td>-1.026891</td>\n",
       "      <td>-0.192148</td>\n",
       "      <td>-1.551937</td>\n",
       "      <td>2011</td>\n",
       "      <td>1</td>\n",
       "      <td>2</td>\n",
       "    </tr>\n",
       "    <tr>\n",
       "      <th>3</th>\n",
       "      <td>1</td>\n",
       "      <td>0</td>\n",
       "      <td>1</td>\n",
       "      <td>-1.087736</td>\n",
       "      <td>-1.109544</td>\n",
       "      <td>-0.192148</td>\n",
       "      <td>-0.167981</td>\n",
       "      <td>2011</td>\n",
       "      <td>1</td>\n",
       "      <td>3</td>\n",
       "    </tr>\n",
       "    <tr>\n",
       "      <th>4</th>\n",
       "      <td>1</td>\n",
       "      <td>0</td>\n",
       "      <td>1</td>\n",
       "      <td>-1.087736</td>\n",
       "      <td>-1.109544</td>\n",
       "      <td>-0.192148</td>\n",
       "      <td>-0.167981</td>\n",
       "      <td>2011</td>\n",
       "      <td>1</td>\n",
       "      <td>4</td>\n",
       "    </tr>\n",
       "    <tr>\n",
       "      <th>...</th>\n",
       "      <td>...</td>\n",
       "      <td>...</td>\n",
       "      <td>...</td>\n",
       "      <td>...</td>\n",
       "      <td>...</td>\n",
       "      <td>...</td>\n",
       "      <td>...</td>\n",
       "      <td>...</td>\n",
       "      <td>...</td>\n",
       "      <td>...</td>\n",
       "    </tr>\n",
       "    <tr>\n",
       "      <th>6488</th>\n",
       "      <td>1</td>\n",
       "      <td>0</td>\n",
       "      <td>2</td>\n",
       "      <td>-1.087736</td>\n",
       "      <td>-1.109544</td>\n",
       "      <td>-0.006535</td>\n",
       "      <td>-0.167981</td>\n",
       "      <td>2012</td>\n",
       "      <td>12</td>\n",
       "      <td>19</td>\n",
       "    </tr>\n",
       "    <tr>\n",
       "      <th>6489</th>\n",
       "      <td>1</td>\n",
       "      <td>0</td>\n",
       "      <td>2</td>\n",
       "      <td>-1.087736</td>\n",
       "      <td>-1.109544</td>\n",
       "      <td>-0.006535</td>\n",
       "      <td>-0.167981</td>\n",
       "      <td>2012</td>\n",
       "      <td>12</td>\n",
       "      <td>20</td>\n",
       "    </tr>\n",
       "    <tr>\n",
       "      <th>6490</th>\n",
       "      <td>1</td>\n",
       "      <td>0</td>\n",
       "      <td>1</td>\n",
       "      <td>-1.087736</td>\n",
       "      <td>-1.109544</td>\n",
       "      <td>-0.006535</td>\n",
       "      <td>-0.167981</td>\n",
       "      <td>2012</td>\n",
       "      <td>12</td>\n",
       "      <td>21</td>\n",
       "    </tr>\n",
       "    <tr>\n",
       "      <th>6491</th>\n",
       "      <td>1</td>\n",
       "      <td>0</td>\n",
       "      <td>1</td>\n",
       "      <td>-1.087736</td>\n",
       "      <td>-1.026891</td>\n",
       "      <td>-0.192148</td>\n",
       "      <td>-0.419992</td>\n",
       "      <td>2012</td>\n",
       "      <td>12</td>\n",
       "      <td>22</td>\n",
       "    </tr>\n",
       "    <tr>\n",
       "      <th>6492</th>\n",
       "      <td>1</td>\n",
       "      <td>0</td>\n",
       "      <td>1</td>\n",
       "      <td>-1.087736</td>\n",
       "      <td>-1.026891</td>\n",
       "      <td>0.225482</td>\n",
       "      <td>-0.419992</td>\n",
       "      <td>2012</td>\n",
       "      <td>12</td>\n",
       "      <td>23</td>\n",
       "    </tr>\n",
       "  </tbody>\n",
       "</table>\n",
       "<p>6493 rows × 10 columns</p>\n",
       "</div>"
      ],
      "text/plain": [
       "      season  holiday  weather      temp     atemp  humidity  windspeed  year  \\\n",
       "0          1        0        1 -1.087736 -1.275397 -0.192148   1.719156  2011   \n",
       "1          1        0        1 -1.087736 -1.026891 -0.192148  -1.551937  2011   \n",
       "2          1        0        1 -1.087736 -1.026891 -0.192148  -1.551937  2011   \n",
       "3          1        0        1 -1.087736 -1.109544 -0.192148  -0.167981  2011   \n",
       "4          1        0        1 -1.087736 -1.109544 -0.192148  -0.167981  2011   \n",
       "...      ...      ...      ...       ...       ...       ...        ...   ...   \n",
       "6488       1        0        2 -1.087736 -1.109544 -0.006535  -0.167981  2012   \n",
       "6489       1        0        2 -1.087736 -1.109544 -0.006535  -0.167981  2012   \n",
       "6490       1        0        1 -1.087736 -1.109544 -0.006535  -0.167981  2012   \n",
       "6491       1        0        1 -1.087736 -1.026891 -0.192148  -0.419992  2012   \n",
       "6492       1        0        1 -1.087736 -1.026891  0.225482  -0.419992  2012   \n",
       "\n",
       "      month  hour  \n",
       "0         1     0  \n",
       "1         1     1  \n",
       "2         1     2  \n",
       "3         1     3  \n",
       "4         1     4  \n",
       "...     ...   ...  \n",
       "6488     12    19  \n",
       "6489     12    20  \n",
       "6490     12    21  \n",
       "6491     12    22  \n",
       "6492     12    23  \n",
       "\n",
       "[6493 rows x 10 columns]"
      ]
     },
     "execution_count": 341,
     "metadata": {},
     "output_type": "execute_result"
    }
   ],
   "source": [
    "x_test"
   ]
  },
  {
   "cell_type": "markdown",
   "id": "679c9170",
   "metadata": {},
   "source": [
    "- xgb lgb, gbr 사용법이 익숙치 않아 계속 오류가 난다. 성능도 나쁘다."
   ]
  },
  {
   "cell_type": "code",
   "execution_count": 342,
   "id": "4528e465",
   "metadata": {
    "scrolled": false
   },
   "outputs": [
    {
     "data": {
      "text/plain": [
       "GridSearchCV(cv=KFold(n_splits=5, random_state=999, shuffle=True),\n",
       "             estimator=RandomForestRegressor(random_state=42), n_jobs=-1,\n",
       "             param_grid=[{'max_depth': [4, 5, 6, 10],\n",
       "                          'n_estimators': [50, 100, 200, 500]}])"
      ]
     },
     "execution_count": 342,
     "metadata": {},
     "output_type": "execute_result"
    }
   ],
   "source": [
    "rf_grid.fit(x_train, y_train) # 검증 후 원 훈련세트로 훈련"
   ]
  },
  {
   "cell_type": "code",
   "execution_count": 343,
   "id": "db0d4c7d",
   "metadata": {},
   "outputs": [
    {
     "data": {
      "text/plain": [
       "{'max_depth': 10, 'n_estimators': 500}"
      ]
     },
     "execution_count": 343,
     "metadata": {},
     "output_type": "execute_result"
    }
   ],
   "source": [
    "rf_grid.best_params_"
   ]
  },
  {
   "cell_type": "code",
   "execution_count": 344,
   "id": "cc8069eb",
   "metadata": {},
   "outputs": [
    {
     "data": {
      "text/plain": [
       "RandomForestRegressor(max_depth=10, n_estimators=500, random_state=42)"
      ]
     },
     "execution_count": 344,
     "metadata": {},
     "output_type": "execute_result"
    }
   ],
   "source": [
    "rf_grid.best_estimator_"
   ]
  },
  {
   "cell_type": "code",
   "execution_count": 345,
   "id": "74f3437b",
   "metadata": {},
   "outputs": [],
   "source": [
    "sub['count'] = rf_grid.best_estimator_.predict(x_test)"
   ]
  },
  {
   "cell_type": "code",
   "execution_count": 346,
   "id": "ace0b71d",
   "metadata": {},
   "outputs": [],
   "source": [
    "#sub['count'] = np.expm1(sub['count'])"
   ]
  },
  {
   "cell_type": "code",
   "execution_count": 347,
   "id": "f8d27bed",
   "metadata": {},
   "outputs": [],
   "source": [
    "ver=5\n",
    "sub.to_csv(\"ver_{0}_bike_submission.csv\".format(ver), index=False)"
   ]
  },
  {
   "cell_type": "markdown",
   "id": "832eed58",
   "metadata": {},
   "source": [
    "1. ohe 없이 = 0.50794\n",
    "2. ohe 후 = 0.95965\n",
    "3. 유의변수 x_train[['workingday', 'temp', 'atemp', 'year', 'month', 'hour']] = 0.51733\n",
    "4. 유의피쳐 추출 없이 원 데이터로 진행 = 0.50157\n",
    "5. 원 데이터 fit 후 회귀예측 = 0.49805\n",
    "6. 0.48543\n",
    "7. 0.49814\n",
    "8. minmax = 0.50162\n",
    "9. std = 0.49815\n",
    "11. 0.50031"
   ]
  },
  {
   "cell_type": "code",
   "execution_count": null,
   "id": "b39e90c2",
   "metadata": {},
   "outputs": [],
   "source": []
  }
 ],
 "metadata": {
  "kernelspec": {
   "display_name": "Python 3",
   "language": "python",
   "name": "python3"
  },
  "language_info": {
   "codemirror_mode": {
    "name": "ipython",
    "version": 3
   },
   "file_extension": ".py",
   "mimetype": "text/x-python",
   "name": "python",
   "nbconvert_exporter": "python",
   "pygments_lexer": "ipython3",
   "version": "3.8.8"
  }
 },
 "nbformat": 4,
 "nbformat_minor": 5
}
