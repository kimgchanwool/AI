{
 "cells": [
  {
   "cell_type": "code",
   "execution_count": null,
   "id": "02ef5a3e",
   "metadata": {},
   "outputs": [],
   "source": [
    "데이터 마이닝 (대량에 데이터에서 새롭고 가치있고 의사결정에 유용한 정보를 찾는것임)\n",
    "데이터라는 광산에서 광물을 캐내는 것과 같다해서 데이터 마이닝\n",
    "\n",
    "그래서 이를 통해 나온 지식이 모델링의 데이터가 되어 학습 하는 것이 머신러닝임."
   ]
  },
  {
   "cell_type": "code",
   "execution_count": null,
   "id": "ebe6eed4",
   "metadata": {},
   "outputs": [],
   "source": [
    "통계(데이터 모델링), 데이터마이닝(데이터전처리), 컴퓨터 사이언스(인공지능)의 교집합이 머신러닝이다."
   ]
  },
  {
   "cell_type": "code",
   "execution_count": null,
   "id": "d7b58bd2",
   "metadata": {},
   "outputs": [],
   "source": [
    "scipy는 과학계산 위주임. numpy pandas matplotlib jupyter  사이킷런이 중요하다\n",
    "scikit-learn \n",
    "분류(종류별 분류 옳고그른것등등) \n",
    "회귀(연속수치 예측) \n",
    "클러스터링(unsupervised learning의 일부로 비감독 학습 = 지도없이 학습 = 정답없이 학습, 경향을 분석하거나 어떤 특징을 가지는 지 파악하는 기법) \n",
    "차원축소 (인수분해등을 통한 시리즈형태를 만들거나 한다.)\n",
    "모델선택 (해당 데이터에 맞는 모델을 탐색해주고 검증하여 비교해준다.)\n",
    "전처리 (pandas에서 주로하는 NaN등의 처리와 이와같은 데이터 전처리를 하기 용이하다.)\n",
    "등등의 모듈을 보유하고 있다."
   ]
  },
  {
   "cell_type": "code",
   "execution_count": null,
   "id": "97717f45",
   "metadata": {},
   "outputs": [],
   "source": [
    "분류 예측 프로세스 붓꽃 데이터\n",
    "컬럼이 피처로 가는 것이 다수다 그리고 레이블은 분류다. 분류가 정답인데 분류가 정해지면 지도학습 안정해지면 비지도 학습\\\n",
    "\n",
    "정답이 정해진 것으로 학습하고\n",
    "정답이 없는 것으로 테스트를 하는 것이 머신러닝이다."
   ]
  },
  {
   "cell_type": "code",
   "execution_count": null,
   "id": "68ba0063",
   "metadata": {},
   "outputs": [],
   "source": []
  },
  {
   "cell_type": "code",
   "execution_count": null,
   "id": "e3952c1f",
   "metadata": {},
   "outputs": [],
   "source": []
  },
  {
   "cell_type": "code",
   "execution_count": null,
   "id": "37bdc29f",
   "metadata": {},
   "outputs": [],
   "source": []
  },
  {
   "cell_type": "code",
   "execution_count": null,
   "id": "f9478e66",
   "metadata": {},
   "outputs": [],
   "source": []
  }
 ],
 "metadata": {
  "kernelspec": {
   "display_name": "Python 3",
   "language": "python",
   "name": "python3"
  },
  "language_info": {
   "codemirror_mode": {
    "name": "ipython",
    "version": 3
   },
   "file_extension": ".py",
   "mimetype": "text/x-python",
   "name": "python",
   "nbconvert_exporter": "python",
   "pygments_lexer": "ipython3",
   "version": "3.8.8"
  }
 },
 "nbformat": 4,
 "nbformat_minor": 5
}
