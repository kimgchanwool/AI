{
 "cells": [
  {
   "cell_type": "markdown",
   "metadata": {},
   "source": [
    "## 콘크리트 데이터셋 도전"
   ]
  },
  {
   "cell_type": "markdown",
   "metadata": {},
   "source": [
    "- [UCI Machine Learning Repository](http://archive.ics.uci.edu/ml/index.php)의 [\n",
    "Concrete Compressive Strength Data Set](https://archive.ics.uci.edu/ml/datasets/concrete+compressive+strength)에서 `Concrete_Data.xls`를 다운로드\n"
   ]
  },
  {
   "cell_type": "markdown",
   "metadata": {},
   "source": [
    "### 1. 데이터 탐색 및 전처리"
   ]
  },
  {
   "cell_type": "markdown",
   "metadata": {},
   "source": [
    "* 데이터 적재"
   ]
  },
  {
   "cell_type": "code",
   "execution_count": 41,
   "metadata": {
    "scrolled": true
   },
   "outputs": [
    {
     "data": {
      "text/html": [
       "<div>\n",
       "<style scoped>\n",
       "    .dataframe tbody tr th:only-of-type {\n",
       "        vertical-align: middle;\n",
       "    }\n",
       "\n",
       "    .dataframe tbody tr th {\n",
       "        vertical-align: top;\n",
       "    }\n",
       "\n",
       "    .dataframe thead th {\n",
       "        text-align: right;\n",
       "    }\n",
       "</style>\n",
       "<table border=\"1\" class=\"dataframe\">\n",
       "  <thead>\n",
       "    <tr style=\"text-align: right;\">\n",
       "      <th></th>\n",
       "      <th>Cement (component 1)(kg in a m^3 mixture)</th>\n",
       "      <th>Blast Furnace Slag (component 2)(kg in a m^3 mixture)</th>\n",
       "      <th>Fly Ash (component 3)(kg in a m^3 mixture)</th>\n",
       "      <th>Water  (component 4)(kg in a m^3 mixture)</th>\n",
       "      <th>Superplasticizer (component 5)(kg in a m^3 mixture)</th>\n",
       "      <th>Coarse Aggregate  (component 6)(kg in a m^3 mixture)</th>\n",
       "      <th>Fine Aggregate (component 7)(kg in a m^3 mixture)</th>\n",
       "      <th>Age (day)</th>\n",
       "      <th>Concrete compressive strength(MPa, megapascals)</th>\n",
       "    </tr>\n",
       "  </thead>\n",
       "  <tbody>\n",
       "    <tr>\n",
       "      <th>0</th>\n",
       "      <td>540.0</td>\n",
       "      <td>0.0</td>\n",
       "      <td>0.0</td>\n",
       "      <td>162.0</td>\n",
       "      <td>2.5</td>\n",
       "      <td>1040.0</td>\n",
       "      <td>676.0</td>\n",
       "      <td>28</td>\n",
       "      <td>79.986111</td>\n",
       "    </tr>\n",
       "    <tr>\n",
       "      <th>1</th>\n",
       "      <td>540.0</td>\n",
       "      <td>0.0</td>\n",
       "      <td>0.0</td>\n",
       "      <td>162.0</td>\n",
       "      <td>2.5</td>\n",
       "      <td>1055.0</td>\n",
       "      <td>676.0</td>\n",
       "      <td>28</td>\n",
       "      <td>61.887366</td>\n",
       "    </tr>\n",
       "    <tr>\n",
       "      <th>2</th>\n",
       "      <td>332.5</td>\n",
       "      <td>142.5</td>\n",
       "      <td>0.0</td>\n",
       "      <td>228.0</td>\n",
       "      <td>0.0</td>\n",
       "      <td>932.0</td>\n",
       "      <td>594.0</td>\n",
       "      <td>270</td>\n",
       "      <td>40.269535</td>\n",
       "    </tr>\n",
       "    <tr>\n",
       "      <th>3</th>\n",
       "      <td>332.5</td>\n",
       "      <td>142.5</td>\n",
       "      <td>0.0</td>\n",
       "      <td>228.0</td>\n",
       "      <td>0.0</td>\n",
       "      <td>932.0</td>\n",
       "      <td>594.0</td>\n",
       "      <td>365</td>\n",
       "      <td>41.052780</td>\n",
       "    </tr>\n",
       "    <tr>\n",
       "      <th>4</th>\n",
       "      <td>198.6</td>\n",
       "      <td>132.4</td>\n",
       "      <td>0.0</td>\n",
       "      <td>192.0</td>\n",
       "      <td>0.0</td>\n",
       "      <td>978.4</td>\n",
       "      <td>825.5</td>\n",
       "      <td>360</td>\n",
       "      <td>44.296075</td>\n",
       "    </tr>\n",
       "    <tr>\n",
       "      <th>...</th>\n",
       "      <td>...</td>\n",
       "      <td>...</td>\n",
       "      <td>...</td>\n",
       "      <td>...</td>\n",
       "      <td>...</td>\n",
       "      <td>...</td>\n",
       "      <td>...</td>\n",
       "      <td>...</td>\n",
       "      <td>...</td>\n",
       "    </tr>\n",
       "    <tr>\n",
       "      <th>1025</th>\n",
       "      <td>276.4</td>\n",
       "      <td>116.0</td>\n",
       "      <td>90.3</td>\n",
       "      <td>179.6</td>\n",
       "      <td>8.9</td>\n",
       "      <td>870.1</td>\n",
       "      <td>768.3</td>\n",
       "      <td>28</td>\n",
       "      <td>44.284354</td>\n",
       "    </tr>\n",
       "    <tr>\n",
       "      <th>1026</th>\n",
       "      <td>322.2</td>\n",
       "      <td>0.0</td>\n",
       "      <td>115.6</td>\n",
       "      <td>196.0</td>\n",
       "      <td>10.4</td>\n",
       "      <td>817.9</td>\n",
       "      <td>813.4</td>\n",
       "      <td>28</td>\n",
       "      <td>31.178794</td>\n",
       "    </tr>\n",
       "    <tr>\n",
       "      <th>1027</th>\n",
       "      <td>148.5</td>\n",
       "      <td>139.4</td>\n",
       "      <td>108.6</td>\n",
       "      <td>192.7</td>\n",
       "      <td>6.1</td>\n",
       "      <td>892.4</td>\n",
       "      <td>780.0</td>\n",
       "      <td>28</td>\n",
       "      <td>23.696601</td>\n",
       "    </tr>\n",
       "    <tr>\n",
       "      <th>1028</th>\n",
       "      <td>159.1</td>\n",
       "      <td>186.7</td>\n",
       "      <td>0.0</td>\n",
       "      <td>175.6</td>\n",
       "      <td>11.3</td>\n",
       "      <td>989.6</td>\n",
       "      <td>788.9</td>\n",
       "      <td>28</td>\n",
       "      <td>32.768036</td>\n",
       "    </tr>\n",
       "    <tr>\n",
       "      <th>1029</th>\n",
       "      <td>260.9</td>\n",
       "      <td>100.5</td>\n",
       "      <td>78.3</td>\n",
       "      <td>200.6</td>\n",
       "      <td>8.6</td>\n",
       "      <td>864.5</td>\n",
       "      <td>761.5</td>\n",
       "      <td>28</td>\n",
       "      <td>32.401235</td>\n",
       "    </tr>\n",
       "  </tbody>\n",
       "</table>\n",
       "<p>1030 rows × 9 columns</p>\n",
       "</div>"
      ],
      "text/plain": [
       "      Cement (component 1)(kg in a m^3 mixture)  \\\n",
       "0                                         540.0   \n",
       "1                                         540.0   \n",
       "2                                         332.5   \n",
       "3                                         332.5   \n",
       "4                                         198.6   \n",
       "...                                         ...   \n",
       "1025                                      276.4   \n",
       "1026                                      322.2   \n",
       "1027                                      148.5   \n",
       "1028                                      159.1   \n",
       "1029                                      260.9   \n",
       "\n",
       "      Blast Furnace Slag (component 2)(kg in a m^3 mixture)  \\\n",
       "0                                                   0.0       \n",
       "1                                                   0.0       \n",
       "2                                                 142.5       \n",
       "3                                                 142.5       \n",
       "4                                                 132.4       \n",
       "...                                                 ...       \n",
       "1025                                              116.0       \n",
       "1026                                                0.0       \n",
       "1027                                              139.4       \n",
       "1028                                              186.7       \n",
       "1029                                              100.5       \n",
       "\n",
       "      Fly Ash (component 3)(kg in a m^3 mixture)  \\\n",
       "0                                            0.0   \n",
       "1                                            0.0   \n",
       "2                                            0.0   \n",
       "3                                            0.0   \n",
       "4                                            0.0   \n",
       "...                                          ...   \n",
       "1025                                        90.3   \n",
       "1026                                       115.6   \n",
       "1027                                       108.6   \n",
       "1028                                         0.0   \n",
       "1029                                        78.3   \n",
       "\n",
       "      Water  (component 4)(kg in a m^3 mixture)  \\\n",
       "0                                         162.0   \n",
       "1                                         162.0   \n",
       "2                                         228.0   \n",
       "3                                         228.0   \n",
       "4                                         192.0   \n",
       "...                                         ...   \n",
       "1025                                      179.6   \n",
       "1026                                      196.0   \n",
       "1027                                      192.7   \n",
       "1028                                      175.6   \n",
       "1029                                      200.6   \n",
       "\n",
       "      Superplasticizer (component 5)(kg in a m^3 mixture)  \\\n",
       "0                                                   2.5     \n",
       "1                                                   2.5     \n",
       "2                                                   0.0     \n",
       "3                                                   0.0     \n",
       "4                                                   0.0     \n",
       "...                                                 ...     \n",
       "1025                                                8.9     \n",
       "1026                                               10.4     \n",
       "1027                                                6.1     \n",
       "1028                                               11.3     \n",
       "1029                                                8.6     \n",
       "\n",
       "      Coarse Aggregate  (component 6)(kg in a m^3 mixture)  \\\n",
       "0                                                1040.0      \n",
       "1                                                1055.0      \n",
       "2                                                 932.0      \n",
       "3                                                 932.0      \n",
       "4                                                 978.4      \n",
       "...                                                 ...      \n",
       "1025                                              870.1      \n",
       "1026                                              817.9      \n",
       "1027                                              892.4      \n",
       "1028                                              989.6      \n",
       "1029                                              864.5      \n",
       "\n",
       "      Fine Aggregate (component 7)(kg in a m^3 mixture)  Age (day)  \\\n",
       "0                                                 676.0         28   \n",
       "1                                                 676.0         28   \n",
       "2                                                 594.0        270   \n",
       "3                                                 594.0        365   \n",
       "4                                                 825.5        360   \n",
       "...                                                 ...        ...   \n",
       "1025                                              768.3         28   \n",
       "1026                                              813.4         28   \n",
       "1027                                              780.0         28   \n",
       "1028                                              788.9         28   \n",
       "1029                                              761.5         28   \n",
       "\n",
       "      Concrete compressive strength(MPa, megapascals)   \n",
       "0                                            79.986111  \n",
       "1                                            61.887366  \n",
       "2                                            40.269535  \n",
       "3                                            41.052780  \n",
       "4                                            44.296075  \n",
       "...                                                ...  \n",
       "1025                                         44.284354  \n",
       "1026                                         31.178794  \n",
       "1027                                         23.696601  \n",
       "1028                                         32.768036  \n",
       "1029                                         32.401235  \n",
       "\n",
       "[1030 rows x 9 columns]"
      ]
     },
     "execution_count": 41,
     "metadata": {},
     "output_type": "execute_result"
    }
   ],
   "source": [
    "import pandas as pd\n",
    "concrete = pd.read_excel('datasets/Concrete_Data.xls')\n",
    "concrete"
   ]
  },
  {
   "cell_type": "markdown",
   "metadata": {},
   "source": [
    "statics_\n",
    "stdev 분산1 평균0\n",
    "훈련 데이터 테스트 데이터가 있으면\n",
    "중심을 맞추려고 fit을 하는데\n",
    "테스트 데이터에서는 fit을하면 중심점이 바뀌니까 하면 안된다. "
   ]
  },
  {
   "cell_type": "markdown",
   "metadata": {},
   "source": [
    "* **Cement** (component 1) -- quantitative -- kg in a m3 mixture -- Input Variable\n",
    "* **Blast Furnace Slag** (component 2) -- quantitative -- kg in a m3 mixture -- Input Variable\n",
    "* **Fly Ash** (component 3) -- quantitative -- kg in a m3 mixture -- Input Variable\n",
    "* **Water** (component 4) -- quantitative -- kg in a m3 mixture -- Input Variable\n",
    "* **Superplasticizer** (component 5) -- quantitative -- kg in a m3 mixture -- Input Variable\n",
    "* **Coarse Aggregate** (component 6) -- quantitative -- kg in a m3 mixture -- Input Variable\n",
    "* **Fine Aggregate** (component 7) -- quantitative -- kg in a m3 mixture -- Input Variable\n",
    "* **Age** -- quantitative -- Day (1~365) -- Input Variable\n",
    "* **Concrete compressive strength** -- quantitative -- MPa -- Output Variable "
   ]
  },
  {
   "cell_type": "markdown",
   "metadata": {},
   "source": [
    "* columns를 단순한 이름으로 변경"
   ]
  },
  {
   "cell_type": "code",
   "execution_count": 44,
   "metadata": {},
   "outputs": [],
   "source": [
    "concrete.columns = ['cement', 'slag', 'ash', 'water', 'superplastic', 'coarseagg', 'fineagg', 'age', 'strength']"
   ]
  },
  {
   "cell_type": "markdown",
   "metadata": {},
   "source": [
    "* 앞의 2행 확인하기"
   ]
  },
  {
   "cell_type": "code",
   "execution_count": 3,
   "metadata": {},
   "outputs": [
    {
     "data": {
      "text/html": [
       "<div>\n",
       "<style scoped>\n",
       "    .dataframe tbody tr th:only-of-type {\n",
       "        vertical-align: middle;\n",
       "    }\n",
       "\n",
       "    .dataframe tbody tr th {\n",
       "        vertical-align: top;\n",
       "    }\n",
       "\n",
       "    .dataframe thead th {\n",
       "        text-align: right;\n",
       "    }\n",
       "</style>\n",
       "<table border=\"1\" class=\"dataframe\">\n",
       "  <thead>\n",
       "    <tr style=\"text-align: right;\">\n",
       "      <th></th>\n",
       "      <th>cement</th>\n",
       "      <th>slag</th>\n",
       "      <th>ash</th>\n",
       "      <th>water</th>\n",
       "      <th>superplastic</th>\n",
       "      <th>coarseagg</th>\n",
       "      <th>fineagg</th>\n",
       "      <th>age</th>\n",
       "      <th>strength</th>\n",
       "    </tr>\n",
       "  </thead>\n",
       "  <tbody>\n",
       "    <tr>\n",
       "      <th>0</th>\n",
       "      <td>540.0</td>\n",
       "      <td>0.0</td>\n",
       "      <td>0.0</td>\n",
       "      <td>162.0</td>\n",
       "      <td>2.5</td>\n",
       "      <td>1040.0</td>\n",
       "      <td>676.0</td>\n",
       "      <td>28</td>\n",
       "      <td>79.986111</td>\n",
       "    </tr>\n",
       "    <tr>\n",
       "      <th>1</th>\n",
       "      <td>540.0</td>\n",
       "      <td>0.0</td>\n",
       "      <td>0.0</td>\n",
       "      <td>162.0</td>\n",
       "      <td>2.5</td>\n",
       "      <td>1055.0</td>\n",
       "      <td>676.0</td>\n",
       "      <td>28</td>\n",
       "      <td>61.887366</td>\n",
       "    </tr>\n",
       "  </tbody>\n",
       "</table>\n",
       "</div>"
      ],
      "text/plain": [
       "   cement  slag  ash  water  superplastic  coarseagg  fineagg  age   strength\n",
       "0   540.0   0.0  0.0  162.0           2.5     1040.0    676.0   28  79.986111\n",
       "1   540.0   0.0  0.0  162.0           2.5     1055.0    676.0   28  61.887366"
      ]
     },
     "execution_count": 3,
     "metadata": {},
     "output_type": "execute_result"
    }
   ],
   "source": []
  },
  {
   "cell_type": "code",
   "execution_count": 92,
   "metadata": {},
   "outputs": [
    {
     "data": {
      "text/html": [
       "<div>\n",
       "<style scoped>\n",
       "    .dataframe tbody tr th:only-of-type {\n",
       "        vertical-align: middle;\n",
       "    }\n",
       "\n",
       "    .dataframe tbody tr th {\n",
       "        vertical-align: top;\n",
       "    }\n",
       "\n",
       "    .dataframe thead th {\n",
       "        text-align: right;\n",
       "    }\n",
       "</style>\n",
       "<table border=\"1\" class=\"dataframe\">\n",
       "  <thead>\n",
       "    <tr style=\"text-align: right;\">\n",
       "      <th></th>\n",
       "      <th>cement</th>\n",
       "      <th>slag</th>\n",
       "      <th>ash</th>\n",
       "      <th>water</th>\n",
       "      <th>superplastic</th>\n",
       "      <th>coarseagg</th>\n",
       "      <th>fineagg</th>\n",
       "      <th>age</th>\n",
       "      <th>strength</th>\n",
       "    </tr>\n",
       "  </thead>\n",
       "  <tbody>\n",
       "    <tr>\n",
       "      <th>0</th>\n",
       "      <td>540.0</td>\n",
       "      <td>0.0</td>\n",
       "      <td>0.0</td>\n",
       "      <td>162.0</td>\n",
       "      <td>2.5</td>\n",
       "      <td>1040.0</td>\n",
       "      <td>676.0</td>\n",
       "      <td>28</td>\n",
       "      <td>79.986111</td>\n",
       "    </tr>\n",
       "    <tr>\n",
       "      <th>1</th>\n",
       "      <td>540.0</td>\n",
       "      <td>0.0</td>\n",
       "      <td>0.0</td>\n",
       "      <td>162.0</td>\n",
       "      <td>2.5</td>\n",
       "      <td>1055.0</td>\n",
       "      <td>676.0</td>\n",
       "      <td>28</td>\n",
       "      <td>61.887366</td>\n",
       "    </tr>\n",
       "  </tbody>\n",
       "</table>\n",
       "</div>"
      ],
      "text/plain": [
       "   cement  slag  ash  water  superplastic  coarseagg  fineagg  age   strength\n",
       "0   540.0   0.0  0.0  162.0           2.5     1040.0    676.0   28  79.986111\n",
       "1   540.0   0.0  0.0  162.0           2.5     1055.0    676.0   28  61.887366"
      ]
     },
     "execution_count": 92,
     "metadata": {},
     "output_type": "execute_result"
    }
   ],
   "source": [
    "concrete.head(2)"
   ]
  },
  {
   "cell_type": "markdown",
   "metadata": {},
   "source": [
    "* 뒤에 2행 확인하기"
   ]
  },
  {
   "cell_type": "code",
   "execution_count": 4,
   "metadata": {
    "scrolled": true
   },
   "outputs": [
    {
     "data": {
      "text/html": [
       "<div>\n",
       "<style scoped>\n",
       "    .dataframe tbody tr th:only-of-type {\n",
       "        vertical-align: middle;\n",
       "    }\n",
       "\n",
       "    .dataframe tbody tr th {\n",
       "        vertical-align: top;\n",
       "    }\n",
       "\n",
       "    .dataframe thead th {\n",
       "        text-align: right;\n",
       "    }\n",
       "</style>\n",
       "<table border=\"1\" class=\"dataframe\">\n",
       "  <thead>\n",
       "    <tr style=\"text-align: right;\">\n",
       "      <th></th>\n",
       "      <th>cement</th>\n",
       "      <th>slag</th>\n",
       "      <th>ash</th>\n",
       "      <th>water</th>\n",
       "      <th>superplastic</th>\n",
       "      <th>coarseagg</th>\n",
       "      <th>fineagg</th>\n",
       "      <th>age</th>\n",
       "      <th>strength</th>\n",
       "    </tr>\n",
       "  </thead>\n",
       "  <tbody>\n",
       "    <tr>\n",
       "      <th>1028</th>\n",
       "      <td>159.1</td>\n",
       "      <td>186.7</td>\n",
       "      <td>0.0</td>\n",
       "      <td>175.6</td>\n",
       "      <td>11.3</td>\n",
       "      <td>989.6</td>\n",
       "      <td>788.9</td>\n",
       "      <td>28</td>\n",
       "      <td>32.768036</td>\n",
       "    </tr>\n",
       "    <tr>\n",
       "      <th>1029</th>\n",
       "      <td>260.9</td>\n",
       "      <td>100.5</td>\n",
       "      <td>78.3</td>\n",
       "      <td>200.6</td>\n",
       "      <td>8.6</td>\n",
       "      <td>864.5</td>\n",
       "      <td>761.5</td>\n",
       "      <td>28</td>\n",
       "      <td>32.401235</td>\n",
       "    </tr>\n",
       "  </tbody>\n",
       "</table>\n",
       "</div>"
      ],
      "text/plain": [
       "      cement   slag   ash  water  superplastic  coarseagg  fineagg  age  \\\n",
       "1028   159.1  186.7   0.0  175.6          11.3      989.6    788.9   28   \n",
       "1029   260.9  100.5  78.3  200.6           8.6      864.5    761.5   28   \n",
       "\n",
       "       strength  \n",
       "1028  32.768036  \n",
       "1029  32.401235  "
      ]
     },
     "execution_count": 4,
     "metadata": {},
     "output_type": "execute_result"
    }
   ],
   "source": []
  },
  {
   "cell_type": "code",
   "execution_count": 5,
   "metadata": {},
   "outputs": [
    {
     "data": {
      "text/html": [
       "<div>\n",
       "<style scoped>\n",
       "    .dataframe tbody tr th:only-of-type {\n",
       "        vertical-align: middle;\n",
       "    }\n",
       "\n",
       "    .dataframe tbody tr th {\n",
       "        vertical-align: top;\n",
       "    }\n",
       "\n",
       "    .dataframe thead th {\n",
       "        text-align: right;\n",
       "    }\n",
       "</style>\n",
       "<table border=\"1\" class=\"dataframe\">\n",
       "  <thead>\n",
       "    <tr style=\"text-align: right;\">\n",
       "      <th></th>\n",
       "      <th>cement</th>\n",
       "      <th>slag</th>\n",
       "      <th>ash</th>\n",
       "      <th>water</th>\n",
       "      <th>superplastic</th>\n",
       "      <th>coarseagg</th>\n",
       "      <th>fineagg</th>\n",
       "      <th>age</th>\n",
       "      <th>strength</th>\n",
       "    </tr>\n",
       "  </thead>\n",
       "  <tbody>\n",
       "    <tr>\n",
       "      <th>1028</th>\n",
       "      <td>159.1</td>\n",
       "      <td>186.7</td>\n",
       "      <td>0.0</td>\n",
       "      <td>175.6</td>\n",
       "      <td>11.3</td>\n",
       "      <td>989.6</td>\n",
       "      <td>788.9</td>\n",
       "      <td>28</td>\n",
       "      <td>32.768036</td>\n",
       "    </tr>\n",
       "    <tr>\n",
       "      <th>1029</th>\n",
       "      <td>260.9</td>\n",
       "      <td>100.5</td>\n",
       "      <td>78.3</td>\n",
       "      <td>200.6</td>\n",
       "      <td>8.6</td>\n",
       "      <td>864.5</td>\n",
       "      <td>761.5</td>\n",
       "      <td>28</td>\n",
       "      <td>32.401235</td>\n",
       "    </tr>\n",
       "  </tbody>\n",
       "</table>\n",
       "</div>"
      ],
      "text/plain": [
       "      cement   slag   ash  water  superplastic  coarseagg  fineagg  age  \\\n",
       "1028   159.1  186.7   0.0  175.6          11.3      989.6    788.9   28   \n",
       "1029   260.9  100.5  78.3  200.6           8.6      864.5    761.5   28   \n",
       "\n",
       "       strength  \n",
       "1028  32.768036  \n",
       "1029  32.401235  "
      ]
     },
     "execution_count": 5,
     "metadata": {},
     "output_type": "execute_result"
    }
   ],
   "source": [
    "concrete.tail(2)"
   ]
  },
  {
   "cell_type": "markdown",
   "metadata": {},
   "source": [
    "* 통계치 살펴보기"
   ]
  },
  {
   "cell_type": "code",
   "execution_count": 5,
   "metadata": {
    "scrolled": true
   },
   "outputs": [
    {
     "data": {
      "text/html": [
       "<div>\n",
       "<style scoped>\n",
       "    .dataframe tbody tr th:only-of-type {\n",
       "        vertical-align: middle;\n",
       "    }\n",
       "\n",
       "    .dataframe tbody tr th {\n",
       "        vertical-align: top;\n",
       "    }\n",
       "\n",
       "    .dataframe thead th {\n",
       "        text-align: right;\n",
       "    }\n",
       "</style>\n",
       "<table border=\"1\" class=\"dataframe\">\n",
       "  <thead>\n",
       "    <tr style=\"text-align: right;\">\n",
       "      <th></th>\n",
       "      <th>cement</th>\n",
       "      <th>slag</th>\n",
       "      <th>ash</th>\n",
       "      <th>water</th>\n",
       "      <th>superplastic</th>\n",
       "      <th>coarseagg</th>\n",
       "      <th>fineagg</th>\n",
       "      <th>age</th>\n",
       "      <th>strength</th>\n",
       "    </tr>\n",
       "  </thead>\n",
       "  <tbody>\n",
       "    <tr>\n",
       "      <th>count</th>\n",
       "      <td>1030.000000</td>\n",
       "      <td>1030.000000</td>\n",
       "      <td>1030.000000</td>\n",
       "      <td>1030.000000</td>\n",
       "      <td>1030.000000</td>\n",
       "      <td>1030.000000</td>\n",
       "      <td>1030.000000</td>\n",
       "      <td>1030.000000</td>\n",
       "      <td>1030.000000</td>\n",
       "    </tr>\n",
       "    <tr>\n",
       "      <th>mean</th>\n",
       "      <td>281.165631</td>\n",
       "      <td>73.895485</td>\n",
       "      <td>54.187136</td>\n",
       "      <td>181.566359</td>\n",
       "      <td>6.203112</td>\n",
       "      <td>972.918592</td>\n",
       "      <td>773.578883</td>\n",
       "      <td>45.662136</td>\n",
       "      <td>35.817836</td>\n",
       "    </tr>\n",
       "    <tr>\n",
       "      <th>std</th>\n",
       "      <td>104.507142</td>\n",
       "      <td>86.279104</td>\n",
       "      <td>63.996469</td>\n",
       "      <td>21.355567</td>\n",
       "      <td>5.973492</td>\n",
       "      <td>77.753818</td>\n",
       "      <td>80.175427</td>\n",
       "      <td>63.169912</td>\n",
       "      <td>16.705679</td>\n",
       "    </tr>\n",
       "    <tr>\n",
       "      <th>min</th>\n",
       "      <td>102.000000</td>\n",
       "      <td>0.000000</td>\n",
       "      <td>0.000000</td>\n",
       "      <td>121.750000</td>\n",
       "      <td>0.000000</td>\n",
       "      <td>801.000000</td>\n",
       "      <td>594.000000</td>\n",
       "      <td>1.000000</td>\n",
       "      <td>2.331808</td>\n",
       "    </tr>\n",
       "    <tr>\n",
       "      <th>25%</th>\n",
       "      <td>192.375000</td>\n",
       "      <td>0.000000</td>\n",
       "      <td>0.000000</td>\n",
       "      <td>164.900000</td>\n",
       "      <td>0.000000</td>\n",
       "      <td>932.000000</td>\n",
       "      <td>730.950000</td>\n",
       "      <td>7.000000</td>\n",
       "      <td>23.707115</td>\n",
       "    </tr>\n",
       "    <tr>\n",
       "      <th>50%</th>\n",
       "      <td>272.900000</td>\n",
       "      <td>22.000000</td>\n",
       "      <td>0.000000</td>\n",
       "      <td>185.000000</td>\n",
       "      <td>6.350000</td>\n",
       "      <td>968.000000</td>\n",
       "      <td>779.510000</td>\n",
       "      <td>28.000000</td>\n",
       "      <td>34.442774</td>\n",
       "    </tr>\n",
       "    <tr>\n",
       "      <th>75%</th>\n",
       "      <td>350.000000</td>\n",
       "      <td>142.950000</td>\n",
       "      <td>118.270000</td>\n",
       "      <td>192.000000</td>\n",
       "      <td>10.160000</td>\n",
       "      <td>1029.400000</td>\n",
       "      <td>824.000000</td>\n",
       "      <td>56.000000</td>\n",
       "      <td>46.136287</td>\n",
       "    </tr>\n",
       "    <tr>\n",
       "      <th>max</th>\n",
       "      <td>540.000000</td>\n",
       "      <td>359.400000</td>\n",
       "      <td>200.100000</td>\n",
       "      <td>247.000000</td>\n",
       "      <td>32.200000</td>\n",
       "      <td>1145.000000</td>\n",
       "      <td>992.600000</td>\n",
       "      <td>365.000000</td>\n",
       "      <td>82.599225</td>\n",
       "    </tr>\n",
       "  </tbody>\n",
       "</table>\n",
       "</div>"
      ],
      "text/plain": [
       "            cement         slag          ash        water  superplastic  \\\n",
       "count  1030.000000  1030.000000  1030.000000  1030.000000   1030.000000   \n",
       "mean    281.165631    73.895485    54.187136   181.566359      6.203112   \n",
       "std     104.507142    86.279104    63.996469    21.355567      5.973492   \n",
       "min     102.000000     0.000000     0.000000   121.750000      0.000000   \n",
       "25%     192.375000     0.000000     0.000000   164.900000      0.000000   \n",
       "50%     272.900000    22.000000     0.000000   185.000000      6.350000   \n",
       "75%     350.000000   142.950000   118.270000   192.000000     10.160000   \n",
       "max     540.000000   359.400000   200.100000   247.000000     32.200000   \n",
       "\n",
       "         coarseagg      fineagg          age     strength  \n",
       "count  1030.000000  1030.000000  1030.000000  1030.000000  \n",
       "mean    972.918592   773.578883    45.662136    35.817836  \n",
       "std      77.753818    80.175427    63.169912    16.705679  \n",
       "min     801.000000   594.000000     1.000000     2.331808  \n",
       "25%     932.000000   730.950000     7.000000    23.707115  \n",
       "50%     968.000000   779.510000    28.000000    34.442774  \n",
       "75%    1029.400000   824.000000    56.000000    46.136287  \n",
       "max    1145.000000   992.600000   365.000000    82.599225  "
      ]
     },
     "execution_count": 5,
     "metadata": {},
     "output_type": "execute_result"
    }
   ],
   "source": []
  },
  {
   "cell_type": "code",
   "execution_count": 6,
   "metadata": {},
   "outputs": [
    {
     "data": {
      "text/html": [
       "<div>\n",
       "<style scoped>\n",
       "    .dataframe tbody tr th:only-of-type {\n",
       "        vertical-align: middle;\n",
       "    }\n",
       "\n",
       "    .dataframe tbody tr th {\n",
       "        vertical-align: top;\n",
       "    }\n",
       "\n",
       "    .dataframe thead th {\n",
       "        text-align: right;\n",
       "    }\n",
       "</style>\n",
       "<table border=\"1\" class=\"dataframe\">\n",
       "  <thead>\n",
       "    <tr style=\"text-align: right;\">\n",
       "      <th></th>\n",
       "      <th>cement</th>\n",
       "      <th>slag</th>\n",
       "      <th>ash</th>\n",
       "      <th>water</th>\n",
       "      <th>superplastic</th>\n",
       "      <th>coarseagg</th>\n",
       "      <th>fineagg</th>\n",
       "      <th>age</th>\n",
       "      <th>strength</th>\n",
       "    </tr>\n",
       "  </thead>\n",
       "  <tbody>\n",
       "    <tr>\n",
       "      <th>count</th>\n",
       "      <td>1030.000000</td>\n",
       "      <td>1030.000000</td>\n",
       "      <td>1030.000000</td>\n",
       "      <td>1030.000000</td>\n",
       "      <td>1030.000000</td>\n",
       "      <td>1030.000000</td>\n",
       "      <td>1030.000000</td>\n",
       "      <td>1030.000000</td>\n",
       "      <td>1030.000000</td>\n",
       "    </tr>\n",
       "    <tr>\n",
       "      <th>mean</th>\n",
       "      <td>281.165631</td>\n",
       "      <td>73.895485</td>\n",
       "      <td>54.187136</td>\n",
       "      <td>181.566359</td>\n",
       "      <td>6.203112</td>\n",
       "      <td>972.918592</td>\n",
       "      <td>773.578883</td>\n",
       "      <td>45.662136</td>\n",
       "      <td>35.817836</td>\n",
       "    </tr>\n",
       "    <tr>\n",
       "      <th>std</th>\n",
       "      <td>104.507142</td>\n",
       "      <td>86.279104</td>\n",
       "      <td>63.996469</td>\n",
       "      <td>21.355567</td>\n",
       "      <td>5.973492</td>\n",
       "      <td>77.753818</td>\n",
       "      <td>80.175427</td>\n",
       "      <td>63.169912</td>\n",
       "      <td>16.705679</td>\n",
       "    </tr>\n",
       "    <tr>\n",
       "      <th>min</th>\n",
       "      <td>102.000000</td>\n",
       "      <td>0.000000</td>\n",
       "      <td>0.000000</td>\n",
       "      <td>121.750000</td>\n",
       "      <td>0.000000</td>\n",
       "      <td>801.000000</td>\n",
       "      <td>594.000000</td>\n",
       "      <td>1.000000</td>\n",
       "      <td>2.331808</td>\n",
       "    </tr>\n",
       "    <tr>\n",
       "      <th>25%</th>\n",
       "      <td>192.375000</td>\n",
       "      <td>0.000000</td>\n",
       "      <td>0.000000</td>\n",
       "      <td>164.900000</td>\n",
       "      <td>0.000000</td>\n",
       "      <td>932.000000</td>\n",
       "      <td>730.950000</td>\n",
       "      <td>7.000000</td>\n",
       "      <td>23.707115</td>\n",
       "    </tr>\n",
       "    <tr>\n",
       "      <th>50%</th>\n",
       "      <td>272.900000</td>\n",
       "      <td>22.000000</td>\n",
       "      <td>0.000000</td>\n",
       "      <td>185.000000</td>\n",
       "      <td>6.350000</td>\n",
       "      <td>968.000000</td>\n",
       "      <td>779.510000</td>\n",
       "      <td>28.000000</td>\n",
       "      <td>34.442774</td>\n",
       "    </tr>\n",
       "    <tr>\n",
       "      <th>75%</th>\n",
       "      <td>350.000000</td>\n",
       "      <td>142.950000</td>\n",
       "      <td>118.270000</td>\n",
       "      <td>192.000000</td>\n",
       "      <td>10.160000</td>\n",
       "      <td>1029.400000</td>\n",
       "      <td>824.000000</td>\n",
       "      <td>56.000000</td>\n",
       "      <td>46.136287</td>\n",
       "    </tr>\n",
       "    <tr>\n",
       "      <th>max</th>\n",
       "      <td>540.000000</td>\n",
       "      <td>359.400000</td>\n",
       "      <td>200.100000</td>\n",
       "      <td>247.000000</td>\n",
       "      <td>32.200000</td>\n",
       "      <td>1145.000000</td>\n",
       "      <td>992.600000</td>\n",
       "      <td>365.000000</td>\n",
       "      <td>82.599225</td>\n",
       "    </tr>\n",
       "  </tbody>\n",
       "</table>\n",
       "</div>"
      ],
      "text/plain": [
       "            cement         slag          ash        water  superplastic  \\\n",
       "count  1030.000000  1030.000000  1030.000000  1030.000000   1030.000000   \n",
       "mean    281.165631    73.895485    54.187136   181.566359      6.203112   \n",
       "std     104.507142    86.279104    63.996469    21.355567      5.973492   \n",
       "min     102.000000     0.000000     0.000000   121.750000      0.000000   \n",
       "25%     192.375000     0.000000     0.000000   164.900000      0.000000   \n",
       "50%     272.900000    22.000000     0.000000   185.000000      6.350000   \n",
       "75%     350.000000   142.950000   118.270000   192.000000     10.160000   \n",
       "max     540.000000   359.400000   200.100000   247.000000     32.200000   \n",
       "\n",
       "         coarseagg      fineagg          age     strength  \n",
       "count  1030.000000  1030.000000  1030.000000  1030.000000  \n",
       "mean    972.918592   773.578883    45.662136    35.817836  \n",
       "std      77.753818    80.175427    63.169912    16.705679  \n",
       "min     801.000000   594.000000     1.000000     2.331808  \n",
       "25%     932.000000   730.950000     7.000000    23.707115  \n",
       "50%     968.000000   779.510000    28.000000    34.442774  \n",
       "75%    1029.400000   824.000000    56.000000    46.136287  \n",
       "max    1145.000000   992.600000   365.000000    82.599225  "
      ]
     },
     "execution_count": 6,
     "metadata": {},
     "output_type": "execute_result"
    }
   ],
   "source": [
    "concrete.describe()"
   ]
  },
  {
   "cell_type": "markdown",
   "metadata": {},
   "source": [
    "* 누락 정보 확인하기"
   ]
  },
  {
   "cell_type": "code",
   "execution_count": 6,
   "metadata": {
    "scrolled": false
   },
   "outputs": [
    {
     "name": "stdout",
     "output_type": "stream",
     "text": [
      "<class 'pandas.core.frame.DataFrame'>\n",
      "RangeIndex: 1030 entries, 0 to 1029\n",
      "Data columns (total 9 columns):\n",
      " #   Column        Non-Null Count  Dtype  \n",
      "---  ------        --------------  -----  \n",
      " 0   cement        1030 non-null   float64\n",
      " 1   slag          1030 non-null   float64\n",
      " 2   ash           1030 non-null   float64\n",
      " 3   water         1030 non-null   float64\n",
      " 4   superplastic  1030 non-null   float64\n",
      " 5   coarseagg     1030 non-null   float64\n",
      " 6   fineagg       1030 non-null   float64\n",
      " 7   age           1030 non-null   int64  \n",
      " 8   strength      1030 non-null   float64\n",
      "dtypes: float64(8), int64(1)\n",
      "memory usage: 72.5 KB\n"
     ]
    }
   ],
   "source": []
  },
  {
   "cell_type": "code",
   "execution_count": 7,
   "metadata": {},
   "outputs": [
    {
     "name": "stdout",
     "output_type": "stream",
     "text": [
      "<class 'pandas.core.frame.DataFrame'>\n",
      "RangeIndex: 1030 entries, 0 to 1029\n",
      "Data columns (total 9 columns):\n",
      " #   Column        Non-Null Count  Dtype  \n",
      "---  ------        --------------  -----  \n",
      " 0   cement        1030 non-null   float64\n",
      " 1   slag          1030 non-null   float64\n",
      " 2   ash           1030 non-null   float64\n",
      " 3   water         1030 non-null   float64\n",
      " 4   superplastic  1030 non-null   float64\n",
      " 5   coarseagg     1030 non-null   float64\n",
      " 6   fineagg       1030 non-null   float64\n",
      " 7   age           1030 non-null   int64  \n",
      " 8   strength      1030 non-null   float64\n",
      "dtypes: float64(8), int64(1)\n",
      "memory usage: 72.5 KB\n"
     ]
    }
   ],
   "source": [
    "concrete.info() #누락치 없음 age만 인드 나머지는 float"
   ]
  },
  {
   "cell_type": "code",
   "execution_count": 7,
   "metadata": {
    "scrolled": false
   },
   "outputs": [
    {
     "data": {
      "text/plain": [
       "cement          0\n",
       "slag            0\n",
       "ash             0\n",
       "water           0\n",
       "superplastic    0\n",
       "coarseagg       0\n",
       "fineagg         0\n",
       "age             0\n",
       "strength        0\n",
       "dtype: int64"
      ]
     },
     "execution_count": 7,
     "metadata": {},
     "output_type": "execute_result"
    }
   ],
   "source": []
  },
  {
   "cell_type": "code",
   "execution_count": 13,
   "metadata": {},
   "outputs": [
    {
     "data": {
      "text/plain": [
       "cement          0\n",
       "slag            0\n",
       "ash             0\n",
       "water           0\n",
       "superplastic    0\n",
       "coarseagg       0\n",
       "fineagg         0\n",
       "age             0\n",
       "strength        0\n",
       "dtype: int64"
      ]
     },
     "execution_count": 13,
     "metadata": {},
     "output_type": "execute_result"
    }
   ],
   "source": [
    "concrete.isnull().sum()"
   ]
  },
  {
   "cell_type": "markdown",
   "metadata": {},
   "source": [
    "* 각 열의 평균값 확인하기"
   ]
  },
  {
   "cell_type": "code",
   "execution_count": 8,
   "metadata": {
    "scrolled": false
   },
   "outputs": [
    {
     "data": {
      "text/plain": [
       "cement          281.165631\n",
       "slag             73.895485\n",
       "ash              54.187136\n",
       "water           181.566359\n",
       "superplastic      6.203112\n",
       "coarseagg       972.918592\n",
       "fineagg         773.578883\n",
       "age              45.662136\n",
       "strength         35.817836\n",
       "dtype: float64"
      ]
     },
     "execution_count": 8,
     "metadata": {},
     "output_type": "execute_result"
    }
   ],
   "source": []
  },
  {
   "cell_type": "code",
   "execution_count": 10,
   "metadata": {},
   "outputs": [
    {
     "data": {
      "text/plain": [
       "cement          281.165631\n",
       "slag             73.895485\n",
       "ash              54.187136\n",
       "water           181.566359\n",
       "superplastic      6.203112\n",
       "coarseagg       972.918592\n",
       "fineagg         773.578883\n",
       "age              45.662136\n",
       "strength         35.817836\n",
       "dtype: float64"
      ]
     },
     "execution_count": 10,
     "metadata": {},
     "output_type": "execute_result"
    }
   ],
   "source": [
    "concrete.mean()"
   ]
  },
  {
   "cell_type": "markdown",
   "metadata": {},
   "source": [
    "* slag 열의 데이터 분포 확인하기"
   ]
  },
  {
   "cell_type": "code",
   "execution_count": 9,
   "metadata": {
    "scrolled": true
   },
   "outputs": [
    {
     "data": {
      "text/plain": [
       "0         0.0\n",
       "1         0.0\n",
       "2       142.5\n",
       "3       142.5\n",
       "4       132.4\n",
       "        ...  \n",
       "1025    116.0\n",
       "1026      0.0\n",
       "1027    139.4\n",
       "1028    186.7\n",
       "1029    100.5\n",
       "Name: slag, Length: 1030, dtype: float64"
      ]
     },
     "execution_count": 9,
     "metadata": {},
     "output_type": "execute_result"
    }
   ],
   "source": []
  },
  {
   "cell_type": "code",
   "execution_count": 45,
   "metadata": {},
   "outputs": [
    {
     "data": {
      "text/plain": [
       "0         0.0\n",
       "1         0.0\n",
       "2       142.5\n",
       "3       142.5\n",
       "4       132.4\n",
       "        ...  \n",
       "1025    116.0\n",
       "1026      0.0\n",
       "1027    139.4\n",
       "1028    186.7\n",
       "1029    100.5\n",
       "Name: slag, Length: 1030, dtype: float64"
      ]
     },
     "execution_count": 45,
     "metadata": {},
     "output_type": "execute_result"
    }
   ],
   "source": [
    "concrete.slag #공백이 들어가면 인덱싱으로 가져오는게 좋다."
   ]
  },
  {
   "cell_type": "markdown",
   "metadata": {},
   "source": [
    "* 위의 수치 데이터로는 특잇값을 한눈에 알아보기 어려우므로 plot으로 확인"
   ]
  },
  {
   "cell_type": "code",
   "execution_count": 10,
   "metadata": {
    "scrolled": false
   },
   "outputs": [
    {
     "data": {
      "text/plain": [
       "<AxesSubplot:>"
      ]
     },
     "execution_count": 10,
     "metadata": {},
     "output_type": "execute_result"
    },
    {
     "data": {
      "image/png": "[encoded data removed]",
      "text/plain": [
       "<Figure size 432x288 with 1 Axes>"
      ]
     },
     "metadata": {
      "needs_background": "light"
     },
     "output_type": "display_data"
    }
   ],
   "source": []
  },
  {
   "cell_type": "code",
   "execution_count": 46,
   "metadata": {
    "scrolled": true
   },
   "outputs": [
    {
     "data": {
      "text/plain": [
       "<AxesSubplot:>"
      ]
     },
     "execution_count": 46,
     "metadata": {},
     "output_type": "execute_result"
    },
    {
     "data": {
      "image/png": "[encoded data removed]",
      "text/plain": [
       "<Figure size 432x288 with 1 Axes>"
      ]
     },
     "metadata": {
      "needs_background": "light"
     },
     "output_type": "display_data"
    }
   ],
   "source": [
    "concrete.slag.plot() #너무 높으면 이상치임."
   ]
  },
  {
   "cell_type": "markdown",
   "metadata": {},
   "source": [
    "* slag 데이터 값 중 300을 넘어가는 값이 확인됨\n",
    "* value_counts를 통해 초과되는값이 10개 있음을 알 수 있음"
   ]
  },
  {
   "cell_type": "code",
   "execution_count": 11,
   "metadata": {
    "scrolled": false
   },
   "outputs": [
    {
     "data": {
      "text/plain": [
       "False    1020\n",
       "True       10\n",
       "Name: slag, dtype: int64"
      ]
     },
     "execution_count": 11,
     "metadata": {},
     "output_type": "execute_result"
    }
   ],
   "source": []
  },
  {
   "cell_type": "code",
   "execution_count": 93,
   "metadata": {},
   "outputs": [
    {
     "data": {
      "text/plain": [
       "False    1020\n",
       "True       10\n",
       "Name: slag, dtype: int64"
      ]
     },
     "execution_count": 93,
     "metadata": {},
     "output_type": "execute_result"
    }
   ],
   "source": [
    "(concrete.slag >= 300).value_counts()"
   ]
  },
  {
   "cell_type": "markdown",
   "metadata": {},
   "source": [
    "* boxplot으로 보다 편리하게 outlier 확인하기"
   ]
  },
  {
   "cell_type": "code",
   "execution_count": null,
   "metadata": {},
   "outputs": [],
   "source": []
  },
  {
   "cell_type": "code",
   "execution_count": 25,
   "metadata": {
    "scrolled": true
   },
   "outputs": [
    {
     "data": {
      "image/png": "[encoded data removed]",
      "text/plain": [
       "<IPython.core.display.Image object>"
      ]
     },
     "execution_count": 25,
     "metadata": {
      "image/png": {
       "width": 400
      }
     },
     "output_type": "execute_result"
    }
   ],
   "source": [
    "from IPython.display import Image\n",
    "Image(filename='boxplot.png', width=400)"
   ]
  },
  {
   "cell_type": "markdown",
   "metadata": {},
   "source": [
    "* boxplot() 함수는 이상치(플라이어(flier)라고 부름)를 감지하고 수염 부분에 이를 포함시키지 않음\n",
    "* 1사분위가  𝑄1 이고 3사분위가  𝑄3 이라면 사분위수 범위는  𝐼𝑄𝑅=𝑄3−𝑄1 (이 값이 박스의 높이) \n",
    "* 𝑄1−1.5×𝐼𝑄𝑅  보다 낮거나  𝑄3+1.5×𝐼𝑄𝑅  보다 높은 점수는 이상치로 간주"
   ]
  },
  {
   "cell_type": "code",
   "execution_count": 15,
   "metadata": {},
   "outputs": [],
   "source": [
    "import matplotlib.pyplot as plt\n",
    "import seaborn as sns"
   ]
  },
  {
   "cell_type": "code",
   "execution_count": 15,
   "metadata": {
    "scrolled": true
   },
   "outputs": [
    {
     "data": {
      "text/plain": [
       "{'whiskers': [<matplotlib.lines.Line2D at 0x23f96a464f0>,\n",
       "  <matplotlib.lines.Line2D at 0x23f96a46850>],\n",
       " 'caps': [<matplotlib.lines.Line2D at 0x23f96a46bb0>,\n",
       "  <matplotlib.lines.Line2D at 0x23f96a46f10>],\n",
       " 'boxes': [<matplotlib.lines.Line2D at 0x23f96a46190>],\n",
       " 'medians': [<matplotlib.lines.Line2D at 0x23f96a522b0>],\n",
       " 'fliers': [<matplotlib.lines.Line2D at 0x23f96a52610>],\n",
       " 'means': []}"
      ]
     },
     "execution_count": 15,
     "metadata": {},
     "output_type": "execute_result"
    },
    {
     "data": {
      "image/png": "[encoded data removed]",
      "text/plain": [
       "<Figure size 720x432 with 1 Axes>"
      ]
     },
     "metadata": {
      "needs_background": "light"
     },
     "output_type": "display_data"
    }
   ],
   "source": []
  },
  {
   "cell_type": "code",
   "execution_count": 48,
   "metadata": {
    "scrolled": true
   },
   "outputs": [
    {
     "data": {
      "text/plain": [
       "{'whiskers': [<matplotlib.lines.Line2D at 0x1eade604640>,\n",
       "  <matplotlib.lines.Line2D at 0x1eade604940>],\n",
       " 'caps': [<matplotlib.lines.Line2D at 0x1eade604b80>,\n",
       "  <matplotlib.lines.Line2D at 0x1eade604ee0>],\n",
       " 'boxes': [<matplotlib.lines.Line2D at 0x1eade604340>],\n",
       " 'medians': [<matplotlib.lines.Line2D at 0x1eade855280>],\n",
       " 'fliers': [<matplotlib.lines.Line2D at 0x1eade8555e0>],\n",
       " 'means': []}"
      ]
     },
     "execution_count": 48,
     "metadata": {},
     "output_type": "execute_result"
    },
    {
     "data": {
      "image/png": "[encoded data removed]",
      "text/plain": [
       "<Figure size 720x432 with 1 Axes>"
      ]
     },
     "metadata": {
      "needs_background": "light"
     },
     "output_type": "display_data"
    }
   ],
   "source": [
    "import matplotlib.pyplot as plt\n",
    "plt.figure(figsize=(10, 6))\n",
    "plt.boxplot(concrete.slag)"
   ]
  },
  {
   "cell_type": "markdown",
   "metadata": {},
   "source": [
    "* 모든 특성에 대해 outlier 확인 (seaborn 의 boxplot 이용)"
   ]
  },
  {
   "cell_type": "code",
   "execution_count": null,
   "metadata": {},
   "outputs": [],
   "source": [
    "import seaborn as sns"
   ]
  },
  {
   "cell_type": "code",
   "execution_count": 51,
   "metadata": {},
   "outputs": [
    {
     "name": "stderr",
     "output_type": "stream",
     "text": [
      "C:\\ProgramData\\Anaconda3\\lib\\site-packages\\seaborn\\_decorators.py:36: FutureWarning: Pass the following variable as a keyword arg: x. From version 0.12, the only valid positional argument will be `data`, and passing other arguments without an explicit keyword will result in an error or misinterpretation.\n",
      "  warnings.warn(\n"
     ]
    },
    {
     "data": {
      "text/plain": [
       "<AxesSubplot:xlabel='cement'>"
      ]
     },
     "execution_count": 51,
     "metadata": {},
     "output_type": "execute_result"
    },
    {
     "data": {
      "image/png": "[encoded data removed]",
      "text/plain": [
       "<Figure size 432x288 with 1 Axes>"
      ]
     },
     "metadata": {
      "needs_background": "light"
     },
     "output_type": "display_data"
    }
   ],
   "source": [
    "sns.boxplot(concrete.cement)"
   ]
  },
  {
   "cell_type": "code",
   "execution_count": 62,
   "metadata": {
    "scrolled": true
   },
   "outputs": [
    {
     "data": {
      "image/png": "[encoded data removed]",
      "text/plain": [
       "<Figure size 360x720 with 1 Axes>"
      ]
     },
     "metadata": {},
     "output_type": "display_data"
    },
    {
     "data": {
      "image/png": "[encoded data removed]",
      "text/plain": [
       "<Figure size 360x720 with 1 Axes>"
      ]
     },
     "metadata": {},
     "output_type": "display_data"
    },
    {
     "data": {
      "image/png": "[encoded data removed]",
      "text/plain": [
       "<Figure size 360x720 with 1 Axes>"
      ]
     },
     "metadata": {},
     "output_type": "display_data"
    },
    {
     "data": {
      "image/png": "[encoded data removed]",
      "text/plain": [
       "<Figure size 360x720 with 1 Axes>"
      ]
     },
     "metadata": {},
     "output_type": "display_data"
    },
    {
     "data": {
      "image/png": "[encoded data removed]",
      "text/plain": [
       "<Figure size 360x720 with 1 Axes>"
      ]
     },
     "metadata": {},
     "output_type": "display_data"
    },
    {
     "data": {
      "image/png": "[encoded data removed]",
      "text/plain": [
       "<Figure size 360x720 with 1 Axes>"
      ]
     },
     "metadata": {},
     "output_type": "display_data"
    },
    {
     "data": {
      "image/png": "[encoded data removed]",
      "text/plain": [
       "<Figure size 360x720 with 1 Axes>"
      ]
     },
     "metadata": {},
     "output_type": "display_data"
    },
    {
     "data": {
      "image/png": "[encoded data removed]",
      "text/plain": [
       "<Figure size 360x720 with 1 Axes>"
      ]
     },
     "metadata": {},
     "output_type": "display_data"
    },
    {
     "data": {
      "image/png": "[encoded data removed]",
      "text/plain": [
       "<Figure size 360x720 with 1 Axes>"
      ]
     },
     "metadata": {},
     "output_type": "display_data"
    }
   ],
   "source": [
    "for i in concrete.columns:\n",
    "    plt.figure(figsize=(5, 10))\n",
    "    sns.boxplot(data=concrete[i])\n",
    "    plt.title('{} distribution'.format(i))"
   ]
  },
  {
   "cell_type": "code",
   "execution_count": 14,
   "metadata": {
    "scrolled": true
   },
   "outputs": [
    {
     "ename": "NameError",
     "evalue": "name 'plt' is not defined",
     "output_type": "error",
     "traceback": [
      "\u001b[1;31m---------------------------------------------------------------------------\u001b[0m",
      "\u001b[1;31mNameError\u001b[0m                                 Traceback (most recent call last)",
      "\u001b[1;32m<ipython-input-14-973c9bbb1792>\u001b[0m in \u001b[0;36m<module>\u001b[1;34m\u001b[0m\n\u001b[0;32m      1\u001b[0m \u001b[0mnames\u001b[0m \u001b[1;33m=\u001b[0m \u001b[0mlist\u001b[0m\u001b[1;33m(\u001b[0m\u001b[0mconcrete\u001b[0m\u001b[1;33m.\u001b[0m\u001b[0mcolumns\u001b[0m\u001b[1;33m)\u001b[0m\u001b[1;33m\u001b[0m\u001b[1;33m\u001b[0m\u001b[0m\n\u001b[0;32m      2\u001b[0m \u001b[1;33m\u001b[0m\u001b[0m\n\u001b[1;32m----> 3\u001b[1;33m \u001b[0mfig\u001b[0m\u001b[1;33m,\u001b[0m \u001b[0maxes\u001b[0m \u001b[1;33m=\u001b[0m \u001b[0mplt\u001b[0m\u001b[1;33m.\u001b[0m\u001b[0msubplots\u001b[0m\u001b[1;33m(\u001b[0m\u001b[0mlen\u001b[0m\u001b[1;33m(\u001b[0m\u001b[0mnames\u001b[0m\u001b[1;33m)\u001b[0m\u001b[1;33m,\u001b[0m \u001b[1;36m1\u001b[0m\u001b[1;33m,\u001b[0m \u001b[0mfigsize\u001b[0m\u001b[1;33m=\u001b[0m\u001b[1;33m(\u001b[0m\u001b[1;36m4\u001b[0m\u001b[1;33m,\u001b[0m \u001b[1;36m30\u001b[0m\u001b[1;33m)\u001b[0m\u001b[1;33m,\u001b[0m \u001b[0mconstrained_layout\u001b[0m\u001b[1;33m=\u001b[0m\u001b[1;32mTrue\u001b[0m\u001b[1;33m)\u001b[0m\u001b[1;33m\u001b[0m\u001b[1;33m\u001b[0m\u001b[0m\n\u001b[0m\u001b[0;32m      4\u001b[0m \u001b[1;33m\u001b[0m\u001b[0m\n\u001b[0;32m      5\u001b[0m \u001b[1;32mfor\u001b[0m \u001b[0mi\u001b[0m \u001b[1;32min\u001b[0m \u001b[0mrange\u001b[0m\u001b[1;33m(\u001b[0m\u001b[0mlen\u001b[0m\u001b[1;33m(\u001b[0m\u001b[0mnames\u001b[0m\u001b[1;33m)\u001b[0m\u001b[1;33m)\u001b[0m\u001b[1;33m:\u001b[0m\u001b[1;33m\u001b[0m\u001b[1;33m\u001b[0m\u001b[0m\n",
      "\u001b[1;31mNameError\u001b[0m: name 'plt' is not defined"
     ]
    }
   ],
   "source": [
    "names = list(concrete.columns)\n",
    "\n",
    "fig, axes = plt.subplots(len(names), 1, figsize=(4, 30), constrained_layout=True)\n",
    "\n",
    "for i in range(len(names)):\n",
    "    sns.boxplot(concrete[names[i]], ax=axes[i]).set_title(names[i] + ' distribution')"
   ]
  },
  {
   "cell_type": "code",
   "execution_count": 16,
   "metadata": {},
   "outputs": [],
   "source": [
    "import seaborn as sns"
   ]
  },
  {
   "cell_type": "code",
   "execution_count": 17,
   "metadata": {},
   "outputs": [],
   "source": [
    "concrete=concrete[concrete[\"slag\"]<350]\n",
    "concrete=concrete[(concrete[\"water\"]<246) & (concrete[\"water\"]>122)]\n",
    "concrete=concrete[concrete[\"superplastic\"]<25]\n",
    "concrete=concrete[concrete[\"fineagg\"]<992]\n",
    "concrete=concrete[concrete[\"age\"]<150]"
   ]
  },
  {
   "cell_type": "markdown",
   "metadata": {},
   "source": [
    "- 참고) 위와 같이 아래와 같이 outlier를 제외한 부분만 슬라이싱 해도 됨"
   ]
  },
  {
   "cell_type": "code",
   "execution_count": 18,
   "metadata": {
    "scrolled": true
   },
   "outputs": [
    {
     "data": {
      "text/html": [
       "<div>\n",
       "<style scoped>\n",
       "    .dataframe tbody tr th:only-of-type {\n",
       "        vertical-align: middle;\n",
       "    }\n",
       "\n",
       "    .dataframe tbody tr th {\n",
       "        vertical-align: top;\n",
       "    }\n",
       "\n",
       "    .dataframe thead th {\n",
       "        text-align: right;\n",
       "    }\n",
       "</style>\n",
       "<table border=\"1\" class=\"dataframe\">\n",
       "  <thead>\n",
       "    <tr style=\"text-align: right;\">\n",
       "      <th></th>\n",
       "      <th>cement</th>\n",
       "      <th>slag</th>\n",
       "      <th>ash</th>\n",
       "      <th>water</th>\n",
       "      <th>superplastic</th>\n",
       "      <th>coarseagg</th>\n",
       "      <th>fineagg</th>\n",
       "      <th>age</th>\n",
       "      <th>strength</th>\n",
       "    </tr>\n",
       "  </thead>\n",
       "  <tbody>\n",
       "  </tbody>\n",
       "</table>\n",
       "</div>"
      ],
      "text/plain": [
       "Empty DataFrame\n",
       "Columns: [cement, slag, ash, water, superplastic, coarseagg, fineagg, age, strength]\n",
       "Index: []"
      ]
     },
     "execution_count": 18,
     "metadata": {},
     "output_type": "execute_result"
    }
   ],
   "source": [
    "q1 = concrete['slag'].quantile(0.25) #일사분위\n",
    "q3 = concrete['slag'].quantile(0.75) #삼사분위\n",
    "iqr = q3-q1 #박스의 길이\n",
    "n=(concrete['slag']<q1-1.5*iqr)|(concrete['slag']>q3+1.5*iqr) #박스보다 .15배 크거나 작은 값을 버리기.\n",
    "concrete[not n] #공식 적극활용"
   ]
  },
  {
   "cell_type": "code",
   "execution_count": 43,
   "metadata": {},
   "outputs": [
    {
     "data": {
      "text/html": [
       "<div>\n",
       "<style scoped>\n",
       "    .dataframe tbody tr th:only-of-type {\n",
       "        vertical-align: middle;\n",
       "    }\n",
       "\n",
       "    .dataframe tbody tr th {\n",
       "        vertical-align: top;\n",
       "    }\n",
       "\n",
       "    .dataframe thead th {\n",
       "        text-align: right;\n",
       "    }\n",
       "</style>\n",
       "<table border=\"1\" class=\"dataframe\">\n",
       "  <thead>\n",
       "    <tr style=\"text-align: right;\">\n",
       "      <th></th>\n",
       "      <th>cement</th>\n",
       "      <th>slag</th>\n",
       "      <th>ash</th>\n",
       "      <th>water</th>\n",
       "      <th>superplastic</th>\n",
       "      <th>coarseagg</th>\n",
       "      <th>fineagg</th>\n",
       "      <th>age</th>\n",
       "      <th>strength</th>\n",
       "    </tr>\n",
       "  </thead>\n",
       "  <tbody>\n",
       "    <tr>\n",
       "      <th>0</th>\n",
       "      <td>540.0</td>\n",
       "      <td>0.0</td>\n",
       "      <td>0.0</td>\n",
       "      <td>162.0</td>\n",
       "      <td>2.5</td>\n",
       "      <td>1040.0</td>\n",
       "      <td>676.0</td>\n",
       "      <td>28.0</td>\n",
       "      <td>79.986111</td>\n",
       "    </tr>\n",
       "    <tr>\n",
       "      <th>1</th>\n",
       "      <td>540.0</td>\n",
       "      <td>0.0</td>\n",
       "      <td>0.0</td>\n",
       "      <td>162.0</td>\n",
       "      <td>2.5</td>\n",
       "      <td>1055.0</td>\n",
       "      <td>676.0</td>\n",
       "      <td>28.0</td>\n",
       "      <td>61.887366</td>\n",
       "    </tr>\n",
       "    <tr>\n",
       "      <th>2</th>\n",
       "      <td>332.5</td>\n",
       "      <td>142.5</td>\n",
       "      <td>0.0</td>\n",
       "      <td>228.0</td>\n",
       "      <td>0.0</td>\n",
       "      <td>932.0</td>\n",
       "      <td>594.0</td>\n",
       "      <td>NaN</td>\n",
       "      <td>40.269535</td>\n",
       "    </tr>\n",
       "    <tr>\n",
       "      <th>3</th>\n",
       "      <td>332.5</td>\n",
       "      <td>142.5</td>\n",
       "      <td>0.0</td>\n",
       "      <td>228.0</td>\n",
       "      <td>0.0</td>\n",
       "      <td>932.0</td>\n",
       "      <td>594.0</td>\n",
       "      <td>NaN</td>\n",
       "      <td>41.052780</td>\n",
       "    </tr>\n",
       "    <tr>\n",
       "      <th>4</th>\n",
       "      <td>198.6</td>\n",
       "      <td>132.4</td>\n",
       "      <td>0.0</td>\n",
       "      <td>192.0</td>\n",
       "      <td>0.0</td>\n",
       "      <td>978.4</td>\n",
       "      <td>825.5</td>\n",
       "      <td>NaN</td>\n",
       "      <td>44.296075</td>\n",
       "    </tr>\n",
       "    <tr>\n",
       "      <th>...</th>\n",
       "      <td>...</td>\n",
       "      <td>...</td>\n",
       "      <td>...</td>\n",
       "      <td>...</td>\n",
       "      <td>...</td>\n",
       "      <td>...</td>\n",
       "      <td>...</td>\n",
       "      <td>...</td>\n",
       "      <td>...</td>\n",
       "    </tr>\n",
       "    <tr>\n",
       "      <th>1025</th>\n",
       "      <td>276.4</td>\n",
       "      <td>116.0</td>\n",
       "      <td>90.3</td>\n",
       "      <td>179.6</td>\n",
       "      <td>8.9</td>\n",
       "      <td>870.1</td>\n",
       "      <td>768.3</td>\n",
       "      <td>28.0</td>\n",
       "      <td>44.284354</td>\n",
       "    </tr>\n",
       "    <tr>\n",
       "      <th>1026</th>\n",
       "      <td>322.2</td>\n",
       "      <td>0.0</td>\n",
       "      <td>115.6</td>\n",
       "      <td>196.0</td>\n",
       "      <td>10.4</td>\n",
       "      <td>817.9</td>\n",
       "      <td>813.4</td>\n",
       "      <td>28.0</td>\n",
       "      <td>31.178794</td>\n",
       "    </tr>\n",
       "    <tr>\n",
       "      <th>1027</th>\n",
       "      <td>148.5</td>\n",
       "      <td>139.4</td>\n",
       "      <td>108.6</td>\n",
       "      <td>192.7</td>\n",
       "      <td>6.1</td>\n",
       "      <td>892.4</td>\n",
       "      <td>780.0</td>\n",
       "      <td>28.0</td>\n",
       "      <td>23.696601</td>\n",
       "    </tr>\n",
       "    <tr>\n",
       "      <th>1028</th>\n",
       "      <td>159.1</td>\n",
       "      <td>186.7</td>\n",
       "      <td>0.0</td>\n",
       "      <td>175.6</td>\n",
       "      <td>11.3</td>\n",
       "      <td>989.6</td>\n",
       "      <td>788.9</td>\n",
       "      <td>28.0</td>\n",
       "      <td>32.768036</td>\n",
       "    </tr>\n",
       "    <tr>\n",
       "      <th>1029</th>\n",
       "      <td>260.9</td>\n",
       "      <td>100.5</td>\n",
       "      <td>78.3</td>\n",
       "      <td>200.6</td>\n",
       "      <td>8.6</td>\n",
       "      <td>864.5</td>\n",
       "      <td>761.5</td>\n",
       "      <td>28.0</td>\n",
       "      <td>32.401235</td>\n",
       "    </tr>\n",
       "  </tbody>\n",
       "</table>\n",
       "<p>1030 rows × 9 columns</p>\n",
       "</div>"
      ],
      "text/plain": [
       "      cement   slag    ash  water  superplastic  coarseagg  fineagg   age  \\\n",
       "0      540.0    0.0    0.0  162.0           2.5     1040.0    676.0  28.0   \n",
       "1      540.0    0.0    0.0  162.0           2.5     1055.0    676.0  28.0   \n",
       "2      332.5  142.5    0.0  228.0           0.0      932.0    594.0   NaN   \n",
       "3      332.5  142.5    0.0  228.0           0.0      932.0    594.0   NaN   \n",
       "4      198.6  132.4    0.0  192.0           0.0      978.4    825.5   NaN   \n",
       "...      ...    ...    ...    ...           ...        ...      ...   ...   \n",
       "1025   276.4  116.0   90.3  179.6           8.9      870.1    768.3  28.0   \n",
       "1026   322.2    0.0  115.6  196.0          10.4      817.9    813.4  28.0   \n",
       "1027   148.5  139.4  108.6  192.7           6.1      892.4    780.0  28.0   \n",
       "1028   159.1  186.7    0.0  175.6          11.3      989.6    788.9  28.0   \n",
       "1029   260.9  100.5   78.3  200.6           8.6      864.5    761.5  28.0   \n",
       "\n",
       "       strength  \n",
       "0     79.986111  \n",
       "1     61.887366  \n",
       "2     40.269535  \n",
       "3     41.052780  \n",
       "4     44.296075  \n",
       "...         ...  \n",
       "1025  44.284354  \n",
       "1026  31.178794  \n",
       "1027  23.696601  \n",
       "1028  32.768036  \n",
       "1029  32.401235  \n",
       "\n",
       "[1030 rows x 9 columns]"
      ]
     },
     "execution_count": 43,
     "metadata": {},
     "output_type": "execute_result"
    }
   ],
   "source": [
    "x = concrete.iloc[:,:-1]\n",
    "q1 = x.quantile(0.25)\n",
    "q3 = x.quantile(0.75)\n",
    "iqr = q3 - q1\n",
    "concrete.iloc[:,:-1] = x[(x >= q1-1.5*iqr) & (x <= q3+iqr*1.5)]\n",
    "#concrete= concrete.fillna(concrete.median())\n",
    "concrete"
   ]
  },
  {
   "cell_type": "markdown",
   "metadata": {},
   "source": [
    "* 아웃라이어들이 제거 되었음을 확인"
   ]
  },
  {
   "cell_type": "code",
   "execution_count": null,
   "metadata": {
    "scrolled": false
   },
   "outputs": [],
   "source": []
  },
  {
   "cell_type": "code",
   "execution_count": 20,
   "metadata": {},
   "outputs": [
    {
     "data": {
      "text/html": [
       "<div>\n",
       "<style scoped>\n",
       "    .dataframe tbody tr th:only-of-type {\n",
       "        vertical-align: middle;\n",
       "    }\n",
       "\n",
       "    .dataframe tbody tr th {\n",
       "        vertical-align: top;\n",
       "    }\n",
       "\n",
       "    .dataframe thead th {\n",
       "        text-align: right;\n",
       "    }\n",
       "</style>\n",
       "<table border=\"1\" class=\"dataframe\">\n",
       "  <thead>\n",
       "    <tr style=\"text-align: right;\">\n",
       "      <th></th>\n",
       "      <th>cement</th>\n",
       "      <th>slag</th>\n",
       "      <th>ash</th>\n",
       "      <th>water</th>\n",
       "      <th>superplastic</th>\n",
       "      <th>coarseagg</th>\n",
       "      <th>fineagg</th>\n",
       "      <th>age</th>\n",
       "      <th>strength</th>\n",
       "    </tr>\n",
       "  </thead>\n",
       "  <tbody>\n",
       "    <tr>\n",
       "      <th>count</th>\n",
       "      <td>947.000000</td>\n",
       "      <td>947.000000</td>\n",
       "      <td>947.000000</td>\n",
       "      <td>947.000000</td>\n",
       "      <td>947.000000</td>\n",
       "      <td>947.000000</td>\n",
       "      <td>947.000000</td>\n",
       "      <td>947.000000</td>\n",
       "      <td>947.000000</td>\n",
       "    </tr>\n",
       "    <tr>\n",
       "      <th>mean</th>\n",
       "      <td>275.967635</td>\n",
       "      <td>74.381573</td>\n",
       "      <td>57.920908</td>\n",
       "      <td>180.533474</td>\n",
       "      <td>6.261463</td>\n",
       "      <td>974.751056</td>\n",
       "      <td>784.342661</td>\n",
       "      <td>23.476241</td>\n",
       "      <td>35.083587</td>\n",
       "    </tr>\n",
       "    <tr>\n",
       "      <th>std</th>\n",
       "      <td>102.206107</td>\n",
       "      <td>86.587351</td>\n",
       "      <td>64.349665</td>\n",
       "      <td>18.770463</td>\n",
       "      <td>5.351153</td>\n",
       "      <td>77.759152</td>\n",
       "      <td>64.847531</td>\n",
       "      <td>14.441477</td>\n",
       "      <td>16.809960</td>\n",
       "    </tr>\n",
       "    <tr>\n",
       "      <th>min</th>\n",
       "      <td>102.000000</td>\n",
       "      <td>0.000000</td>\n",
       "      <td>0.000000</td>\n",
       "      <td>127.000000</td>\n",
       "      <td>0.000000</td>\n",
       "      <td>801.000000</td>\n",
       "      <td>623.000000</td>\n",
       "      <td>1.000000</td>\n",
       "      <td>2.331808</td>\n",
       "    </tr>\n",
       "    <tr>\n",
       "      <th>25%</th>\n",
       "      <td>190.340000</td>\n",
       "      <td>0.000000</td>\n",
       "      <td>0.000000</td>\n",
       "      <td>164.900000</td>\n",
       "      <td>0.000000</td>\n",
       "      <td>932.000000</td>\n",
       "      <td>750.000000</td>\n",
       "      <td>7.000000</td>\n",
       "      <td>22.735471</td>\n",
       "    </tr>\n",
       "    <tr>\n",
       "      <th>50%</th>\n",
       "      <td>259.900000</td>\n",
       "      <td>20.000000</td>\n",
       "      <td>0.000000</td>\n",
       "      <td>183.800000</td>\n",
       "      <td>6.860000</td>\n",
       "      <td>968.000000</td>\n",
       "      <td>781.000000</td>\n",
       "      <td>28.000000</td>\n",
       "      <td>33.419591</td>\n",
       "    </tr>\n",
       "    <tr>\n",
       "      <th>75%</th>\n",
       "      <td>349.000000</td>\n",
       "      <td>145.000000</td>\n",
       "      <td>118.455000</td>\n",
       "      <td>192.000000</td>\n",
       "      <td>10.300000</td>\n",
       "      <td>1032.000000</td>\n",
       "      <td>822.100000</td>\n",
       "      <td>28.000000</td>\n",
       "      <td>44.976588</td>\n",
       "    </tr>\n",
       "    <tr>\n",
       "      <th>max</th>\n",
       "      <td>540.000000</td>\n",
       "      <td>342.100000</td>\n",
       "      <td>200.100000</td>\n",
       "      <td>228.000000</td>\n",
       "      <td>22.100000</td>\n",
       "      <td>1145.000000</td>\n",
       "      <td>945.000000</td>\n",
       "      <td>56.000000</td>\n",
       "      <td>82.599225</td>\n",
       "    </tr>\n",
       "  </tbody>\n",
       "</table>\n",
       "</div>"
      ],
      "text/plain": [
       "           cement        slag         ash       water  superplastic  \\\n",
       "count  947.000000  947.000000  947.000000  947.000000    947.000000   \n",
       "mean   275.967635   74.381573   57.920908  180.533474      6.261463   \n",
       "std    102.206107   86.587351   64.349665   18.770463      5.351153   \n",
       "min    102.000000    0.000000    0.000000  127.000000      0.000000   \n",
       "25%    190.340000    0.000000    0.000000  164.900000      0.000000   \n",
       "50%    259.900000   20.000000    0.000000  183.800000      6.860000   \n",
       "75%    349.000000  145.000000  118.455000  192.000000     10.300000   \n",
       "max    540.000000  342.100000  200.100000  228.000000     22.100000   \n",
       "\n",
       "         coarseagg     fineagg         age    strength  \n",
       "count   947.000000  947.000000  947.000000  947.000000  \n",
       "mean    974.751056  784.342661   23.476241   35.083587  \n",
       "std      77.759152   64.847531   14.441477   16.809960  \n",
       "min     801.000000  623.000000    1.000000    2.331808  \n",
       "25%     932.000000  750.000000    7.000000   22.735471  \n",
       "50%     968.000000  781.000000   28.000000   33.419591  \n",
       "75%    1032.000000  822.100000   28.000000   44.976588  \n",
       "max    1145.000000  945.000000   56.000000   82.599225  "
      ]
     },
     "execution_count": 20,
     "metadata": {},
     "output_type": "execute_result"
    }
   ],
   "source": [
    "concrete.describe()"
   ]
  },
  {
   "cell_type": "markdown",
   "metadata": {},
   "source": [
    "* 중복 데이터 확인하고 삭제하기"
   ]
  },
  {
   "cell_type": "code",
   "execution_count": 23,
   "metadata": {
    "scrolled": true
   },
   "outputs": [
    {
     "data": {
      "text/plain": [
       "25"
      ]
     },
     "execution_count": 23,
     "metadata": {},
     "output_type": "execute_result"
    }
   ],
   "source": []
  },
  {
   "cell_type": "code",
   "execution_count": 9,
   "metadata": {},
   "outputs": [
    {
     "data": {
      "text/plain": [
       "25"
      ]
     },
     "execution_count": 9,
     "metadata": {},
     "output_type": "execute_result"
    }
   ],
   "source": [
    "concrete.duplicated().sum()"
   ]
  },
  {
   "cell_type": "code",
   "execution_count": 24,
   "metadata": {
    "scrolled": true
   },
   "outputs": [
    {
     "data": {
      "text/plain": [
       "False    922\n",
       "True      25\n",
       "dtype: int64"
      ]
     },
     "execution_count": 24,
     "metadata": {},
     "output_type": "execute_result"
    }
   ],
   "source": []
  },
  {
   "cell_type": "code",
   "execution_count": 10,
   "metadata": {},
   "outputs": [
    {
     "data": {
      "text/plain": [
       "False    1005\n",
       "True       25\n",
       "dtype: int64"
      ]
     },
     "execution_count": 10,
     "metadata": {},
     "output_type": "execute_result"
    }
   ],
   "source": [
    "concrete.duplicated().value_counts()"
   ]
  },
  {
   "cell_type": "code",
   "execution_count": 106,
   "metadata": {},
   "outputs": [
    {
     "data": {
      "text/html": [
       "<div>\n",
       "<style scoped>\n",
       "    .dataframe tbody tr th:only-of-type {\n",
       "        vertical-align: middle;\n",
       "    }\n",
       "\n",
       "    .dataframe tbody tr th {\n",
       "        vertical-align: top;\n",
       "    }\n",
       "\n",
       "    .dataframe thead th {\n",
       "        text-align: right;\n",
       "    }\n",
       "</style>\n",
       "<table border=\"1\" class=\"dataframe\">\n",
       "  <thead>\n",
       "    <tr style=\"text-align: right;\">\n",
       "      <th></th>\n",
       "      <th>cement</th>\n",
       "      <th>slag</th>\n",
       "      <th>ash</th>\n",
       "      <th>water</th>\n",
       "      <th>superplastic</th>\n",
       "      <th>coarseagg</th>\n",
       "      <th>fineagg</th>\n",
       "      <th>age</th>\n",
       "      <th>strength</th>\n",
       "    </tr>\n",
       "  </thead>\n",
       "  <tbody>\n",
       "    <tr>\n",
       "      <th>0</th>\n",
       "      <td>540.0</td>\n",
       "      <td>0.0</td>\n",
       "      <td>0.0</td>\n",
       "      <td>162.0</td>\n",
       "      <td>2.5</td>\n",
       "      <td>1040.0</td>\n",
       "      <td>676.0</td>\n",
       "      <td>28.0</td>\n",
       "      <td>79.986111</td>\n",
       "    </tr>\n",
       "    <tr>\n",
       "      <th>1</th>\n",
       "      <td>540.0</td>\n",
       "      <td>0.0</td>\n",
       "      <td>0.0</td>\n",
       "      <td>162.0</td>\n",
       "      <td>2.5</td>\n",
       "      <td>1055.0</td>\n",
       "      <td>676.0</td>\n",
       "      <td>28.0</td>\n",
       "      <td>61.887366</td>\n",
       "    </tr>\n",
       "    <tr>\n",
       "      <th>2</th>\n",
       "      <td>332.5</td>\n",
       "      <td>142.5</td>\n",
       "      <td>0.0</td>\n",
       "      <td>228.0</td>\n",
       "      <td>0.0</td>\n",
       "      <td>932.0</td>\n",
       "      <td>594.0</td>\n",
       "      <td>28.0</td>\n",
       "      <td>40.269535</td>\n",
       "    </tr>\n",
       "    <tr>\n",
       "      <th>3</th>\n",
       "      <td>332.5</td>\n",
       "      <td>142.5</td>\n",
       "      <td>0.0</td>\n",
       "      <td>228.0</td>\n",
       "      <td>0.0</td>\n",
       "      <td>932.0</td>\n",
       "      <td>594.0</td>\n",
       "      <td>28.0</td>\n",
       "      <td>41.052780</td>\n",
       "    </tr>\n",
       "    <tr>\n",
       "      <th>4</th>\n",
       "      <td>198.6</td>\n",
       "      <td>132.4</td>\n",
       "      <td>0.0</td>\n",
       "      <td>192.0</td>\n",
       "      <td>0.0</td>\n",
       "      <td>978.4</td>\n",
       "      <td>825.5</td>\n",
       "      <td>28.0</td>\n",
       "      <td>44.296075</td>\n",
       "    </tr>\n",
       "    <tr>\n",
       "      <th>...</th>\n",
       "      <td>...</td>\n",
       "      <td>...</td>\n",
       "      <td>...</td>\n",
       "      <td>...</td>\n",
       "      <td>...</td>\n",
       "      <td>...</td>\n",
       "      <td>...</td>\n",
       "      <td>...</td>\n",
       "      <td>...</td>\n",
       "    </tr>\n",
       "    <tr>\n",
       "      <th>1025</th>\n",
       "      <td>276.4</td>\n",
       "      <td>116.0</td>\n",
       "      <td>90.3</td>\n",
       "      <td>179.6</td>\n",
       "      <td>8.9</td>\n",
       "      <td>870.1</td>\n",
       "      <td>768.3</td>\n",
       "      <td>28.0</td>\n",
       "      <td>44.284354</td>\n",
       "    </tr>\n",
       "    <tr>\n",
       "      <th>1026</th>\n",
       "      <td>322.2</td>\n",
       "      <td>0.0</td>\n",
       "      <td>115.6</td>\n",
       "      <td>196.0</td>\n",
       "      <td>10.4</td>\n",
       "      <td>817.9</td>\n",
       "      <td>813.4</td>\n",
       "      <td>28.0</td>\n",
       "      <td>31.178794</td>\n",
       "    </tr>\n",
       "    <tr>\n",
       "      <th>1027</th>\n",
       "      <td>148.5</td>\n",
       "      <td>139.4</td>\n",
       "      <td>108.6</td>\n",
       "      <td>192.7</td>\n",
       "      <td>6.1</td>\n",
       "      <td>892.4</td>\n",
       "      <td>780.0</td>\n",
       "      <td>28.0</td>\n",
       "      <td>23.696601</td>\n",
       "    </tr>\n",
       "    <tr>\n",
       "      <th>1028</th>\n",
       "      <td>159.1</td>\n",
       "      <td>186.7</td>\n",
       "      <td>0.0</td>\n",
       "      <td>175.6</td>\n",
       "      <td>11.3</td>\n",
       "      <td>989.6</td>\n",
       "      <td>788.9</td>\n",
       "      <td>28.0</td>\n",
       "      <td>32.768036</td>\n",
       "    </tr>\n",
       "    <tr>\n",
       "      <th>1029</th>\n",
       "      <td>260.9</td>\n",
       "      <td>100.5</td>\n",
       "      <td>78.3</td>\n",
       "      <td>200.6</td>\n",
       "      <td>8.6</td>\n",
       "      <td>864.5</td>\n",
       "      <td>761.5</td>\n",
       "      <td>28.0</td>\n",
       "      <td>32.401235</td>\n",
       "    </tr>\n",
       "  </tbody>\n",
       "</table>\n",
       "<p>1005 rows × 9 columns</p>\n",
       "</div>"
      ],
      "text/plain": [
       "      cement   slag    ash  water  superplastic  coarseagg  fineagg   age  \\\n",
       "0      540.0    0.0    0.0  162.0           2.5     1040.0    676.0  28.0   \n",
       "1      540.0    0.0    0.0  162.0           2.5     1055.0    676.0  28.0   \n",
       "2      332.5  142.5    0.0  228.0           0.0      932.0    594.0  28.0   \n",
       "3      332.5  142.5    0.0  228.0           0.0      932.0    594.0  28.0   \n",
       "4      198.6  132.4    0.0  192.0           0.0      978.4    825.5  28.0   \n",
       "...      ...    ...    ...    ...           ...        ...      ...   ...   \n",
       "1025   276.4  116.0   90.3  179.6           8.9      870.1    768.3  28.0   \n",
       "1026   322.2    0.0  115.6  196.0          10.4      817.9    813.4  28.0   \n",
       "1027   148.5  139.4  108.6  192.7           6.1      892.4    780.0  28.0   \n",
       "1028   159.1  186.7    0.0  175.6          11.3      989.6    788.9  28.0   \n",
       "1029   260.9  100.5   78.3  200.6           8.6      864.5    761.5  28.0   \n",
       "\n",
       "       strength  \n",
       "0     79.986111  \n",
       "1     61.887366  \n",
       "2     40.269535  \n",
       "3     41.052780  \n",
       "4     44.296075  \n",
       "...         ...  \n",
       "1025  44.284354  \n",
       "1026  31.178794  \n",
       "1027  23.696601  \n",
       "1028  32.768036  \n",
       "1029  32.401235  \n",
       "\n",
       "[1005 rows x 9 columns]"
      ]
     },
     "execution_count": 106,
     "metadata": {},
     "output_type": "execute_result"
    }
   ],
   "source": [
    "concrete.drop_duplicates()"
   ]
  },
  {
   "cell_type": "markdown",
   "metadata": {},
   "source": [
    "* 25개 삭제 되었음을 확인"
   ]
  },
  {
   "cell_type": "code",
   "execution_count": 26,
   "metadata": {},
   "outputs": [
    {
     "data": {
      "text/html": [
       "<div>\n",
       "<style scoped>\n",
       "    .dataframe tbody tr th:only-of-type {\n",
       "        vertical-align: middle;\n",
       "    }\n",
       "\n",
       "    .dataframe tbody tr th {\n",
       "        vertical-align: top;\n",
       "    }\n",
       "\n",
       "    .dataframe thead th {\n",
       "        text-align: right;\n",
       "    }\n",
       "</style>\n",
       "<table border=\"1\" class=\"dataframe\">\n",
       "  <thead>\n",
       "    <tr style=\"text-align: right;\">\n",
       "      <th></th>\n",
       "      <th>cement</th>\n",
       "      <th>slag</th>\n",
       "      <th>ash</th>\n",
       "      <th>water</th>\n",
       "      <th>superplastic</th>\n",
       "      <th>coarseagg</th>\n",
       "      <th>fineagg</th>\n",
       "      <th>age</th>\n",
       "      <th>strength</th>\n",
       "    </tr>\n",
       "  </thead>\n",
       "  <tbody>\n",
       "    <tr>\n",
       "      <th>0</th>\n",
       "      <td>540.0</td>\n",
       "      <td>0.0</td>\n",
       "      <td>0.0</td>\n",
       "      <td>162.0</td>\n",
       "      <td>2.5</td>\n",
       "      <td>1040.0</td>\n",
       "      <td>676.0</td>\n",
       "      <td>28</td>\n",
       "      <td>79.986111</td>\n",
       "    </tr>\n",
       "    <tr>\n",
       "      <th>1</th>\n",
       "      <td>540.0</td>\n",
       "      <td>0.0</td>\n",
       "      <td>0.0</td>\n",
       "      <td>162.0</td>\n",
       "      <td>2.5</td>\n",
       "      <td>1055.0</td>\n",
       "      <td>676.0</td>\n",
       "      <td>28</td>\n",
       "      <td>61.887366</td>\n",
       "    </tr>\n",
       "    <tr>\n",
       "      <th>5</th>\n",
       "      <td>266.0</td>\n",
       "      <td>114.0</td>\n",
       "      <td>0.0</td>\n",
       "      <td>228.0</td>\n",
       "      <td>0.0</td>\n",
       "      <td>932.0</td>\n",
       "      <td>670.0</td>\n",
       "      <td>90</td>\n",
       "      <td>47.029847</td>\n",
       "    </tr>\n",
       "    <tr>\n",
       "      <th>7</th>\n",
       "      <td>380.0</td>\n",
       "      <td>95.0</td>\n",
       "      <td>0.0</td>\n",
       "      <td>228.0</td>\n",
       "      <td>0.0</td>\n",
       "      <td>932.0</td>\n",
       "      <td>594.0</td>\n",
       "      <td>28</td>\n",
       "      <td>36.447770</td>\n",
       "    </tr>\n",
       "    <tr>\n",
       "      <th>8</th>\n",
       "      <td>266.0</td>\n",
       "      <td>114.0</td>\n",
       "      <td>0.0</td>\n",
       "      <td>228.0</td>\n",
       "      <td>0.0</td>\n",
       "      <td>932.0</td>\n",
       "      <td>670.0</td>\n",
       "      <td>28</td>\n",
       "      <td>45.854291</td>\n",
       "    </tr>\n",
       "    <tr>\n",
       "      <th>...</th>\n",
       "      <td>...</td>\n",
       "      <td>...</td>\n",
       "      <td>...</td>\n",
       "      <td>...</td>\n",
       "      <td>...</td>\n",
       "      <td>...</td>\n",
       "      <td>...</td>\n",
       "      <td>...</td>\n",
       "      <td>...</td>\n",
       "    </tr>\n",
       "    <tr>\n",
       "      <th>1025</th>\n",
       "      <td>276.4</td>\n",
       "      <td>116.0</td>\n",
       "      <td>90.3</td>\n",
       "      <td>179.6</td>\n",
       "      <td>8.9</td>\n",
       "      <td>870.1</td>\n",
       "      <td>768.3</td>\n",
       "      <td>28</td>\n",
       "      <td>44.284354</td>\n",
       "    </tr>\n",
       "    <tr>\n",
       "      <th>1026</th>\n",
       "      <td>322.2</td>\n",
       "      <td>0.0</td>\n",
       "      <td>115.6</td>\n",
       "      <td>196.0</td>\n",
       "      <td>10.4</td>\n",
       "      <td>817.9</td>\n",
       "      <td>813.4</td>\n",
       "      <td>28</td>\n",
       "      <td>31.178794</td>\n",
       "    </tr>\n",
       "    <tr>\n",
       "      <th>1027</th>\n",
       "      <td>148.5</td>\n",
       "      <td>139.4</td>\n",
       "      <td>108.6</td>\n",
       "      <td>192.7</td>\n",
       "      <td>6.1</td>\n",
       "      <td>892.4</td>\n",
       "      <td>780.0</td>\n",
       "      <td>28</td>\n",
       "      <td>23.696601</td>\n",
       "    </tr>\n",
       "    <tr>\n",
       "      <th>1028</th>\n",
       "      <td>159.1</td>\n",
       "      <td>186.7</td>\n",
       "      <td>0.0</td>\n",
       "      <td>175.6</td>\n",
       "      <td>11.3</td>\n",
       "      <td>989.6</td>\n",
       "      <td>788.9</td>\n",
       "      <td>28</td>\n",
       "      <td>32.768036</td>\n",
       "    </tr>\n",
       "    <tr>\n",
       "      <th>1029</th>\n",
       "      <td>260.9</td>\n",
       "      <td>100.5</td>\n",
       "      <td>78.3</td>\n",
       "      <td>200.6</td>\n",
       "      <td>8.6</td>\n",
       "      <td>864.5</td>\n",
       "      <td>761.5</td>\n",
       "      <td>28</td>\n",
       "      <td>32.401235</td>\n",
       "    </tr>\n",
       "  </tbody>\n",
       "</table>\n",
       "<p>922 rows × 9 columns</p>\n",
       "</div>"
      ],
      "text/plain": [
       "      cement   slag    ash  water  superplastic  coarseagg  fineagg  age  \\\n",
       "0      540.0    0.0    0.0  162.0           2.5     1040.0    676.0   28   \n",
       "1      540.0    0.0    0.0  162.0           2.5     1055.0    676.0   28   \n",
       "5      266.0  114.0    0.0  228.0           0.0      932.0    670.0   90   \n",
       "7      380.0   95.0    0.0  228.0           0.0      932.0    594.0   28   \n",
       "8      266.0  114.0    0.0  228.0           0.0      932.0    670.0   28   \n",
       "...      ...    ...    ...    ...           ...        ...      ...  ...   \n",
       "1025   276.4  116.0   90.3  179.6           8.9      870.1    768.3   28   \n",
       "1026   322.2    0.0  115.6  196.0          10.4      817.9    813.4   28   \n",
       "1027   148.5  139.4  108.6  192.7           6.1      892.4    780.0   28   \n",
       "1028   159.1  186.7    0.0  175.6          11.3      989.6    788.9   28   \n",
       "1029   260.9  100.5   78.3  200.6           8.6      864.5    761.5   28   \n",
       "\n",
       "       strength  \n",
       "0     79.986111  \n",
       "1     61.887366  \n",
       "5     47.029847  \n",
       "7     36.447770  \n",
       "8     45.854291  \n",
       "...         ...  \n",
       "1025  44.284354  \n",
       "1026  31.178794  \n",
       "1027  23.696601  \n",
       "1028  32.768036  \n",
       "1029  32.401235  \n",
       "\n",
       "[922 rows x 9 columns]"
      ]
     },
     "execution_count": 26,
     "metadata": {},
     "output_type": "execute_result"
    }
   ],
   "source": []
  },
  {
   "cell_type": "markdown",
   "metadata": {},
   "source": [
    "* 타겟 데이터를 제외한 특성 데이터만으로 plot 만들기\n",
    "* (그래프를 통해 각 특성들의 범위가 다름을 알 수 있음)"
   ]
  },
  {
   "cell_type": "code",
   "execution_count": 27,
   "metadata": {},
   "outputs": [],
   "source": []
  },
  {
   "cell_type": "code",
   "execution_count": 28,
   "metadata": {
    "scrolled": true
   },
   "outputs": [
    {
     "data": {
      "text/plain": [
       "<matplotlib.axes._subplots.AxesSubplot at 0x1e6d7763580>"
      ]
     },
     "execution_count": 28,
     "metadata": {},
     "output_type": "execute_result"
    },
    {
     "data": {
      "image/png": "[encoded data removed]",
      "text/plain": [
       "<Figure size 432x288 with 1 Axes>"
      ]
     },
     "metadata": {
      "needs_background": "light"
     },
     "output_type": "display_data"
    }
   ],
   "source": []
  },
  {
   "cell_type": "code",
   "execution_count": 99,
   "metadata": {
    "scrolled": false
   },
   "outputs": [
    {
     "data": {
      "text/plain": [
       "<AxesSubplot:>"
      ]
     },
     "execution_count": 99,
     "metadata": {},
     "output_type": "execute_result"
    },
    {
     "data": {
      "image/png": "[encoded data removed]",
      "text/plain": [
       "<Figure size 1440x720 with 1 Axes>"
      ]
     },
     "metadata": {},
     "output_type": "display_data"
    }
   ],
   "source": [
    "concrete.iloc[:,:-1].plot()"
   ]
  },
  {
   "cell_type": "markdown",
   "metadata": {},
   "source": [
    "* 정규화, 표준화 작업하기"
   ]
  },
  {
   "cell_type": "code",
   "execution_count": 108,
   "metadata": {},
   "outputs": [],
   "source": [
    "import numpy as np"
   ]
  },
  {
   "cell_type": "code",
   "execution_count": 51,
   "metadata": {},
   "outputs": [],
   "source": [
    "def minmax_normalize(arr):\n",
    "    return (arr-arr.min())/(arr.max()-arr.min())\n",
    "\n",
    "def zscore_standize(arr):\n",
    "    return (arr - arr.mean())/arr.std()"
   ]
  },
  {
   "cell_type": "markdown",
   "metadata": {},
   "source": [
    "* DataFrame의 apply 함수를 통해 정규화(normalize)\n",
    "* 데이터가 0과 1사이의 범위로 변경되었음을 확인"
   ]
  },
  {
   "cell_type": "code",
   "execution_count": 116,
   "metadata": {},
   "outputs": [
    {
     "data": {
      "text/plain": [
       "<AxesSubplot:>"
      ]
     },
     "execution_count": 116,
     "metadata": {},
     "output_type": "execute_result"
    },
    {
     "data": {
      "image/png": "[encoded data removed]",
      "text/plain": [
       "<Figure size 432x288 with 1 Axes>"
      ]
     },
     "metadata": {
      "needs_background": "light"
     },
     "output_type": "display_data"
    }
   ],
   "source": [
    "concrete_mm = concrete.loc[:,:'age'].apply(minmax_normalize)\n",
    "concrete_mm.plot()"
   ]
  },
  {
   "cell_type": "code",
   "execution_count": 35,
   "metadata": {
    "scrolled": true
   },
   "outputs": [
    {
     "data": {
      "text/plain": [
       "<matplotlib.axes._subplots.AxesSubplot at 0x1e6d88bf130>"
      ]
     },
     "execution_count": 35,
     "metadata": {},
     "output_type": "execute_result"
    },
    {
     "data": {
      "image/png": "[encoded data removed]",
      "text/plain": [
       "<Figure size 432x288 with 1 Axes>"
      ]
     },
     "metadata": {
      "needs_background": "light"
     },
     "output_type": "display_data"
    }
   ],
   "source": []
  },
  {
   "cell_type": "markdown",
   "metadata": {},
   "source": [
    "* DataFrame의 apply 함수를 통해 표준화(standarize)\n",
    "* 데이터의 평균이 0으로 맞추어졌음을 확인"
   ]
  },
  {
   "cell_type": "code",
   "execution_count": 54,
   "metadata": {},
   "outputs": [
    {
     "data": {
      "text/plain": [
       "cement          1.0\n",
       "slag            1.0\n",
       "ash             1.0\n",
       "water           1.0\n",
       "superplastic    1.0\n",
       "coarseagg       1.0\n",
       "fineagg         1.0\n",
       "age             1.0\n",
       "dtype: float64"
      ]
     },
     "execution_count": 54,
     "metadata": {},
     "output_type": "execute_result"
    }
   ],
   "source": [
    "concrete_zs = concrete.loc[:,:'age'].apply(zscore_standize)\n",
    "concrete_zs."
   ]
  },
  {
   "cell_type": "code",
   "execution_count": 37,
   "metadata": {},
   "outputs": [
    {
     "data": {
      "text/plain": [
       "<matplotlib.axes._subplots.AxesSubplot at 0x1e6d8972670>"
      ]
     },
     "execution_count": 37,
     "metadata": {},
     "output_type": "execute_result"
    },
    {
     "data": {
      "image/png": "[encoded data removed]",
      "text/plain": [
       "<Figure size 432x288 with 1 Axes>"
      ]
     },
     "metadata": {
      "needs_background": "light"
     },
     "output_type": "display_data"
    }
   ],
   "source": []
  },
  {
   "cell_type": "markdown",
   "metadata": {},
   "source": [
    "### 2. 모델 훈련 "
   ]
  },
  {
   "cell_type": "code",
   "execution_count": null,
   "metadata": {},
   "outputs": [],
   "source": [
    "concrete_zs"
   ]
  },
  {
   "cell_type": "markdown",
   "metadata": {},
   "source": [
    "1. 특성과 레이블 분리\n",
    "2. 훈련 세트와 테스트 세트 분리\n",
    "3. linearRegression 모델 훈련 (추가적으로 DecisionTree, RandomForest 훈련)\n",
    "4. 훈련 데이터로 성능 평가 (RMSE)\n",
    "5. 교차 검증 (모델간 성능 비교)\n",
    "6. 그리드 탐색(트리모델) -  RandomForest : n_estimators (50, 100, 200) 파라미터 탐색\n",
    "7. 최적의 모델로 예측 - 테스트 세트로 예측"
   ]
  },
  {
   "cell_type": "code",
   "execution_count": null,
   "metadata": {},
   "outputs": [],
   "source": [
    "linearRegression, DecisionTree, RandomForest\n",
    "1. 모델생성\n",
    "2. 학습\n",
    "3. DecisionTree, RandomForest ()"
   ]
  },
  {
   "cell_type": "code",
   "execution_count": 179,
   "metadata": {},
   "outputs": [
    {
     "data": {
      "text/html": [
       "<div>\n",
       "<style scoped>\n",
       "    .dataframe tbody tr th:only-of-type {\n",
       "        vertical-align: middle;\n",
       "    }\n",
       "\n",
       "    .dataframe tbody tr th {\n",
       "        vertical-align: top;\n",
       "    }\n",
       "\n",
       "    .dataframe thead th {\n",
       "        text-align: right;\n",
       "    }\n",
       "</style>\n",
       "<table border=\"1\" class=\"dataframe\">\n",
       "  <thead>\n",
       "    <tr style=\"text-align: right;\">\n",
       "      <th></th>\n",
       "      <th>Cement (component 1)(kg in a m^3 mixture)</th>\n",
       "      <th>Blast Furnace Slag (component 2)(kg in a m^3 mixture)</th>\n",
       "      <th>Fly Ash (component 3)(kg in a m^3 mixture)</th>\n",
       "      <th>Water  (component 4)(kg in a m^3 mixture)</th>\n",
       "      <th>Superplasticizer (component 5)(kg in a m^3 mixture)</th>\n",
       "      <th>Coarse Aggregate  (component 6)(kg in a m^3 mixture)</th>\n",
       "      <th>Fine Aggregate (component 7)(kg in a m^3 mixture)</th>\n",
       "      <th>Age (day)</th>\n",
       "      <th>Concrete compressive strength(MPa, megapascals)</th>\n",
       "    </tr>\n",
       "  </thead>\n",
       "  <tbody>\n",
       "    <tr>\n",
       "      <th>0</th>\n",
       "      <td>540.0</td>\n",
       "      <td>0.0</td>\n",
       "      <td>0.0</td>\n",
       "      <td>162.0</td>\n",
       "      <td>2.5</td>\n",
       "      <td>1040.0</td>\n",
       "      <td>676.0</td>\n",
       "      <td>28</td>\n",
       "      <td>79.986111</td>\n",
       "    </tr>\n",
       "    <tr>\n",
       "      <th>1</th>\n",
       "      <td>540.0</td>\n",
       "      <td>0.0</td>\n",
       "      <td>0.0</td>\n",
       "      <td>162.0</td>\n",
       "      <td>2.5</td>\n",
       "      <td>1055.0</td>\n",
       "      <td>676.0</td>\n",
       "      <td>28</td>\n",
       "      <td>61.887366</td>\n",
       "    </tr>\n",
       "    <tr>\n",
       "      <th>2</th>\n",
       "      <td>332.5</td>\n",
       "      <td>142.5</td>\n",
       "      <td>0.0</td>\n",
       "      <td>228.0</td>\n",
       "      <td>0.0</td>\n",
       "      <td>932.0</td>\n",
       "      <td>594.0</td>\n",
       "      <td>270</td>\n",
       "      <td>40.269535</td>\n",
       "    </tr>\n",
       "    <tr>\n",
       "      <th>3</th>\n",
       "      <td>332.5</td>\n",
       "      <td>142.5</td>\n",
       "      <td>0.0</td>\n",
       "      <td>228.0</td>\n",
       "      <td>0.0</td>\n",
       "      <td>932.0</td>\n",
       "      <td>594.0</td>\n",
       "      <td>365</td>\n",
       "      <td>41.052780</td>\n",
       "    </tr>\n",
       "    <tr>\n",
       "      <th>4</th>\n",
       "      <td>198.6</td>\n",
       "      <td>132.4</td>\n",
       "      <td>0.0</td>\n",
       "      <td>192.0</td>\n",
       "      <td>0.0</td>\n",
       "      <td>978.4</td>\n",
       "      <td>825.5</td>\n",
       "      <td>360</td>\n",
       "      <td>44.296075</td>\n",
       "    </tr>\n",
       "    <tr>\n",
       "      <th>...</th>\n",
       "      <td>...</td>\n",
       "      <td>...</td>\n",
       "      <td>...</td>\n",
       "      <td>...</td>\n",
       "      <td>...</td>\n",
       "      <td>...</td>\n",
       "      <td>...</td>\n",
       "      <td>...</td>\n",
       "      <td>...</td>\n",
       "    </tr>\n",
       "    <tr>\n",
       "      <th>1025</th>\n",
       "      <td>276.4</td>\n",
       "      <td>116.0</td>\n",
       "      <td>90.3</td>\n",
       "      <td>179.6</td>\n",
       "      <td>8.9</td>\n",
       "      <td>870.1</td>\n",
       "      <td>768.3</td>\n",
       "      <td>28</td>\n",
       "      <td>44.284354</td>\n",
       "    </tr>\n",
       "    <tr>\n",
       "      <th>1026</th>\n",
       "      <td>322.2</td>\n",
       "      <td>0.0</td>\n",
       "      <td>115.6</td>\n",
       "      <td>196.0</td>\n",
       "      <td>10.4</td>\n",
       "      <td>817.9</td>\n",
       "      <td>813.4</td>\n",
       "      <td>28</td>\n",
       "      <td>31.178794</td>\n",
       "    </tr>\n",
       "    <tr>\n",
       "      <th>1027</th>\n",
       "      <td>148.5</td>\n",
       "      <td>139.4</td>\n",
       "      <td>108.6</td>\n",
       "      <td>192.7</td>\n",
       "      <td>6.1</td>\n",
       "      <td>892.4</td>\n",
       "      <td>780.0</td>\n",
       "      <td>28</td>\n",
       "      <td>23.696601</td>\n",
       "    </tr>\n",
       "    <tr>\n",
       "      <th>1028</th>\n",
       "      <td>159.1</td>\n",
       "      <td>186.7</td>\n",
       "      <td>0.0</td>\n",
       "      <td>175.6</td>\n",
       "      <td>11.3</td>\n",
       "      <td>989.6</td>\n",
       "      <td>788.9</td>\n",
       "      <td>28</td>\n",
       "      <td>32.768036</td>\n",
       "    </tr>\n",
       "    <tr>\n",
       "      <th>1029</th>\n",
       "      <td>260.9</td>\n",
       "      <td>100.5</td>\n",
       "      <td>78.3</td>\n",
       "      <td>200.6</td>\n",
       "      <td>8.6</td>\n",
       "      <td>864.5</td>\n",
       "      <td>761.5</td>\n",
       "      <td>28</td>\n",
       "      <td>32.401235</td>\n",
       "    </tr>\n",
       "  </tbody>\n",
       "</table>\n",
       "<p>1030 rows × 9 columns</p>\n",
       "</div>"
      ],
      "text/plain": [
       "      Cement (component 1)(kg in a m^3 mixture)  \\\n",
       "0                                         540.0   \n",
       "1                                         540.0   \n",
       "2                                         332.5   \n",
       "3                                         332.5   \n",
       "4                                         198.6   \n",
       "...                                         ...   \n",
       "1025                                      276.4   \n",
       "1026                                      322.2   \n",
       "1027                                      148.5   \n",
       "1028                                      159.1   \n",
       "1029                                      260.9   \n",
       "\n",
       "      Blast Furnace Slag (component 2)(kg in a m^3 mixture)  \\\n",
       "0                                                   0.0       \n",
       "1                                                   0.0       \n",
       "2                                                 142.5       \n",
       "3                                                 142.5       \n",
       "4                                                 132.4       \n",
       "...                                                 ...       \n",
       "1025                                              116.0       \n",
       "1026                                                0.0       \n",
       "1027                                              139.4       \n",
       "1028                                              186.7       \n",
       "1029                                              100.5       \n",
       "\n",
       "      Fly Ash (component 3)(kg in a m^3 mixture)  \\\n",
       "0                                            0.0   \n",
       "1                                            0.0   \n",
       "2                                            0.0   \n",
       "3                                            0.0   \n",
       "4                                            0.0   \n",
       "...                                          ...   \n",
       "1025                                        90.3   \n",
       "1026                                       115.6   \n",
       "1027                                       108.6   \n",
       "1028                                         0.0   \n",
       "1029                                        78.3   \n",
       "\n",
       "      Water  (component 4)(kg in a m^3 mixture)  \\\n",
       "0                                         162.0   \n",
       "1                                         162.0   \n",
       "2                                         228.0   \n",
       "3                                         228.0   \n",
       "4                                         192.0   \n",
       "...                                         ...   \n",
       "1025                                      179.6   \n",
       "1026                                      196.0   \n",
       "1027                                      192.7   \n",
       "1028                                      175.6   \n",
       "1029                                      200.6   \n",
       "\n",
       "      Superplasticizer (component 5)(kg in a m^3 mixture)  \\\n",
       "0                                                   2.5     \n",
       "1                                                   2.5     \n",
       "2                                                   0.0     \n",
       "3                                                   0.0     \n",
       "4                                                   0.0     \n",
       "...                                                 ...     \n",
       "1025                                                8.9     \n",
       "1026                                               10.4     \n",
       "1027                                                6.1     \n",
       "1028                                               11.3     \n",
       "1029                                                8.6     \n",
       "\n",
       "      Coarse Aggregate  (component 6)(kg in a m^3 mixture)  \\\n",
       "0                                                1040.0      \n",
       "1                                                1055.0      \n",
       "2                                                 932.0      \n",
       "3                                                 932.0      \n",
       "4                                                 978.4      \n",
       "...                                                 ...      \n",
       "1025                                              870.1      \n",
       "1026                                              817.9      \n",
       "1027                                              892.4      \n",
       "1028                                              989.6      \n",
       "1029                                              864.5      \n",
       "\n",
       "      Fine Aggregate (component 7)(kg in a m^3 mixture)  Age (day)  \\\n",
       "0                                                 676.0         28   \n",
       "1                                                 676.0         28   \n",
       "2                                                 594.0        270   \n",
       "3                                                 594.0        365   \n",
       "4                                                 825.5        360   \n",
       "...                                                 ...        ...   \n",
       "1025                                              768.3         28   \n",
       "1026                                              813.4         28   \n",
       "1027                                              780.0         28   \n",
       "1028                                              788.9         28   \n",
       "1029                                              761.5         28   \n",
       "\n",
       "      Concrete compressive strength(MPa, megapascals)   \n",
       "0                                            79.986111  \n",
       "1                                            61.887366  \n",
       "2                                            40.269535  \n",
       "3                                            41.052780  \n",
       "4                                            44.296075  \n",
       "...                                                ...  \n",
       "1025                                         44.284354  \n",
       "1026                                         31.178794  \n",
       "1027                                         23.696601  \n",
       "1028                                         32.768036  \n",
       "1029                                         32.401235  \n",
       "\n",
       "[1030 rows x 9 columns]"
      ]
     },
     "execution_count": 179,
     "metadata": {},
     "output_type": "execute_result"
    }
   ],
   "source": [
    "import pandas as pd\n",
    "concrete = pd.read_excel('datasets/Concrete_Data.xls')\n",
    "concrete.columns = ['cement', 'slag', 'ash', 'water', 'superplastic', 'coarseagg', 'fineagg', 'age', 'strength']\n",
    "concrete"
   ]
  },
  {
   "cell_type": "code",
   "execution_count": 109,
   "metadata": {},
   "outputs": [
    {
     "name": "stdout",
     "output_type": "stream",
     "text": [
      "<class 'pandas.core.frame.DataFrame'>\n",
      "RangeIndex: 1030 entries, 0 to 1029\n",
      "Data columns (total 9 columns):\n",
      " #   Column        Non-Null Count  Dtype  \n",
      "---  ------        --------------  -----  \n",
      " 0   cement        1030 non-null   float64\n",
      " 1   slag          1030 non-null   float64\n",
      " 2   ash           1030 non-null   float64\n",
      " 3   water         1030 non-null   float64\n",
      " 4   superplastic  1030 non-null   float64\n",
      " 5   coarseagg     1030 non-null   float64\n",
      " 6   fineagg       1030 non-null   float64\n",
      " 7   age           1030 non-null   int64  \n",
      " 8   strength      1030 non-null   float64\n",
      "dtypes: float64(8), int64(1)\n",
      "memory usage: 72.5 KB\n"
     ]
    }
   ],
   "source": [
    "concrete.info()"
   ]
  },
  {
   "cell_type": "code",
   "execution_count": 182,
   "metadata": {},
   "outputs": [],
   "source": [
    "from sklearn.model_selection import train_test_split\n",
    "\n",
    "train_set, test_set = train_test_split(concrete, test_size=0.2, random_state=42)"
   ]
  },
  {
   "cell_type": "code",
   "execution_count": 170,
   "metadata": {
    "scrolled": true
   },
   "outputs": [
    {
     "data": {
      "text/html": [
       "<div>\n",
       "<style scoped>\n",
       "    .dataframe tbody tr th:only-of-type {\n",
       "        vertical-align: middle;\n",
       "    }\n",
       "\n",
       "    .dataframe tbody tr th {\n",
       "        vertical-align: top;\n",
       "    }\n",
       "\n",
       "    .dataframe thead th {\n",
       "        text-align: right;\n",
       "    }\n",
       "</style>\n",
       "<table border=\"1\" class=\"dataframe\">\n",
       "  <thead>\n",
       "    <tr style=\"text-align: right;\">\n",
       "      <th></th>\n",
       "      <th>Cement (component 1)(kg in a m^3 mixture)</th>\n",
       "      <th>Blast Furnace Slag (component 2)(kg in a m^3 mixture)</th>\n",
       "      <th>Fly Ash (component 3)(kg in a m^3 mixture)</th>\n",
       "      <th>Water  (component 4)(kg in a m^3 mixture)</th>\n",
       "      <th>Superplasticizer (component 5)(kg in a m^3 mixture)</th>\n",
       "      <th>Coarse Aggregate  (component 6)(kg in a m^3 mixture)</th>\n",
       "      <th>Fine Aggregate (component 7)(kg in a m^3 mixture)</th>\n",
       "      <th>Age (day)</th>\n",
       "      <th>Concrete compressive strength(MPa, megapascals)</th>\n",
       "    </tr>\n",
       "  </thead>\n",
       "  <tbody>\n",
       "    <tr>\n",
       "      <th>31</th>\n",
       "      <td>266.0</td>\n",
       "      <td>114.0</td>\n",
       "      <td>0.0</td>\n",
       "      <td>228.0</td>\n",
       "      <td>0.00</td>\n",
       "      <td>932.0</td>\n",
       "      <td>670.0</td>\n",
       "      <td>365</td>\n",
       "      <td>52.908320</td>\n",
       "    </tr>\n",
       "    <tr>\n",
       "      <th>109</th>\n",
       "      <td>362.6</td>\n",
       "      <td>189.0</td>\n",
       "      <td>0.0</td>\n",
       "      <td>164.9</td>\n",
       "      <td>11.60</td>\n",
       "      <td>944.7</td>\n",
       "      <td>755.8</td>\n",
       "      <td>7</td>\n",
       "      <td>55.895819</td>\n",
       "    </tr>\n",
       "    <tr>\n",
       "      <th>136</th>\n",
       "      <td>389.9</td>\n",
       "      <td>189.0</td>\n",
       "      <td>0.0</td>\n",
       "      <td>145.9</td>\n",
       "      <td>22.00</td>\n",
       "      <td>944.7</td>\n",
       "      <td>755.8</td>\n",
       "      <td>28</td>\n",
       "      <td>74.497882</td>\n",
       "    </tr>\n",
       "    <tr>\n",
       "      <th>88</th>\n",
       "      <td>362.6</td>\n",
       "      <td>189.0</td>\n",
       "      <td>0.0</td>\n",
       "      <td>164.9</td>\n",
       "      <td>11.60</td>\n",
       "      <td>944.7</td>\n",
       "      <td>755.8</td>\n",
       "      <td>3</td>\n",
       "      <td>35.301171</td>\n",
       "    </tr>\n",
       "    <tr>\n",
       "      <th>918</th>\n",
       "      <td>145.0</td>\n",
       "      <td>0.0</td>\n",
       "      <td>179.0</td>\n",
       "      <td>202.0</td>\n",
       "      <td>8.00</td>\n",
       "      <td>824.0</td>\n",
       "      <td>869.0</td>\n",
       "      <td>28</td>\n",
       "      <td>10.535193</td>\n",
       "    </tr>\n",
       "    <tr>\n",
       "      <th>...</th>\n",
       "      <td>...</td>\n",
       "      <td>...</td>\n",
       "      <td>...</td>\n",
       "      <td>...</td>\n",
       "      <td>...</td>\n",
       "      <td>...</td>\n",
       "      <td>...</td>\n",
       "      <td>...</td>\n",
       "      <td>...</td>\n",
       "    </tr>\n",
       "    <tr>\n",
       "      <th>482</th>\n",
       "      <td>446.0</td>\n",
       "      <td>24.0</td>\n",
       "      <td>79.0</td>\n",
       "      <td>162.0</td>\n",
       "      <td>11.64</td>\n",
       "      <td>967.0</td>\n",
       "      <td>712.0</td>\n",
       "      <td>56</td>\n",
       "      <td>56.144031</td>\n",
       "    </tr>\n",
       "    <tr>\n",
       "      <th>545</th>\n",
       "      <td>255.0</td>\n",
       "      <td>0.0</td>\n",
       "      <td>0.0</td>\n",
       "      <td>192.0</td>\n",
       "      <td>0.00</td>\n",
       "      <td>889.8</td>\n",
       "      <td>945.0</td>\n",
       "      <td>28</td>\n",
       "      <td>18.746163</td>\n",
       "    </tr>\n",
       "    <tr>\n",
       "      <th>110</th>\n",
       "      <td>286.3</td>\n",
       "      <td>200.9</td>\n",
       "      <td>0.0</td>\n",
       "      <td>144.7</td>\n",
       "      <td>11.20</td>\n",
       "      <td>1004.6</td>\n",
       "      <td>803.7</td>\n",
       "      <td>7</td>\n",
       "      <td>37.997022</td>\n",
       "    </tr>\n",
       "    <tr>\n",
       "      <th>514</th>\n",
       "      <td>424.0</td>\n",
       "      <td>22.0</td>\n",
       "      <td>132.0</td>\n",
       "      <td>168.0</td>\n",
       "      <td>8.92</td>\n",
       "      <td>822.0</td>\n",
       "      <td>750.0</td>\n",
       "      <td>56</td>\n",
       "      <td>74.364911</td>\n",
       "    </tr>\n",
       "    <tr>\n",
       "      <th>602</th>\n",
       "      <td>339.0</td>\n",
       "      <td>0.0</td>\n",
       "      <td>0.0</td>\n",
       "      <td>197.0</td>\n",
       "      <td>0.00</td>\n",
       "      <td>968.0</td>\n",
       "      <td>781.0</td>\n",
       "      <td>90</td>\n",
       "      <td>35.170171</td>\n",
       "    </tr>\n",
       "  </tbody>\n",
       "</table>\n",
       "<p>206 rows × 9 columns</p>\n",
       "</div>"
      ],
      "text/plain": [
       "     Cement (component 1)(kg in a m^3 mixture)  \\\n",
       "31                                       266.0   \n",
       "109                                      362.6   \n",
       "136                                      389.9   \n",
       "88                                       362.6   \n",
       "918                                      145.0   \n",
       "..                                         ...   \n",
       "482                                      446.0   \n",
       "545                                      255.0   \n",
       "110                                      286.3   \n",
       "514                                      424.0   \n",
       "602                                      339.0   \n",
       "\n",
       "     Blast Furnace Slag (component 2)(kg in a m^3 mixture)  \\\n",
       "31                                               114.0       \n",
       "109                                              189.0       \n",
       "136                                              189.0       \n",
       "88                                               189.0       \n",
       "918                                                0.0       \n",
       "..                                                 ...       \n",
       "482                                               24.0       \n",
       "545                                                0.0       \n",
       "110                                              200.9       \n",
       "514                                               22.0       \n",
       "602                                                0.0       \n",
       "\n",
       "     Fly Ash (component 3)(kg in a m^3 mixture)  \\\n",
       "31                                          0.0   \n",
       "109                                         0.0   \n",
       "136                                         0.0   \n",
       "88                                          0.0   \n",
       "918                                       179.0   \n",
       "..                                          ...   \n",
       "482                                        79.0   \n",
       "545                                         0.0   \n",
       "110                                         0.0   \n",
       "514                                       132.0   \n",
       "602                                         0.0   \n",
       "\n",
       "     Water  (component 4)(kg in a m^3 mixture)  \\\n",
       "31                                       228.0   \n",
       "109                                      164.9   \n",
       "136                                      145.9   \n",
       "88                                       164.9   \n",
       "918                                      202.0   \n",
       "..                                         ...   \n",
       "482                                      162.0   \n",
       "545                                      192.0   \n",
       "110                                      144.7   \n",
       "514                                      168.0   \n",
       "602                                      197.0   \n",
       "\n",
       "     Superplasticizer (component 5)(kg in a m^3 mixture)  \\\n",
       "31                                                0.00     \n",
       "109                                              11.60     \n",
       "136                                              22.00     \n",
       "88                                               11.60     \n",
       "918                                               8.00     \n",
       "..                                                 ...     \n",
       "482                                              11.64     \n",
       "545                                               0.00     \n",
       "110                                              11.20     \n",
       "514                                               8.92     \n",
       "602                                               0.00     \n",
       "\n",
       "     Coarse Aggregate  (component 6)(kg in a m^3 mixture)  \\\n",
       "31                                               932.0      \n",
       "109                                              944.7      \n",
       "136                                              944.7      \n",
       "88                                               944.7      \n",
       "918                                              824.0      \n",
       "..                                                 ...      \n",
       "482                                              967.0      \n",
       "545                                              889.8      \n",
       "110                                             1004.6      \n",
       "514                                              822.0      \n",
       "602                                              968.0      \n",
       "\n",
       "     Fine Aggregate (component 7)(kg in a m^3 mixture)  Age (day)  \\\n",
       "31                                               670.0        365   \n",
       "109                                              755.8          7   \n",
       "136                                              755.8         28   \n",
       "88                                               755.8          3   \n",
       "918                                              869.0         28   \n",
       "..                                                 ...        ...   \n",
       "482                                              712.0         56   \n",
       "545                                              945.0         28   \n",
       "110                                              803.7          7   \n",
       "514                                              750.0         56   \n",
       "602                                              781.0         90   \n",
       "\n",
       "     Concrete compressive strength(MPa, megapascals)   \n",
       "31                                          52.908320  \n",
       "109                                         55.895819  \n",
       "136                                         74.497882  \n",
       "88                                          35.301171  \n",
       "918                                         10.535193  \n",
       "..                                                ...  \n",
       "482                                         56.144031  \n",
       "545                                         18.746163  \n",
       "110                                         37.997022  \n",
       "514                                         74.364911  \n",
       "602                                         35.170171  \n",
       "\n",
       "[206 rows x 9 columns]"
      ]
     },
     "execution_count": 170,
     "metadata": {},
     "output_type": "execute_result"
    }
   ],
   "source": [
    "test_set"
   ]
  },
  {
   "cell_type": "code",
   "execution_count": 119,
   "metadata": {},
   "outputs": [
    {
     "data": {
      "text/plain": [
       "0"
      ]
     },
     "execution_count": 119,
     "metadata": {},
     "output_type": "execute_result"
    }
   ],
   "source": [
    "concrete_label.isnull().sum()"
   ]
  },
  {
   "cell_type": "code",
   "execution_count": 117,
   "metadata": {},
   "outputs": [
    {
     "name": "stdout",
     "output_type": "stream",
     "text": [
      "<class 'pandas.core.frame.DataFrame'>\n",
      "Int64Index: 824 entries, 995 to 860\n",
      "Data columns (total 8 columns):\n",
      " #   Column        Non-Null Count  Dtype  \n",
      "---  ------        --------------  -----  \n",
      " 0   cement        824 non-null    float64\n",
      " 1   slag          824 non-null    float64\n",
      " 2   ash           824 non-null    float64\n",
      " 3   water         824 non-null    float64\n",
      " 4   superplastic  824 non-null    float64\n",
      " 5   coarseagg     824 non-null    float64\n",
      " 6   fineagg       824 non-null    float64\n",
      " 7   age           824 non-null    int64  \n",
      "dtypes: float64(7), int64(1)\n",
      "memory usage: 57.9 KB\n"
     ]
    }
   ],
   "source": [
    "concrete.info()"
   ]
  },
  {
   "cell_type": "code",
   "execution_count": 130,
   "metadata": {},
   "outputs": [],
   "source": [
    "from sklearn.base import BaseEstimator, TransformerMixin\n",
    "def zscore_standize(arr):\n",
    "    return (arr - arr.mean())/arr.std()\n",
    "\n",
    "class Attribution(BaseEstimator, TransformerMixin):\n",
    "    def fit(self, X):\n",
    "        return self  # 아무것도 하지 않습니다\n",
    "    def transform(self, X):\n",
    "        X=X[X[\"slag\"]<350]\n",
    "        X=X[(X[\"water\"]<246) & (X[\"water\"]>122)]\n",
    "        X=X[X[\"superplastic\"]<25]\n",
    "        X=X[X[\"fineagg\"]<992]\n",
    "        X=X[X[\"age\"]<150]\n",
    "        X.iloc[:,:-1] = X.iloc[:,:-1].apply(zscore_standize)\n",
    "        return X"
   ]
  },
  {
   "cell_type": "code",
   "execution_count": 176,
   "metadata": {},
   "outputs": [],
   "source": [
    "#수치형 특성 전처리\n",
    "from sklearn.pipeline import Pipeline\n",
    "from sklearn.preprocessing import StandardScaler\n",
    "\n",
    "num_pipeline = Pipeline([\n",
    "        ('attribs', Attribution())\n",
    "    ])"
   ]
  },
  {
   "cell_type": "code",
   "execution_count": 132,
   "metadata": {
    "scrolled": true
   },
   "outputs": [],
   "source": [
    "concrete = num_pipeline.transform(concrete)"
   ]
  },
  {
   "cell_type": "code",
   "execution_count": 135,
   "metadata": {},
   "outputs": [],
   "source": [
    "from sklearn.model_selection import train_test_split\n",
    "\n",
    "train_set, test_set = train_test_split(concrete, test_size=0.2, random_state=42)"
   ]
  },
  {
   "cell_type": "code",
   "execution_count": 138,
   "metadata": {},
   "outputs": [],
   "source": [
    "concrete_prepared = train_set.drop(\"strength\", axis=1)\n",
    "concrete_label = train_set['strength']"
   ]
  },
  {
   "cell_type": "code",
   "execution_count": 142,
   "metadata": {},
   "outputs": [
    {
     "data": {
      "text/plain": [
       "LinearRegression()"
      ]
     },
     "execution_count": 142,
     "metadata": {},
     "output_type": "execute_result"
    }
   ],
   "source": [
    "from sklearn.linear_model import LinearRegression\n",
    "\n",
    "lin_reg = LinearRegression()\n",
    "lin_reg.fit(concrete_prepared, concrete_label)"
   ]
  },
  {
   "cell_type": "code",
   "execution_count": 143,
   "metadata": {},
   "outputs": [
    {
     "data": {
      "text/plain": [
       "8.09130880500962"
      ]
     },
     "execution_count": 143,
     "metadata": {},
     "output_type": "execute_result"
    }
   ],
   "source": [
    "from sklearn.metrics import mean_squared_error\n",
    "\n",
    "concrete_predictions = lin_reg.predict(concrete_prepared) #선형 회귀모델에 적용\n",
    "lin_rmse = mean_squared_error(concrete_label, concrete_predictions, squared=False) #squared모델을 적용 MSE 모델임 #기본 디폴트가 제곱이라 false하면 제곱근을 굳이 안 구해도 된다.\n",
    "lin_rmse #mse에서 squared를 해줘서 작게나옴"
   ]
  },
  {
   "cell_type": "code",
   "execution_count": 145,
   "metadata": {},
   "outputs": [],
   "source": [
    "from sklearn.tree import DecisionTreeRegressor #트리 회귀 모델\n",
    "\n",
    "tree_reg = DecisionTreeRegressor(random_state=42)\n",
    "tree_reg.fit(concrete_prepared, concrete_label) #treereg에 훈련데이터 정답데이터 넣기\n",
    "concrete_predictions = tree_reg.predict(concrete_prepared)\n",
    "\n",
    "tree_rmse = mean_squared_error(concrete_label, concrete_predictions, squared=False)\n",
    "tree_rmse"
   ]
  },
  {
   "cell_type": "code",
   "execution_count": 146,
   "metadata": {
    "scrolled": true
   },
   "outputs": [
    {
     "data": {
      "text/plain": [
       "1.0029987120513704"
      ]
     },
     "execution_count": 146,
     "metadata": {},
     "output_type": "execute_result"
    }
   ],
   "source": [
    "tree_rmse = mean_squared_error(concrete_label, concrete_predictions, squared=False)\n",
    "tree_rmse"
   ]
  },
  {
   "cell_type": "code",
   "execution_count": 211,
   "metadata": {},
   "outputs": [
    {
     "data": {
      "text/plain": [
       "8.222162343301504"
      ]
     },
     "execution_count": 211,
     "metadata": {},
     "output_type": "execute_result"
    }
   ],
   "source": [
    "from sklearn.model_selection import cross_val_score\n",
    "import numpy as np\n",
    "\n",
    "scores = cross_val_score(lin_reg, concrete_prepared, concrete_label, scoring='neg_mean_squared_error', cv=10)\n",
    "\n",
    "tree_rmse_score = np.sqrt(-scores)\n",
    "tree_rmse_score.mean()"
   ]
  },
  {
   "cell_type": "code",
   "execution_count": 212,
   "metadata": {},
   "outputs": [
    {
     "data": {
      "text/plain": [
       "7.146383118947803"
      ]
     },
     "execution_count": 212,
     "metadata": {},
     "output_type": "execute_result"
    }
   ],
   "source": [
    "scores = cross_val_score(tree_reg, concrete_prepared, concrete_label, scoring='neg_mean_squared_error', cv=10)\n",
    "\n",
    "tree_rmse_score = np.sqrt(-scores)\n",
    "tree_rmse_score.mean()"
   ]
  },
  {
   "cell_type": "code",
   "execution_count": 213,
   "metadata": {},
   "outputs": [
    {
     "data": {
      "text/plain": [
       "5.251850041563137"
      ]
     },
     "execution_count": 213,
     "metadata": {},
     "output_type": "execute_result"
    }
   ],
   "source": [
    "scores = cross_val_score(forest_reg, concrete_prepared, concrete_label, scoring='neg_mean_squared_error', cv=10)\n",
    "\n",
    "tree_rmse_score = np.sqrt(-scores)\n",
    "tree_rmse_score.mean()"
   ]
  },
  {
   "cell_type": "code",
   "execution_count": 199,
   "metadata": {},
   "outputs": [],
   "source": [
    "from sklearn.tree import DecisionTreeClassifier\n",
    " , cross_validate\n",
    "from sklearn.datasets import load_iris\n",
    "\n",
    "\n",
    "iris = load_iris()\n",
    "dt_clf = DecisionTreeClassifier(random_state=42)"
   ]
  },
  {
   "cell_type": "code",
   "execution_count": 210,
   "metadata": {},
   "outputs": [],
   "source": [
    "from sklearn.model_selection import cross_val_score"
   ]
  },
  {
   "cell_type": "code",
   "execution_count": 155,
   "metadata": {},
   "outputs": [],
   "source": [
    "from sklearn.model_selection import GridSearchCV\n",
    "from sklearn.ensemble import RandomForestRegressor\n",
    "\n",
    "param_grid = [\n",
    "    {'n_estimators' : [50, 100, 200], 'max_features' : [2, 4, 6, 8]} # 12개\n",
    "] "
   ]
  },
  {
   "cell_type": "code",
   "execution_count": 156,
   "metadata": {},
   "outputs": [],
   "source": [
    "forest_reg = RandomForestRegressor(random_state=42)\n",
    "grid_search = GridSearchCV(forest_reg, param_grid, scoring='neg_mean_squared_error', cv=5,\n",
    "                           return_train_score=True, n_jobs = -1) # 검사할 하이퍼 파라미터 (12 + 6) * 5"
   ]
  },
  {
   "cell_type": "code",
   "execution_count": 214,
   "metadata": {},
   "outputs": [
    {
     "data": {
      "text/plain": [
       "{'max_features': 4, 'n_estimators': 100}"
      ]
     },
     "execution_count": 214,
     "metadata": {},
     "output_type": "execute_result"
    }
   ],
   "source": [
    "grid_search.best_params_"
   ]
  },
  {
   "cell_type": "code",
   "execution_count": 157,
   "metadata": {
    "scrolled": false
   },
   "outputs": [
    {
     "name": "stdout",
     "output_type": "stream",
     "text": [
      "Wall time: 8.55 s\n"
     ]
    },
    {
     "data": {
      "text/plain": [
       "GridSearchCV(cv=5, estimator=RandomForestRegressor(random_state=42), n_jobs=-1,\n",
       "             param_grid=[{'max_features': [2, 4, 6, 8],\n",
       "                          'n_estimators': [50, 100, 200]}],\n",
       "             return_train_score=True, scoring='neg_mean_squared_error')"
      ]
     },
     "execution_count": 157,
     "metadata": {},
     "output_type": "execute_result"
    }
   ],
   "source": [
    "%time grid_search.fit(concrete_prepared, concrete_label)"
   ]
  },
  {
   "cell_type": "code",
   "execution_count": 190,
   "metadata": {
    "scrolled": true
   },
   "outputs": [
    {
     "data": {
      "text/plain": [
       "GridSearchCV(cv=5, estimator=RandomForestRegressor(random_state=42), n_jobs=-1,\n",
       "             param_grid=[{'max_features': [2, 4, 6, 8],\n",
       "                          'n_estimators': [50, 100, 200]}],\n",
       "             return_train_score=True, scoring='neg_mean_squared_error')"
      ]
     },
     "execution_count": 190,
     "metadata": {},
     "output_type": "execute_result"
    }
   ],
   "source": [
    "grid_search.fit(concrete_prepared, concrete_label)"
   ]
  },
  {
   "cell_type": "code",
   "execution_count": 173,
   "metadata": {},
   "outputs": [],
   "source": [
    "final_model = grid_search.best_estimator_\n",
    "\n",
    "test_set = num_pipeline.transform(test_set)\n",
    "\n",
    "X_test = test_set.drop('strength', axis=1)\n",
    "y_test = test_set['strength'].copy()\n",
    "\n",
    "final_predictions = final_model.predict(X_test)\n",
    "\n",
    "final_predictions\n",
    "\n",
    "rmse = mean_squared_error(y_test, final_predictions, squared=False)\n",
    "rmse\n",
    "\n",
    "from sklearn.metrics import r2_score\n",
    "r2_score(y_test, final_predictions)"
   ]
  },
  {
   "cell_type": "code",
   "execution_count": 183,
   "metadata": {},
   "outputs": [],
   "source": [
    "test_set = num_pipeline.transform(test_set)"
   ]
  },
  {
   "cell_type": "code",
   "execution_count": 185,
   "metadata": {},
   "outputs": [],
   "source": [
    "X_test = test_set.drop('strength', axis=1)\n",
    "y_test = test_set['strength'].copy()"
   ]
  },
  {
   "cell_type": "code",
   "execution_count": 186,
   "metadata": {},
   "outputs": [],
   "source": [
    "final_predictions = final_model.predict(X_test)"
   ]
  },
  {
   "cell_type": "code",
   "execution_count": 187,
   "metadata": {
    "collapsed": true
   },
   "outputs": [
    {
     "data": {
      "text/plain": [
       "array([44.524116  , 72.18717193, 35.08582322, 13.38676259, 43.83863141,\n",
       "       29.06896316, 52.96037525, 34.0447184 , 44.09760253, 35.17877542,\n",
       "       14.45249254, 32.55176154, 29.24379359, 22.86089368, 33.5876096 ,\n",
       "       19.66080311, 41.149348  , 29.01749772, 37.17245733, 33.72647007,\n",
       "       47.5919654 , 10.11859809, 31.51198741, 43.86377364, 11.64136198,\n",
       "       45.03981975, 49.18439099, 17.65497067, 49.32432802, 37.01100963,\n",
       "       48.67013152, 58.40461564, 15.45447452, 41.56049633, 33.31237768,\n",
       "       42.79624416, 12.10945315, 45.08811952, 16.44135501,  5.60450909,\n",
       "       38.67856939, 51.90322731, 12.27841614, 66.73882719, 55.25667209,\n",
       "       26.12163942,  6.86327163, 55.21765762, 45.79639162, 28.67880248,\n",
       "       16.1208452 , 51.73173099, 34.64452411, 28.6562773 , 12.64146662,\n",
       "       39.33936318, 21.73273857, 41.88881101, 14.61919897, 38.29833027,\n",
       "       47.55886103, 33.22650344, 17.65799057, 34.48614852, 15.81990271,\n",
       "       30.68513627, 26.20677592, 11.45340491, 29.31258261, 10.2474385 ,\n",
       "       35.17877542, 27.46270471, 11.55910454, 58.6012542 , 61.18199931,\n",
       "       12.3022592 , 41.96562488, 37.3732879 , 39.46990168, 35.08582322,\n",
       "       33.05161785, 37.51036262, 27.01082214, 23.76559651, 36.9039409 ,\n",
       "       72.79910815, 14.99354209, 56.2641305 , 49.30574566, 26.29358095,\n",
       "       33.4651104 , 23.40497692, 34.98838352, 28.34090113, 43.7376409 ,\n",
       "       27.38129139, 11.66986393, 48.66610498, 34.2960393 , 35.76394749,\n",
       "       50.4325425 , 49.40890604, 27.53767833, 38.58893061, 38.3830255 ,\n",
       "       62.90753021, 20.84303283, 31.78412654, 55.67555341, 49.16894673,\n",
       "       21.7699358 , 29.65555555, 46.7651576 , 34.62147886, 24.45867847,\n",
       "       48.34642944, 52.13785796, 47.7978252 , 42.37876645, 36.48739397,\n",
       "       12.76659272, 39.96718657, 16.39522217, 69.05007879,  9.06526985,\n",
       "       32.5187908 , 40.97990829, 23.59000076, 30.85370626, 31.43784412,\n",
       "       34.36444911, 16.5040077 , 33.17968113, 50.3125392 , 43.52095928,\n",
       "       29.3289094 , 15.87266142,  7.08337995, 19.58184235, 44.5806701 ,\n",
       "       15.42115806, 42.14890927, 27.25993672, 46.30948291, 39.63881936,\n",
       "       29.74155389, 44.524116  , 48.06833619, 14.59496291, 35.54848624,\n",
       "       34.28033303, 61.63881919, 43.01891733, 27.28328927, 47.36935363,\n",
       "       24.64315565, 48.32928217, 14.37354754, 26.98483579, 38.46776899,\n",
       "       36.3930116 , 12.08550765, 29.92991184, 55.82947104, 48.04966518,\n",
       "       30.84910056, 31.25795294, 50.4325425 , 47.47325635, 23.16522839,\n",
       "       36.54164195, 32.22488491, 16.392023  , 33.02343799, 39.25348796,\n",
       "       42.12284674, 41.42782834, 30.36569515, 55.00232737, 15.59198953,\n",
       "       25.26717181, 28.174568  , 42.98164656, 62.90753021, 20.97667988,\n",
       "       37.37558451, 68.46365976, 37.66255755])"
      ]
     },
     "execution_count": 187,
     "metadata": {},
     "output_type": "execute_result"
    }
   ],
   "source": [
    "final_predictions"
   ]
  },
  {
   "cell_type": "code",
   "execution_count": 188,
   "metadata": {
    "scrolled": true
   },
   "outputs": [
    {
     "data": {
      "text/plain": [
       "4.435743189720578"
      ]
     },
     "execution_count": 188,
     "metadata": {},
     "output_type": "execute_result"
    }
   ],
   "source": [
    "rmse = mean_squared_error(y_test, final_predictions, squared=False)\n",
    "rmse"
   ]
  },
  {
   "cell_type": "code",
   "execution_count": 204,
   "metadata": {},
   "outputs": [
    {
     "data": {
      "text/plain": [
       "0.9230253078030737"
      ]
     },
     "execution_count": 204,
     "metadata": {},
     "output_type": "execute_result"
    }
   ],
   "source": [
    "from sklearn.metrics import r2_score\n",
    "r2_score(y_test, final_predictions)"
   ]
  },
  {
   "cell_type": "code",
   "execution_count": 216,
   "metadata": {
    "scrolled": true
   },
   "outputs": [
    {
     "name": "stdout",
     "output_type": "stream",
     "text": [
      "5.839783481466759 {'max_features': 2, 'n_estimators': 50}\n",
      "5.821983954955314 {'max_features': 2, 'n_estimators': 100}\n",
      "5.737875992943844 {'max_features': 2, 'n_estimators': 200}\n",
      "5.4746480722423785 {'max_features': 4, 'n_estimators': 50}\n",
      "5.440077595004141 {'max_features': 4, 'n_estimators': 100}\n",
      "5.458108725442311 {'max_features': 4, 'n_estimators': 200}\n",
      "5.497559598489638 {'max_features': 6, 'n_estimators': 50}\n",
      "5.454740231274051 {'max_features': 6, 'n_estimators': 100}\n",
      "5.475443886893608 {'max_features': 6, 'n_estimators': 200}\n",
      "5.576067517396073 {'max_features': 8, 'n_estimators': 50}\n",
      "5.5397699801045235 {'max_features': 8, 'n_estimators': 100}\n",
      "5.536672496460619 {'max_features': 8, 'n_estimators': 200}\n"
     ]
    }
   ],
   "source": [
    "cvres = grid_search.cv_results_\n",
    "\n",
    "for mean_score, params in zip(cvres['mean_test_score'], cvres['params']):\n",
    "    print(np.sqrt(-mean_score), params)"
   ]
  },
  {
   "cell_type": "code",
   "execution_count": 184,
   "metadata": {
    "collapsed": true
   },
   "outputs": [
    {
     "data": {
      "text/html": [
       "<div>\n",
       "<style scoped>\n",
       "    .dataframe tbody tr th:only-of-type {\n",
       "        vertical-align: middle;\n",
       "    }\n",
       "\n",
       "    .dataframe tbody tr th {\n",
       "        vertical-align: top;\n",
       "    }\n",
       "\n",
       "    .dataframe thead th {\n",
       "        text-align: right;\n",
       "    }\n",
       "</style>\n",
       "<table border=\"1\" class=\"dataframe\">\n",
       "  <thead>\n",
       "    <tr style=\"text-align: right;\">\n",
       "      <th></th>\n",
       "      <th>cement</th>\n",
       "      <th>slag</th>\n",
       "      <th>ash</th>\n",
       "      <th>water</th>\n",
       "      <th>superplastic</th>\n",
       "      <th>coarseagg</th>\n",
       "      <th>fineagg</th>\n",
       "      <th>age</th>\n",
       "      <th>strength</th>\n",
       "    </tr>\n",
       "  </thead>\n",
       "  <tbody>\n",
       "    <tr>\n",
       "      <th>109</th>\n",
       "      <td>1.069829</td>\n",
       "      <td>1.427730</td>\n",
       "      <td>-0.994244</td>\n",
       "      <td>-0.734477</td>\n",
       "      <td>0.968177</td>\n",
       "      <td>-0.371488</td>\n",
       "      <td>-0.389030</td>\n",
       "      <td>-0.858209</td>\n",
       "      <td>55.895819</td>\n",
       "    </tr>\n",
       "    <tr>\n",
       "      <th>136</th>\n",
       "      <td>1.378572</td>\n",
       "      <td>1.427730</td>\n",
       "      <td>-0.994244</td>\n",
       "      <td>-1.729110</td>\n",
       "      <td>2.946041</td>\n",
       "      <td>-0.371488</td>\n",
       "      <td>-0.389030</td>\n",
       "      <td>-0.126098</td>\n",
       "      <td>74.497882</td>\n",
       "    </tr>\n",
       "    <tr>\n",
       "      <th>88</th>\n",
       "      <td>1.069829</td>\n",
       "      <td>1.427730</td>\n",
       "      <td>-0.994244</td>\n",
       "      <td>-0.734477</td>\n",
       "      <td>0.968177</td>\n",
       "      <td>-0.371488</td>\n",
       "      <td>-0.389030</td>\n",
       "      <td>-0.997658</td>\n",
       "      <td>35.301171</td>\n",
       "    </tr>\n",
       "    <tr>\n",
       "      <th>918</th>\n",
       "      <td>-1.391075</td>\n",
       "      <td>-0.834280</td>\n",
       "      <td>1.791812</td>\n",
       "      <td>1.207674</td>\n",
       "      <td>0.283532</td>\n",
       "      <td>-1.995836</td>\n",
       "      <td>1.197846</td>\n",
       "      <td>-0.126098</td>\n",
       "      <td>10.535193</td>\n",
       "    </tr>\n",
       "    <tr>\n",
       "      <th>1025</th>\n",
       "      <td>0.094967</td>\n",
       "      <td>0.554044</td>\n",
       "      <td>0.411236</td>\n",
       "      <td>0.035054</td>\n",
       "      <td>0.454693</td>\n",
       "      <td>-1.375434</td>\n",
       "      <td>-0.213801</td>\n",
       "      <td>-0.126098</td>\n",
       "      <td>44.284354</td>\n",
       "    </tr>\n",
       "    <tr>\n",
       "      <th>...</th>\n",
       "      <td>...</td>\n",
       "      <td>...</td>\n",
       "      <td>...</td>\n",
       "      <td>...</td>\n",
       "      <td>...</td>\n",
       "      <td>...</td>\n",
       "      <td>...</td>\n",
       "      <td>...</td>\n",
       "      <td>...</td>\n",
       "    </tr>\n",
       "    <tr>\n",
       "      <th>482</th>\n",
       "      <td>2.013024</td>\n",
       "      <td>-0.547041</td>\n",
       "      <td>0.235356</td>\n",
       "      <td>-0.886290</td>\n",
       "      <td>0.975784</td>\n",
       "      <td>-0.071381</td>\n",
       "      <td>-1.003033</td>\n",
       "      <td>0.850049</td>\n",
       "      <td>56.144031</td>\n",
       "    </tr>\n",
       "    <tr>\n",
       "      <th>545</th>\n",
       "      <td>-0.147052</td>\n",
       "      <td>-0.834280</td>\n",
       "      <td>-0.994244</td>\n",
       "      <td>0.684183</td>\n",
       "      <td>-1.237902</td>\n",
       "      <td>-1.110317</td>\n",
       "      <td>2.263240</td>\n",
       "      <td>-0.126098</td>\n",
       "      <td>18.746163</td>\n",
       "    </tr>\n",
       "    <tr>\n",
       "      <th>110</th>\n",
       "      <td>0.206929</td>\n",
       "      <td>1.570153</td>\n",
       "      <td>-0.994244</td>\n",
       "      <td>-1.791929</td>\n",
       "      <td>0.892106</td>\n",
       "      <td>0.434629</td>\n",
       "      <td>0.282449</td>\n",
       "      <td>-0.858209</td>\n",
       "      <td>37.997022</td>\n",
       "    </tr>\n",
       "    <tr>\n",
       "      <th>514</th>\n",
       "      <td>1.764220</td>\n",
       "      <td>-0.570978</td>\n",
       "      <td>1.060278</td>\n",
       "      <td>-0.572195</td>\n",
       "      <td>0.458497</td>\n",
       "      <td>-2.022751</td>\n",
       "      <td>-0.470336</td>\n",
       "      <td>0.850049</td>\n",
       "      <td>74.364911</td>\n",
       "    </tr>\n",
       "    <tr>\n",
       "      <th>602</th>\n",
       "      <td>0.802929</td>\n",
       "      <td>-0.834280</td>\n",
       "      <td>-0.994244</td>\n",
       "      <td>0.945929</td>\n",
       "      <td>-1.237902</td>\n",
       "      <td>-0.057923</td>\n",
       "      <td>-0.035768</td>\n",
       "      <td>2.035371</td>\n",
       "      <td>35.170171</td>\n",
       "    </tr>\n",
       "  </tbody>\n",
       "</table>\n",
       "<p>188 rows × 9 columns</p>\n",
       "</div>"
      ],
      "text/plain": [
       "        cement      slag       ash     water  superplastic  coarseagg  \\\n",
       "109   1.069829  1.427730 -0.994244 -0.734477      0.968177  -0.371488   \n",
       "136   1.378572  1.427730 -0.994244 -1.729110      2.946041  -0.371488   \n",
       "88    1.069829  1.427730 -0.994244 -0.734477      0.968177  -0.371488   \n",
       "918  -1.391075 -0.834280  1.791812  1.207674      0.283532  -1.995836   \n",
       "1025  0.094967  0.554044  0.411236  0.035054      0.454693  -1.375434   \n",
       "...        ...       ...       ...       ...           ...        ...   \n",
       "482   2.013024 -0.547041  0.235356 -0.886290      0.975784  -0.071381   \n",
       "545  -0.147052 -0.834280 -0.994244  0.684183     -1.237902  -1.110317   \n",
       "110   0.206929  1.570153 -0.994244 -1.791929      0.892106   0.434629   \n",
       "514   1.764220 -0.570978  1.060278 -0.572195      0.458497  -2.022751   \n",
       "602   0.802929 -0.834280 -0.994244  0.945929     -1.237902  -0.057923   \n",
       "\n",
       "       fineagg       age   strength  \n",
       "109  -0.389030 -0.858209  55.895819  \n",
       "136  -0.389030 -0.126098  74.497882  \n",
       "88   -0.389030 -0.997658  35.301171  \n",
       "918   1.197846 -0.126098  10.535193  \n",
       "1025 -0.213801 -0.126098  44.284354  \n",
       "...        ...       ...        ...  \n",
       "482  -1.003033  0.850049  56.144031  \n",
       "545   2.263240 -0.126098  18.746163  \n",
       "110   0.282449 -0.858209  37.997022  \n",
       "514  -0.470336  0.850049  74.364911  \n",
       "602  -0.035768  2.035371  35.170171  \n",
       "\n",
       "[188 rows x 9 columns]"
      ]
     },
     "execution_count": 184,
     "metadata": {},
     "output_type": "execute_result"
    }
   ],
   "source": [
    "test_set"
   ]
  },
  {
   "cell_type": "code",
   "execution_count": 272,
   "metadata": {
    "scrolled": true
   },
   "outputs": [
    {
     "data": {
      "text/html": [
       "<div>\n",
       "<style scoped>\n",
       "    .dataframe tbody tr th:only-of-type {\n",
       "        vertical-align: middle;\n",
       "    }\n",
       "\n",
       "    .dataframe tbody tr th {\n",
       "        vertical-align: top;\n",
       "    }\n",
       "\n",
       "    .dataframe thead th {\n",
       "        text-align: right;\n",
       "    }\n",
       "</style>\n",
       "<table border=\"1\" class=\"dataframe\">\n",
       "  <thead>\n",
       "    <tr style=\"text-align: right;\">\n",
       "      <th></th>\n",
       "      <th>cement</th>\n",
       "      <th>slag</th>\n",
       "      <th>ash</th>\n",
       "      <th>water</th>\n",
       "      <th>superplastic</th>\n",
       "      <th>coarseagg</th>\n",
       "      <th>fineagg</th>\n",
       "      <th>age</th>\n",
       "      <th>strength</th>\n",
       "    </tr>\n",
       "  </thead>\n",
       "  <tbody>\n",
       "    <tr>\n",
       "      <th>0</th>\n",
       "      <td>540.0</td>\n",
       "      <td>0.0</td>\n",
       "      <td>0.0</td>\n",
       "      <td>162.0</td>\n",
       "      <td>2.5</td>\n",
       "      <td>1040.0</td>\n",
       "      <td>676.0</td>\n",
       "      <td>28</td>\n",
       "      <td>79.986111</td>\n",
       "    </tr>\n",
       "    <tr>\n",
       "      <th>1</th>\n",
       "      <td>540.0</td>\n",
       "      <td>0.0</td>\n",
       "      <td>0.0</td>\n",
       "      <td>162.0</td>\n",
       "      <td>2.5</td>\n",
       "      <td>1055.0</td>\n",
       "      <td>676.0</td>\n",
       "      <td>28</td>\n",
       "      <td>61.887366</td>\n",
       "    </tr>\n",
       "    <tr>\n",
       "      <th>2</th>\n",
       "      <td>332.5</td>\n",
       "      <td>142.5</td>\n",
       "      <td>0.0</td>\n",
       "      <td>228.0</td>\n",
       "      <td>0.0</td>\n",
       "      <td>932.0</td>\n",
       "      <td>594.0</td>\n",
       "      <td>270</td>\n",
       "      <td>40.269535</td>\n",
       "    </tr>\n",
       "    <tr>\n",
       "      <th>3</th>\n",
       "      <td>332.5</td>\n",
       "      <td>142.5</td>\n",
       "      <td>0.0</td>\n",
       "      <td>228.0</td>\n",
       "      <td>0.0</td>\n",
       "      <td>932.0</td>\n",
       "      <td>594.0</td>\n",
       "      <td>365</td>\n",
       "      <td>41.052780</td>\n",
       "    </tr>\n",
       "    <tr>\n",
       "      <th>4</th>\n",
       "      <td>198.6</td>\n",
       "      <td>132.4</td>\n",
       "      <td>0.0</td>\n",
       "      <td>192.0</td>\n",
       "      <td>0.0</td>\n",
       "      <td>978.4</td>\n",
       "      <td>825.5</td>\n",
       "      <td>360</td>\n",
       "      <td>44.296075</td>\n",
       "    </tr>\n",
       "    <tr>\n",
       "      <th>...</th>\n",
       "      <td>...</td>\n",
       "      <td>...</td>\n",
       "      <td>...</td>\n",
       "      <td>...</td>\n",
       "      <td>...</td>\n",
       "      <td>...</td>\n",
       "      <td>...</td>\n",
       "      <td>...</td>\n",
       "      <td>...</td>\n",
       "    </tr>\n",
       "    <tr>\n",
       "      <th>1025</th>\n",
       "      <td>276.4</td>\n",
       "      <td>116.0</td>\n",
       "      <td>90.3</td>\n",
       "      <td>179.6</td>\n",
       "      <td>8.9</td>\n",
       "      <td>870.1</td>\n",
       "      <td>768.3</td>\n",
       "      <td>28</td>\n",
       "      <td>44.284354</td>\n",
       "    </tr>\n",
       "    <tr>\n",
       "      <th>1026</th>\n",
       "      <td>322.2</td>\n",
       "      <td>0.0</td>\n",
       "      <td>115.6</td>\n",
       "      <td>196.0</td>\n",
       "      <td>10.4</td>\n",
       "      <td>817.9</td>\n",
       "      <td>813.4</td>\n",
       "      <td>28</td>\n",
       "      <td>31.178794</td>\n",
       "    </tr>\n",
       "    <tr>\n",
       "      <th>1027</th>\n",
       "      <td>148.5</td>\n",
       "      <td>139.4</td>\n",
       "      <td>108.6</td>\n",
       "      <td>192.7</td>\n",
       "      <td>6.1</td>\n",
       "      <td>892.4</td>\n",
       "      <td>780.0</td>\n",
       "      <td>28</td>\n",
       "      <td>23.696601</td>\n",
       "    </tr>\n",
       "    <tr>\n",
       "      <th>1028</th>\n",
       "      <td>159.1</td>\n",
       "      <td>186.7</td>\n",
       "      <td>0.0</td>\n",
       "      <td>175.6</td>\n",
       "      <td>11.3</td>\n",
       "      <td>989.6</td>\n",
       "      <td>788.9</td>\n",
       "      <td>28</td>\n",
       "      <td>32.768036</td>\n",
       "    </tr>\n",
       "    <tr>\n",
       "      <th>1029</th>\n",
       "      <td>260.9</td>\n",
       "      <td>100.5</td>\n",
       "      <td>78.3</td>\n",
       "      <td>200.6</td>\n",
       "      <td>8.6</td>\n",
       "      <td>864.5</td>\n",
       "      <td>761.5</td>\n",
       "      <td>28</td>\n",
       "      <td>32.401235</td>\n",
       "    </tr>\n",
       "  </tbody>\n",
       "</table>\n",
       "<p>1030 rows × 9 columns</p>\n",
       "</div>"
      ],
      "text/plain": [
       "      cement   slag    ash  water  superplastic  coarseagg  fineagg  age  \\\n",
       "0      540.0    0.0    0.0  162.0           2.5     1040.0    676.0   28   \n",
       "1      540.0    0.0    0.0  162.0           2.5     1055.0    676.0   28   \n",
       "2      332.5  142.5    0.0  228.0           0.0      932.0    594.0  270   \n",
       "3      332.5  142.5    0.0  228.0           0.0      932.0    594.0  365   \n",
       "4      198.6  132.4    0.0  192.0           0.0      978.4    825.5  360   \n",
       "...      ...    ...    ...    ...           ...        ...      ...  ...   \n",
       "1025   276.4  116.0   90.3  179.6           8.9      870.1    768.3   28   \n",
       "1026   322.2    0.0  115.6  196.0          10.4      817.9    813.4   28   \n",
       "1027   148.5  139.4  108.6  192.7           6.1      892.4    780.0   28   \n",
       "1028   159.1  186.7    0.0  175.6          11.3      989.6    788.9   28   \n",
       "1029   260.9  100.5   78.3  200.6           8.6      864.5    761.5   28   \n",
       "\n",
       "       strength  \n",
       "0     79.986111  \n",
       "1     61.887366  \n",
       "2     40.269535  \n",
       "3     41.052780  \n",
       "4     44.296075  \n",
       "...         ...  \n",
       "1025  44.284354  \n",
       "1026  31.178794  \n",
       "1027  23.696601  \n",
       "1028  32.768036  \n",
       "1029  32.401235  \n",
       "\n",
       "[1030 rows x 9 columns]"
      ]
     },
     "execution_count": 272,
     "metadata": {},
     "output_type": "execute_result"
    }
   ],
   "source": [
    "import pandas as pd\n",
    "concrete = pd.read_excel('datasets/Concrete_Data.xls')\n",
    "concrete.columns = ['cement', 'slag', 'ash', 'water', 'superplastic', 'coarseagg', 'fineagg', 'age', 'strength']\n",
    "concrete"
   ]
  },
  {
   "cell_type": "code",
   "execution_count": 273,
   "metadata": {},
   "outputs": [],
   "source": [
    "from sklearn.base import BaseEstimator, TransformerMixin\n",
    "def minmax_normalize(arr):\n",
    "    return (arr-arr.min())/(arr.max()-arr.min())\n",
    "\n",
    "class Attribution_mm(BaseEstimator, TransformerMixin):\n",
    "    def fit(self, X):\n",
    "        return self  # 아무것도 하지 않습니다\n",
    "    def transform(self, X):\n",
    "        X=X[X[\"slag\"]<350]\n",
    "        X=X[(X[\"water\"]<246) & (X[\"water\"]>122)]\n",
    "        X=X[X[\"superplastic\"]<25]\n",
    "        X=X[X[\"fineagg\"]<992]\n",
    "        X=X[X[\"age\"]<150]\n",
    "        X.iloc[:,:-1] = X.iloc[:,:-1].apply(minmax_normalize)\n",
    "        return X"
   ]
  },
  {
   "cell_type": "code",
   "execution_count": 274,
   "metadata": {},
   "outputs": [],
   "source": [
    "#수치형 특성 전처리\n",
    "from sklearn.pipeline import Pipeline\n",
    "from sklearn.preprocessing import StandardScaler\n",
    "\n",
    "num_pipeline = Pipeline([\n",
    "        ('attribs', Attribution())\n",
    "    ])"
   ]
  },
  {
   "cell_type": "code",
   "execution_count": 275,
   "metadata": {},
   "outputs": [],
   "source": [
    "concrete = num_pipeline.transform(concrete)"
   ]
  },
  {
   "cell_type": "code",
   "execution_count": 276,
   "metadata": {},
   "outputs": [],
   "source": [
    "from sklearn.model_selection import train_test_split\n",
    "\n",
    "train_set, test_set = train_test_split(concrete, test_size=0.2, random_state=42)"
   ]
  },
  {
   "cell_type": "code",
   "execution_count": 277,
   "metadata": {},
   "outputs": [
    {
     "data": {
      "text/html": [
       "<div>\n",
       "<style scoped>\n",
       "    .dataframe tbody tr th:only-of-type {\n",
       "        vertical-align: middle;\n",
       "    }\n",
       "\n",
       "    .dataframe tbody tr th {\n",
       "        vertical-align: top;\n",
       "    }\n",
       "\n",
       "    .dataframe thead th {\n",
       "        text-align: right;\n",
       "    }\n",
       "</style>\n",
       "<table border=\"1\" class=\"dataframe\">\n",
       "  <thead>\n",
       "    <tr style=\"text-align: right;\">\n",
       "      <th></th>\n",
       "      <th>cement</th>\n",
       "      <th>slag</th>\n",
       "      <th>ash</th>\n",
       "      <th>water</th>\n",
       "      <th>superplastic</th>\n",
       "      <th>coarseagg</th>\n",
       "      <th>fineagg</th>\n",
       "      <th>age</th>\n",
       "      <th>strength</th>\n",
       "    </tr>\n",
       "  </thead>\n",
       "  <tbody>\n",
       "    <tr>\n",
       "      <th>655</th>\n",
       "      <td>-1.068113</td>\n",
       "      <td>2.030532</td>\n",
       "      <td>-0.900096</td>\n",
       "      <td>1.206213</td>\n",
       "      <td>-1.170115</td>\n",
       "      <td>0.010918</td>\n",
       "      <td>-1.108937</td>\n",
       "      <td>-0.155712</td>\n",
       "      <td>33.947730</td>\n",
       "    </tr>\n",
       "    <tr>\n",
       "      <th>1015</th>\n",
       "      <td>0.455280</td>\n",
       "      <td>0.857151</td>\n",
       "      <td>-0.900096</td>\n",
       "      <td>0.272043</td>\n",
       "      <td>0.418328</td>\n",
       "      <td>-0.305444</td>\n",
       "      <td>-0.884252</td>\n",
       "      <td>-0.155712</td>\n",
       "      <td>52.426376</td>\n",
       "    </tr>\n",
       "    <tr>\n",
       "      <th>188</th>\n",
       "      <td>-0.524505</td>\n",
       "      <td>-0.859035</td>\n",
       "      <td>0.602165</td>\n",
       "      <td>0.456238</td>\n",
       "      <td>-0.336649</td>\n",
       "      <td>-0.098651</td>\n",
       "      <td>1.253839</td>\n",
       "      <td>2.366763</td>\n",
       "      <td>40.713558</td>\n",
       "    </tr>\n",
       "    <tr>\n",
       "      <th>129</th>\n",
       "      <td>0.847624</td>\n",
       "      <td>1.323732</td>\n",
       "      <td>-0.900096</td>\n",
       "      <td>-0.831016</td>\n",
       "      <td>0.997642</td>\n",
       "      <td>-0.386463</td>\n",
       "      <td>-0.268697</td>\n",
       "      <td>-0.155712</td>\n",
       "      <td>71.298713</td>\n",
       "    </tr>\n",
       "    <tr>\n",
       "      <th>73</th>\n",
       "      <td>1.458155</td>\n",
       "      <td>0.368627</td>\n",
       "      <td>-0.900096</td>\n",
       "      <td>-1.543518</td>\n",
       "      <td>2.305772</td>\n",
       "      <td>-0.498347</td>\n",
       "      <td>0.368131</td>\n",
       "      <td>-1.031572</td>\n",
       "      <td>36.300911</td>\n",
       "    </tr>\n",
       "    <tr>\n",
       "      <th>...</th>\n",
       "      <td>...</td>\n",
       "      <td>...</td>\n",
       "      <td>...</td>\n",
       "      <td>...</td>\n",
       "      <td>...</td>\n",
       "      <td>...</td>\n",
       "      <td>...</td>\n",
       "      <td>...</td>\n",
       "      <td>...</td>\n",
       "    </tr>\n",
       "    <tr>\n",
       "      <th>778</th>\n",
       "      <td>0.186216</td>\n",
       "      <td>-0.859035</td>\n",
       "      <td>-0.900096</td>\n",
       "      <td>0.229821</td>\n",
       "      <td>-1.170115</td>\n",
       "      <td>1.212062</td>\n",
       "      <td>-0.093204</td>\n",
       "      <td>-0.891435</td>\n",
       "      <td>14.796155</td>\n",
       "    </tr>\n",
       "    <tr>\n",
       "      <th>812</th>\n",
       "      <td>0.332978</td>\n",
       "      <td>-0.859035</td>\n",
       "      <td>-0.900096</td>\n",
       "      <td>0.599267</td>\n",
       "      <td>-1.170115</td>\n",
       "      <td>-0.061100</td>\n",
       "      <td>0.983686</td>\n",
       "      <td>2.016419</td>\n",
       "      <td>34.680643</td>\n",
       "    </tr>\n",
       "    <tr>\n",
       "      <th>987</th>\n",
       "      <td>-1.115077</td>\n",
       "      <td>1.336436</td>\n",
       "      <td>1.401392</td>\n",
       "      <td>-0.097402</td>\n",
       "      <td>2.343147</td>\n",
       "      <td>-1.757363</td>\n",
       "      <td>-0.460144</td>\n",
       "      <td>-0.155712</td>\n",
       "      <td>33.762261</td>\n",
       "    </tr>\n",
       "    <tr>\n",
       "      <th>599</th>\n",
       "      <td>0.616718</td>\n",
       "      <td>-0.859035</td>\n",
       "      <td>-0.900096</td>\n",
       "      <td>0.863156</td>\n",
       "      <td>-1.170115</td>\n",
       "      <td>-0.086820</td>\n",
       "      <td>0.066336</td>\n",
       "      <td>-0.891435</td>\n",
       "      <td>20.966965</td>\n",
       "    </tr>\n",
       "    <tr>\n",
       "      <th>969</th>\n",
       "      <td>-0.095568</td>\n",
       "      <td>0.437921</td>\n",
       "      <td>0.459662</td>\n",
       "      <td>-0.144903</td>\n",
       "      <td>0.773392</td>\n",
       "      <td>-0.836571</td>\n",
       "      <td>-0.418929</td>\n",
       "      <td>-0.155712</td>\n",
       "      <td>39.421480</td>\n",
       "    </tr>\n",
       "  </tbody>\n",
       "</table>\n",
       "<p>190 rows × 9 columns</p>\n",
       "</div>"
      ],
      "text/plain": [
       "        cement      slag       ash     water  superplastic  coarseagg  \\\n",
       "655  -1.068113  2.030532 -0.900096  1.206213     -1.170115   0.010918   \n",
       "1015  0.455280  0.857151 -0.900096  0.272043      0.418328  -0.305444   \n",
       "188  -0.524505 -0.859035  0.602165  0.456238     -0.336649  -0.098651   \n",
       "129   0.847624  1.323732 -0.900096 -0.831016      0.997642  -0.386463   \n",
       "73    1.458155  0.368627 -0.900096 -1.543518      2.305772  -0.498347   \n",
       "...        ...       ...       ...       ...           ...        ...   \n",
       "778   0.186216 -0.859035 -0.900096  0.229821     -1.170115   1.212062   \n",
       "812   0.332978 -0.859035 -0.900096  0.599267     -1.170115  -0.061100   \n",
       "987  -1.115077  1.336436  1.401392 -0.097402      2.343147  -1.757363   \n",
       "599   0.616718 -0.859035 -0.900096  0.863156     -1.170115  -0.086820   \n",
       "969  -0.095568  0.437921  0.459662 -0.144903      0.773392  -0.836571   \n",
       "\n",
       "       fineagg       age   strength  \n",
       "655  -1.108937 -0.155712  33.947730  \n",
       "1015 -0.884252 -0.155712  52.426376  \n",
       "188   1.253839  2.366763  40.713558  \n",
       "129  -0.268697 -0.155712  71.298713  \n",
       "73    0.368131 -1.031572  36.300911  \n",
       "...        ...       ...        ...  \n",
       "778  -0.093204 -0.891435  14.796155  \n",
       "812   0.983686  2.016419  34.680643  \n",
       "987  -0.460144 -0.155712  33.762261  \n",
       "599   0.066336 -0.891435  20.966965  \n",
       "969  -0.418929 -0.155712  39.421480  \n",
       "\n",
       "[190 rows x 9 columns]"
      ]
     },
     "execution_count": 277,
     "metadata": {},
     "output_type": "execute_result"
    }
   ],
   "source": [
    "test_set"
   ]
  },
  {
   "cell_type": "code",
   "execution_count": 278,
   "metadata": {},
   "outputs": [],
   "source": [
    "concrete_prepared = train_set.drop(\"strength\", axis=1)\n",
    "concrete_label = train_set['strength']"
   ]
  },
  {
   "cell_type": "code",
   "execution_count": 279,
   "metadata": {},
   "outputs": [
    {
     "data": {
      "text/plain": [
       "LinearRegression()"
      ]
     },
     "execution_count": 279,
     "metadata": {},
     "output_type": "execute_result"
    }
   ],
   "source": [
    "from sklearn.linear_model import LinearRegression\n",
    "\n",
    "lin_reg = LinearRegression()\n",
    "lin_reg.fit(concrete_prepared, concrete_label)"
   ]
  },
  {
   "cell_type": "code",
   "execution_count": 280,
   "metadata": {},
   "outputs": [
    {
     "data": {
      "text/plain": [
       "8.09130880500962"
      ]
     },
     "execution_count": 280,
     "metadata": {},
     "output_type": "execute_result"
    }
   ],
   "source": [
    "from sklearn.metrics import mean_squared_error\n",
    "\n",
    "concrete_predictions = lin_reg.predict(concrete_prepared) #선형 회귀모델에 적용\n",
    "lin_rmse = mean_squared_error(concrete_label, concrete_predictions, squared=False) #squared모델을 적용 MSE 모델임 #기본 디폴트가 제곱이라 false하면 제곱근을 굳이 안 구해도 된다.\n",
    "lin_rmse #mse에서 squared를 해줘서 작게나옴"
   ]
  },
  {
   "cell_type": "code",
   "execution_count": 281,
   "metadata": {},
   "outputs": [
    {
     "data": {
      "text/plain": [
       "1.0029987120513704"
      ]
     },
     "execution_count": 281,
     "metadata": {},
     "output_type": "execute_result"
    }
   ],
   "source": [
    "from sklearn.tree import DecisionTreeRegressor #트리 회귀 모델\n",
    "\n",
    "tree_reg = DecisionTreeRegressor(random_state=42)\n",
    "tree_reg.fit(concrete_prepared, concrete_label) #treereg에 훈련데이터 정답데이터 넣기\n",
    "concrete_predictions = tree_reg.predict(concrete_prepared)\n",
    "\n",
    "tree_rmse = mean_squared_error(concrete_label, concrete_predictions, squared=False)\n",
    "tree_rmse"
   ]
  },
  {
   "cell_type": "code",
   "execution_count": 282,
   "metadata": {},
   "outputs": [],
   "source": [
    "forest_reg = RandomForestRegressor(random_state=42)\n",
    "grid_search = GridSearchCV(forest_reg, param_grid, scoring='neg_mean_squared_error', cv=5,\n",
    "                           return_train_score=True, n_jobs = -1) # 검사할 하이퍼 파라미터 (12 + 6) * 5"
   ]
  },
  {
   "cell_type": "code",
   "execution_count": 283,
   "metadata": {},
   "outputs": [
    {
     "data": {
      "text/plain": [
       "GridSearchCV(cv=5, estimator=RandomForestRegressor(random_state=42), n_jobs=-1,\n",
       "             param_grid=[{'max_features': [2, 4, 6, 8],\n",
       "                          'n_estimators': [50, 100, 200]}],\n",
       "             return_train_score=True, scoring='neg_mean_squared_error')"
      ]
     },
     "execution_count": 283,
     "metadata": {},
     "output_type": "execute_result"
    }
   ],
   "source": [
    "grid_search.fit(concrete_prepared, concrete_label)"
   ]
  },
  {
   "cell_type": "code",
   "execution_count": 284,
   "metadata": {},
   "outputs": [
    {
     "data": {
      "text/plain": [
       "{'max_features': 4, 'n_estimators': 100}"
      ]
     },
     "execution_count": 284,
     "metadata": {},
     "output_type": "execute_result"
    }
   ],
   "source": [
    "grid_search.best_params_"
   ]
  },
  {
   "cell_type": "code",
   "execution_count": 285,
   "metadata": {},
   "outputs": [],
   "source": [
    "final_model = grid_search.best_estimator_"
   ]
  },
  {
   "cell_type": "code",
   "execution_count": 286,
   "metadata": {},
   "outputs": [
    {
     "data": {
      "text/plain": [
       "RandomForestRegressor(max_features=4, random_state=42)"
      ]
     },
     "execution_count": 286,
     "metadata": {},
     "output_type": "execute_result"
    }
   ],
   "source": [
    "final_model"
   ]
  },
  {
   "cell_type": "code",
   "execution_count": 287,
   "metadata": {},
   "outputs": [],
   "source": [
    "final_model = grid_search.best_estimator_\n",
    "X_test = test_set.drop('strength', axis=1)\n",
    "y_test = test_set['strength'].copy()"
   ]
  },
  {
   "cell_type": "code",
   "execution_count": 288,
   "metadata": {},
   "outputs": [
    {
     "data": {
      "text/html": [
       "<div>\n",
       "<style scoped>\n",
       "    .dataframe tbody tr th:only-of-type {\n",
       "        vertical-align: middle;\n",
       "    }\n",
       "\n",
       "    .dataframe tbody tr th {\n",
       "        vertical-align: top;\n",
       "    }\n",
       "\n",
       "    .dataframe thead th {\n",
       "        text-align: right;\n",
       "    }\n",
       "</style>\n",
       "<table border=\"1\" class=\"dataframe\">\n",
       "  <thead>\n",
       "    <tr style=\"text-align: right;\">\n",
       "      <th></th>\n",
       "      <th>cement</th>\n",
       "      <th>slag</th>\n",
       "      <th>ash</th>\n",
       "      <th>water</th>\n",
       "      <th>superplastic</th>\n",
       "      <th>coarseagg</th>\n",
       "      <th>fineagg</th>\n",
       "      <th>age</th>\n",
       "    </tr>\n",
       "  </thead>\n",
       "  <tbody>\n",
       "    <tr>\n",
       "      <th>655</th>\n",
       "      <td>-1.068113</td>\n",
       "      <td>2.030532</td>\n",
       "      <td>-0.900096</td>\n",
       "      <td>1.206213</td>\n",
       "      <td>-1.170115</td>\n",
       "      <td>0.010918</td>\n",
       "      <td>-1.108937</td>\n",
       "      <td>-0.155712</td>\n",
       "    </tr>\n",
       "    <tr>\n",
       "      <th>1015</th>\n",
       "      <td>0.455280</td>\n",
       "      <td>0.857151</td>\n",
       "      <td>-0.900096</td>\n",
       "      <td>0.272043</td>\n",
       "      <td>0.418328</td>\n",
       "      <td>-0.305444</td>\n",
       "      <td>-0.884252</td>\n",
       "      <td>-0.155712</td>\n",
       "    </tr>\n",
       "    <tr>\n",
       "      <th>188</th>\n",
       "      <td>-0.524505</td>\n",
       "      <td>-0.859035</td>\n",
       "      <td>0.602165</td>\n",
       "      <td>0.456238</td>\n",
       "      <td>-0.336649</td>\n",
       "      <td>-0.098651</td>\n",
       "      <td>1.253839</td>\n",
       "      <td>2.366763</td>\n",
       "    </tr>\n",
       "    <tr>\n",
       "      <th>129</th>\n",
       "      <td>0.847624</td>\n",
       "      <td>1.323732</td>\n",
       "      <td>-0.900096</td>\n",
       "      <td>-0.831016</td>\n",
       "      <td>0.997642</td>\n",
       "      <td>-0.386463</td>\n",
       "      <td>-0.268697</td>\n",
       "      <td>-0.155712</td>\n",
       "    </tr>\n",
       "    <tr>\n",
       "      <th>73</th>\n",
       "      <td>1.458155</td>\n",
       "      <td>0.368627</td>\n",
       "      <td>-0.900096</td>\n",
       "      <td>-1.543518</td>\n",
       "      <td>2.305772</td>\n",
       "      <td>-0.498347</td>\n",
       "      <td>0.368131</td>\n",
       "      <td>-1.031572</td>\n",
       "    </tr>\n",
       "    <tr>\n",
       "      <th>...</th>\n",
       "      <td>...</td>\n",
       "      <td>...</td>\n",
       "      <td>...</td>\n",
       "      <td>...</td>\n",
       "      <td>...</td>\n",
       "      <td>...</td>\n",
       "      <td>...</td>\n",
       "      <td>...</td>\n",
       "    </tr>\n",
       "    <tr>\n",
       "      <th>778</th>\n",
       "      <td>0.186216</td>\n",
       "      <td>-0.859035</td>\n",
       "      <td>-0.900096</td>\n",
       "      <td>0.229821</td>\n",
       "      <td>-1.170115</td>\n",
       "      <td>1.212062</td>\n",
       "      <td>-0.093204</td>\n",
       "      <td>-0.891435</td>\n",
       "    </tr>\n",
       "    <tr>\n",
       "      <th>812</th>\n",
       "      <td>0.332978</td>\n",
       "      <td>-0.859035</td>\n",
       "      <td>-0.900096</td>\n",
       "      <td>0.599267</td>\n",
       "      <td>-1.170115</td>\n",
       "      <td>-0.061100</td>\n",
       "      <td>0.983686</td>\n",
       "      <td>2.016419</td>\n",
       "    </tr>\n",
       "    <tr>\n",
       "      <th>987</th>\n",
       "      <td>-1.115077</td>\n",
       "      <td>1.336436</td>\n",
       "      <td>1.401392</td>\n",
       "      <td>-0.097402</td>\n",
       "      <td>2.343147</td>\n",
       "      <td>-1.757363</td>\n",
       "      <td>-0.460144</td>\n",
       "      <td>-0.155712</td>\n",
       "    </tr>\n",
       "    <tr>\n",
       "      <th>599</th>\n",
       "      <td>0.616718</td>\n",
       "      <td>-0.859035</td>\n",
       "      <td>-0.900096</td>\n",
       "      <td>0.863156</td>\n",
       "      <td>-1.170115</td>\n",
       "      <td>-0.086820</td>\n",
       "      <td>0.066336</td>\n",
       "      <td>-0.891435</td>\n",
       "    </tr>\n",
       "    <tr>\n",
       "      <th>969</th>\n",
       "      <td>-0.095568</td>\n",
       "      <td>0.437921</td>\n",
       "      <td>0.459662</td>\n",
       "      <td>-0.144903</td>\n",
       "      <td>0.773392</td>\n",
       "      <td>-0.836571</td>\n",
       "      <td>-0.418929</td>\n",
       "      <td>-0.155712</td>\n",
       "    </tr>\n",
       "  </tbody>\n",
       "</table>\n",
       "<p>190 rows × 8 columns</p>\n",
       "</div>"
      ],
      "text/plain": [
       "        cement      slag       ash     water  superplastic  coarseagg  \\\n",
       "655  -1.068113  2.030532 -0.900096  1.206213     -1.170115   0.010918   \n",
       "1015  0.455280  0.857151 -0.900096  0.272043      0.418328  -0.305444   \n",
       "188  -0.524505 -0.859035  0.602165  0.456238     -0.336649  -0.098651   \n",
       "129   0.847624  1.323732 -0.900096 -0.831016      0.997642  -0.386463   \n",
       "73    1.458155  0.368627 -0.900096 -1.543518      2.305772  -0.498347   \n",
       "...        ...       ...       ...       ...           ...        ...   \n",
       "778   0.186216 -0.859035 -0.900096  0.229821     -1.170115   1.212062   \n",
       "812   0.332978 -0.859035 -0.900096  0.599267     -1.170115  -0.061100   \n",
       "987  -1.115077  1.336436  1.401392 -0.097402      2.343147  -1.757363   \n",
       "599   0.616718 -0.859035 -0.900096  0.863156     -1.170115  -0.086820   \n",
       "969  -0.095568  0.437921  0.459662 -0.144903      0.773392  -0.836571   \n",
       "\n",
       "       fineagg       age  \n",
       "655  -1.108937 -0.155712  \n",
       "1015 -0.884252 -0.155712  \n",
       "188   1.253839  2.366763  \n",
       "129  -0.268697 -0.155712  \n",
       "73    0.368131 -1.031572  \n",
       "...        ...       ...  \n",
       "778  -0.093204 -0.891435  \n",
       "812   0.983686  2.016419  \n",
       "987  -0.460144 -0.155712  \n",
       "599   0.066336 -0.891435  \n",
       "969  -0.418929 -0.155712  \n",
       "\n",
       "[190 rows x 8 columns]"
      ]
     },
     "execution_count": 288,
     "metadata": {},
     "output_type": "execute_result"
    }
   ],
   "source": [
    "X_test"
   ]
  },
  {
   "cell_type": "code",
   "execution_count": 289,
   "metadata": {
    "scrolled": true
   },
   "outputs": [
    {
     "data": {
      "text/plain": [
       "array([33.93192013, 46.50434951, 34.67492015, 71.46570425, 34.89142054,\n",
       "       16.65203819, 14.47616915, 65.51166826, 36.43087664, 24.81328582,\n",
       "       32.16368308, 15.09013374, 42.38194493, 11.74789883, 51.35313479,\n",
       "       37.01050631, 26.76506532, 36.89593575, 34.2898478 , 38.37673748,\n",
       "       11.03914705, 35.05753107, 28.84986148, 68.82896679, 29.33231542,\n",
       "       23.93040196, 38.58070516, 24.83914511, 34.47975018, 57.05140818,\n",
       "       24.99987576, 41.36189966, 48.22588474, 37.26900465, 28.01527147,\n",
       "       48.36505908, 38.1929478 , 41.20660209, 22.38225255, 28.0868046 ,\n",
       "       47.61629504, 35.9381436 , 33.37112103, 50.55368343, 35.15464376,\n",
       "       50.14588891, 57.12898063, 21.294811  , 47.66308222, 21.67221046,\n",
       "       13.82062226, 61.87908024, 44.52770751, 43.27385798, 24.01886862,\n",
       "       31.60772017, 35.28878526, 23.63380908, 37.27000439, 15.15205262,\n",
       "       23.19290395, 31.99463736, 24.01011228, 45.35344859, 39.85389548,\n",
       "       16.92840775, 45.89426864, 36.12120638, 59.81545591, 61.89538781,\n",
       "       16.68501386, 38.82583456, 40.13449449, 43.46245232, 49.17311313,\n",
       "       25.24087914, 56.65721456, 41.97246875, 10.77038733, 29.50436036,\n",
       "       36.80500799, 18.31747437, 51.87687061, 56.65747656, 52.52986644,\n",
       "       64.3042441 , 24.65122153, 41.92076133, 35.34755225, 44.16612266,\n",
       "       19.37232537, 48.36549345, 41.4674939 , 33.68135076, 28.48190685,\n",
       "       15.73066679, 35.79154722, 27.80252675, 24.977061  , 55.21558919,\n",
       "       52.23000298, 29.42985558, 46.50292919, 32.75038579, 54.07453892,\n",
       "       37.04959369, 14.2728082 , 20.53106464, 33.01150414, 29.09919668,\n",
       "       43.26149863, 59.4727036 , 24.65997788, 42.96286293, 40.03514789,\n",
       "       39.26350966, 34.71297134, 15.84657263, 19.92431197, 51.11739901,\n",
       "       33.85227875, 27.24700215, 43.76801167, 35.83841779, 26.39348602,\n",
       "       25.80803816,  8.93679978, 30.81406139, 36.25290417, 42.32473517,\n",
       "       31.35631358, 35.56288414, 69.71121141, 19.22448694, 59.89345042,\n",
       "       20.05016203, 44.9854201 , 54.10014803, 37.67648201, 36.82329683,\n",
       "       53.12059568, 29.71961477, 52.67401614, 25.23143627, 29.2954905 ,\n",
       "       33.87368009, 31.99122445, 32.60820008, 31.94465035, 16.51910722,\n",
       "       24.65122153, 51.95254848, 12.88185636, 58.22036795, 60.57639609,\n",
       "       42.12266223, 11.34958559, 15.89468722, 31.85530017, 45.37124627,\n",
       "       30.42153581, 47.12484344, 45.27334166, 22.06121972, 29.09151592,\n",
       "       39.87280387, 16.0172859 , 11.48553449, 38.72799103, 14.3507052 ,\n",
       "       32.7112994 , 50.99642355, 31.64900993, 35.29451776, 18.72115074,\n",
       "       39.86059621,  7.1652828 , 35.42253671, 54.24515862, 33.44085464,\n",
       "       36.15019884, 55.14975064, 30.28546083, 27.30288418, 41.53735751,\n",
       "       17.43204929, 34.01456072, 33.15012329, 17.4749081 , 42.24489385])"
      ]
     },
     "execution_count": 289,
     "metadata": {},
     "output_type": "execute_result"
    }
   ],
   "source": [
    "final_predictions = final_model.predict(X_test)\n",
    "final_predictions"
   ]
  },
  {
   "cell_type": "code",
   "execution_count": 292,
   "metadata": {},
   "outputs": [
    {
     "data": {
      "text/plain": [
       "0.8814897891373489"
      ]
     },
     "execution_count": 292,
     "metadata": {},
     "output_type": "execute_result"
    }
   ],
   "source": [
    "final_model.score(X_test, y_test)"
   ]
  },
  {
   "cell_type": "code",
   "execution_count": 290,
   "metadata": {},
   "outputs": [
    {
     "data": {
      "text/plain": [
       "0.8814897891373489"
      ]
     },
     "execution_count": 290,
     "metadata": {},
     "output_type": "execute_result"
    }
   ],
   "source": [
    "rmse = mean_squared_error(y_test, final_predictions, squared=False)\n",
    "rmse\n",
    "\n",
    "from sklearn.metrics import r2_score\n",
    "r2_score(y_test, final_predictions)"
   ]
  },
  {
   "cell_type": "code",
   "execution_count": 291,
   "metadata": {},
   "outputs": [
    {
     "data": {
      "text/plain": [
       "8.09130880500962"
      ]
     },
     "execution_count": 291,
     "metadata": {},
     "output_type": "execute_result"
    }
   ],
   "source": [
    "from sklearn.metrics import mean_squared_error\n",
    "\n",
    "concrete_predictions = lin_reg.predict(concrete_prepared) #선형 회귀모델에 적용\n",
    "lin_rmse = mean_squared_error(concrete_label, concrete_predictions, squared=False) #squared모델을 적용 MSE 모델임 #기본 디폴트가 제곱이라 false하면 제곱근을 굳이 안 구해도 된다.\n",
    "lin_rmse #mse에서 squared를 해줘서 작게나옴"
   ]
  },
  {
   "cell_type": "markdown",
   "metadata": {},
   "source": [
    "### 성능지표는 거리를 비교하는 것이다 거리가 짧으면 좋기에 낮은 값이더 좋다."
   ]
  },
  {
   "cell_type": "code",
   "execution_count": 294,
   "metadata": {},
   "outputs": [],
   "source": [
    "from sklearn.metrics import confusion_matrix"
   ]
  },
  {
   "cell_type": "code",
   "execution_count": null,
   "metadata": {},
   "outputs": [],
   "source": [
    "confusion_matrix(y_train_5, y_train_pre)"
   ]
  }
 ],
 "metadata": {
  "kernelspec": {
   "display_name": "Python 3",
   "language": "python",
   "name": "python3"
  },
  "language_info": {
   "codemirror_mode": {
    "name": "ipython",
    "version": 3
   },
   "file_extension": ".py",
   "mimetype": "text/x-python",
   "name": "python",
   "nbconvert_exporter": "python",
   "pygments_lexer": "ipython3",
   "version": "3.8.8"
  },
  "varInspector": {
   "cols": {
    "lenName": 16,
    "lenType": 16,
    "lenVar": 40
   },
   "kernels_config": {
    "python": {
     "delete_cmd_postfix": "",
     "delete_cmd_prefix": "del ",
     "library": "var_list.py",
     "varRefreshCmd": "print(var_dic_list())"
    },
    "r": {
     "delete_cmd_postfix": ") ",
     "delete_cmd_prefix": "rm(",
     "library": "var_list.r",
     "varRefreshCmd": "cat(var_dic_list()) "
    }
   },
   "types_to_exclude": [
    "module",
    "function",
    "builtin_function_or_method",
    "instance",
    "_Feature"
   ],
   "window_display": false
  }
 },
 "nbformat": 4,
 "nbformat_minor": 2
}
